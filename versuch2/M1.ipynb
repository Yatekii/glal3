{
 "cells": [
  {
   "cell_type": "raw",
   "metadata": {},
   "source": [
    "\\tableofcontents\n",
    "\\newpage"
   ]
  },
  {
   "cell_type": "code",
   "execution_count": 1,
   "metadata": {
    "ExecuteTime": {
     "end_time": "2016-11-30T22:59:25.949201",
     "start_time": "2016-11-30T22:59:25.340803"
    },
    "code_folding": [
     0
    ],
    "collapsed": false
   },
   "outputs": [],
   "source": [
    "# Preparations\n",
    "import math\n",
    "import pandas as pd\n",
    "import matplotlib.pyplot as plt\n",
    "import matplotlib.patches as mpatches\n",
    "import numpy as np\n",
    "from scipy import stats\n",
    "from scipy.optimize import curve_fit\n",
    "import seaborn as sns\n",
    "from IPython.display import Latex\n",
    "import warnings\n",
    "from PrettyTable import PrettyTable\n",
    "from functools import partial\n",
    "from PrettyFigure import PrettyFigure\n",
    "warnings.filterwarnings(\"ignore\", module=\"matplotlib\")\n",
    "%matplotlib inline\n",
    "%config InlineBackend.figure_format = 'svg'\n",
    "plt.rcParams['savefig.dpi'] = 75\n",
    "\n",
    "# plt.rcParams['figure.autolayout'] = False\n",
    "# plt.rcParams['figure.figsize'] = 10, 6\n",
    "plt.rcParams['axes.labelsize'] = 18\n",
    "plt.rcParams['axes.titlesize'] = 20\n",
    "plt.rcParams['font.size'] = 16\n",
    "plt.rcParams['lines.linewidth'] = 2.0\n",
    "plt.rcParams['lines.markersize'] = 8\n",
    "plt.rcParams['legend.fontsize'] = 14\n",
    "\n",
    "plt.rcParams['text.usetex'] = True\n",
    "plt.rcParams['text.latex.unicode'] = True\n",
    "plt.rcParams['font.family'] = \"STIX\"\n",
    "plt.rcParams['text.latex.preamble'] = \"\\\\usepackage{subdepth}, \\\\usepackage{type1cm}\"\n",
    "\n",
    "sns.set(color_codes=True)\n",
    "\n",
    "def average(data):\n",
    "    return 1 / len(data) * sum(data)\n",
    "\n",
    "def error(data, average_of_data):\n",
    "    s = sum([(x - average_of_data)**2 for x in data])\n",
    "    return math.sqrt(s / (len(data) * (len(data) - 1)))\n",
    "\n",
    "def std_deviation(error_of_average, length_of_dataset):\n",
    "    return error_of_average * math.sqrt(length_of_dataset)\n",
    "\n",
    "def average_with_weights(data, weights):\n",
    "    d = data\n",
    "    w = weights\n",
    "    return (d * w**-2).sum() / (w**-2).sum()\n",
    "\n",
    "def error_with_weights(weights):\n",
    "    w = weights\n",
    "    return 1 / math.sqrt((w**-2).sum())\n",
    "\n",
    "def wavg(group, avg_name, weight_name):\n",
    "    d = group[avg_name]\n",
    "    w = group[weight_name]\n",
    "    return (d * w**-2).sum() / (w**-2).sum()\n",
    "\n",
    "def werr(group, weight_name):\n",
    "    return 1 / math.sqrt((group[weight_name]**-2).sum())"
   ]
  },
  {
   "cell_type": "markdown",
   "metadata": {},
   "source": [
    "# Arbeitsgrundlagen\n",
    "\n",
    "Im Versuch M1 geht es darum die Geschwindigkeit einer Pistolenkugel auf verschiedene Arten zu bestimmen. Dabei gibt es noch verschiedene Arten von Geschwindigkeiten.\n",
    "Die gesamten Formeln und Illustrationen dazu wurden aus den Unterlagen des Dozenten entnommen.\n",
    "\n",
    "## Flugzeitmethode\n",
    "\n",
    "Die __mittlere Geschwindigkeit__ eines Objektes kann durch \\ref{eq:velocity} berechnet werden.\n",
    "\n",
    "\\begin{equation}\n",
    "\\overline{v} = \\frac{s}{t}\n",
    "\\label{eq:velocity}\n",
    "\\end{equation}\n",
    "\n",
    "Wenn also die Abschusszeit und die Aufprallzeit, sowie die Flugstrecke bekannt sind, so kann die Zeitdifferenz und somit die mittlere Fluggeschwindigkeit des Geschosses ermittelt werden."
   ]
  },
  {
   "cell_type": "markdown",
   "metadata": {},
   "source": [
    "## Ballistische Methode\n",
    "\n",
    "Bei dieser Methode wird ein Schuss auf ein hängendes Pendel abgegeben. Die Gleichungen im folgenden Abschnitt wurden durch den Dozenten zur Verfügung gestellt.\n",
    "\n",
    "Der Impuls p ist gegeben durch die Gleichung in \\ref{eq:impulse}. Dieser Impuls kann beim Aufprall der Pistolenkugel auf ein ballistisches Pendel gemessen werden. Durch den erheblichen Massenunterschied der Kugel und des Pendels bleibt die Kugel stecken. Ein inelastischer Stoss resultiert. Aus diesem Grund wird die komplette kinetische Energie in Wärme umgewandelt. Der Energieerhaltungssatz ist hier also schwierig anwendbar.\n",
    "\n",
    "\\begin{equation}\n",
    "p = mv = (m + M)\\cdot u\n",
    "\\label{eq:impulse}\n",
    "\\end{equation}\n",
    "\n",
    "Die verbleibende kinetische Energie wird beim Ausschlagen des Pendels in potentielle Hubenergie umgewandelt.\n",
    "Mithilfe des Energiesatzes wird die Geschwindigkeit u durch die Hubhöhe h mit Gleichung \\ref{eq:hubheight} ersetzt.\n",
    "\n",
    "\\begin{equation}\n",
    "u = \\sqrt{2gh}\n",
    "\\label{eq:hubheight}\n",
    "\\end{equation}\n",
    "\n",
    "![Ballistische Methode](images/pendulum.png)\n",
    "\n",
    "Aus Grafik 1 können die Gleichungen \\ref{eq:h} und \\ref{eq:cosphi} bestimmt werden.\n",
    "\n",
    "\\begin{equation}\n",
    "h = l \\cdot (1 - cos\\varphi)\n",
    "\\label{eq:h}\n",
    "\\end{equation}\n",
    "\n",
    "\\begin{equation}\n",
    "\\cos\\varphi = \\frac{a}{\\sqrt{a^2 + x^2}}\n",
    "\\label{eq:cosphi}\n",
    "\\end{equation}\n",
    "\n",
    "Da der Schwerpunkt und somit die Länge l des Pendels nur ungenau ermittelt werden können, wird ein Umweg über die Schwingungsdauer T ersichtlich in \\ref{eq:Schwingungsdauer} gewählt.\n",
    "\n",
    "\\begin{equation}\n",
    "T = 2\\pi\\cdot\\sqrt{\\frac{l}{g}}\n",
    "\\label{eq:Schwingungsdauer}\n",
    "\\end{equation}\n",
    "\n",
    "Daraus resultiert die Gleichung \\ref{eq:u}.\n",
    "\n",
    "\\begin{equation}\n",
    "u = \\frac{g}{2\\pi}\\cdot T\\cdot\\sqrt{2\\cdot\\Bigg(1-\\frac{1}{\\sqrt{1 + (\\frac{x}{a})^2}}\\Bigg)}\n",
    "\\label{eq:u}\n",
    "\\end{equation}\n",
    "\n",
    "Mit je einer Taylorentwicklung kann die Gleichung \\ref{eq:u} auf Gleichung \\ref{eq:u_taylor} angenähert werden.\n",
    "\n",
    "\\begin{equation}\n",
    "u = \\frac{g}{2\\pi}\\cdot\\frac{M+m}{m}\\cdot T\\cdot\\frac{x}{a}\\cdot\\Bigg[1-\\frac{3}{8}\\cdot\\Big(\\frac{x}{a}\\Big)^2\\Bigg]\n",
    "\\label{eq:u_taylor}\n",
    "\\end{equation}\n",
    "\n",
    "Da die Taylorreihe nur bis zum Grad 2 entwickelt wurde, wäre der nächste Term der Grössenordnung $10^{-4}$. Es ergibt sich also ein sehr genauer Wert.\n",
    "\n",
    "Somit sind während des Experimentes die Grössen m, M, a, x und T zu bestimmen."
   ]
  },
  {
   "cell_type": "markdown",
   "metadata": {},
   "source": [
    "## Drehstossmethode\n",
    "\n",
    "Bei dieser Methode wird ein Geschoss wie in Abbildung 2 gezeigt ein Geschoss auf eine um eine starre Achse frei drehbar gelagerte Hantel abgeschossen. Die Gleichungen im folgenden Abschnitt wurden durch den Dozenten zur Verfügung gestellt.\n",
    "\n",
    "![Drehstossmethode](images/drehstoss.png)\n",
    "\n",
    "Für eine mit v geradlinig bewegte Punktmasse m kann der Drehimpuls bezüglich der Drehachse a mit Gleichung \\ref{eq:drehimpuls} bestimmt werden.\n",
    "\n",
    "\\begin{equation}\n",
    "\\vec{L_a}=\\vec{r}\\times\\vec{p}=m\\cdot (\\vec{r}\\times\\vec{v})\n",
    "\\label{eq:drehimpuls}\n",
    "\\end{equation}\n",
    "\n",
    "Ferner ist bekannt, dass wie in Gleichung \\ref{eq:gesamtdrehimpuls} beschrieben, der Gesamtdrehimpuls des Systems erhalten bleibt.\n",
    "\n",
    "\\begin{equation}\n",
    "L_a=L_{a,Kugel}+L_{a,Hantel}=const.\n",
    "\\label{eq:gesamtdrehimpuls}\n",
    "\\end{equation}\n",
    "\n",
    "Daraus folgt, dass für die anfänglich ruhende Hantel Gleichung \\ref{eq:ruhe} gilt welche dann gleichzusetzen ist mit der Gleichung \\ref{eq:bewegung} der bewegten Hantel nach dem Aufprall.\n",
    "\n",
    "\\begin{equation}\n",
    "L_a=m\\cdot d\\cdot v+0\n",
    "\\label{eq:ruhe}\n",
    "\\end{equation}\n",
    "\n",
    "\\begin{equation}\n",
    "L_a=\\omega\\cdot(I_{a,H}+m\\cdot d^2)\n",
    "\\label{eq:bewegung}\n",
    "\\end{equation}\n",
    "\n",
    "Daraus abgeleitet ergibt sich für die Geschwindigkeit der Pistolenkugel beim Aufprall die Gleichung \\ref{eq:vdrehstoss}, wobei $I_{a,H}$ dem Inneren Moment der Hantel bezüglich a und $\\omega$ der Winkelgeschwingikeit der Hantel um die Achse a entspricht.\n",
    "\n",
    "\\begin{equation}\n",
    "v=\\omega\\cdot\\bigg(\\frac{I_{a,H}}{m\\cdot d}+d\\bigg)\n",
    "\\label{eq:vdrehstoss}\n",
    "\\end{equation}\n",
    "\n",
    "Somit sind für dieses Experiment die Grössen $I_{a,H}$, m, d und $\\omega$ zu bestimmen.\n",
    "\n",
    "$I_{a,H}$ kann bestimmt werden mit Gleichung \\ref{eq:inertia}. Hierbei ist $I{a,H_0}$ das Moment der Hantel ohne Gewichte. Es wird durch den Dozenten geliefert. $m$ ist die Masse eines Gewichtes und $d$ der Abstand zum Mittelpunkt der Hantel. Die Gleichung kann hergeleitet werden durch das Innere Moment einer Punktmasse erhalten mit Gleichung \\ref{eq:J_punktmasse}. Da zwei Gewichte vorhanden sind wird dieses doppelt addiert und dem Moment der Hantel ohne Gewichte hinzugefügt.\n",
    "\n",
    "\\begin{equation}\n",
    "I_{a,P}=m*r^2\n",
    "\\label{eq:J_punktmasse}\n",
    "\\end{equation}\n",
    "\n",
    "\\begin{equation}\n",
    "I_{a,H}=2*m*d^2 + I{a,H_0}\n",
    "\\label{eq:inertia}\n",
    "\\end{equation}"
   ]
  },
  {
   "cell_type": "markdown",
   "metadata": {},
   "source": [
    "## Einfluss des Luftwiderstandes auf die Geschossgeschwindigkeit\n",
    "\n",
    "Bisher wurde gezeigt wie die mittlere, sowie die Aufprallgeschwindigkeit ermittelt werden können. Interessant ist aber auch die Mündungsgeschwindigkeit des Geschosses. Zur berechnung dieser wurden die Gleichungen im Folgenden durch den Dozenten zur Verfügung gestellt.\n",
    "\n",
    "Diese kann man sehr gut über den wirkenden Luftwiderstand bestimmen. Der Luftwiderstand ist gegeben durch die Beziehung in \\ref{eq:luftwiderstand}, wobei v die Momentangeschwidigkeit des Geschosses, A die Querschnittfläche jenes Geschosses, $\\rho_L$ die Luftdichte und c_w der Widerstandsbeiwert des Projektils sind.\n",
    "\n",
    "\\begin{equation}\n",
    "F_L=\\frac{1}{2}c_\\omega\\cdot A\\cdot\\rho_L\\cdot v^2\n",
    "\\label{eq:luftwiderstand}\n",
    "\\end{equation}\n",
    "\n",
    "Das Projektil verliert ebensoviel Kinetische Energie wie der Luftwiderstand Bremsarbeit verrichtet. Dies is mit Gleichungen \\ref{eq:kinetische_energie} und \\ref{eq:kinetische_energie_eingesetzt} ersichtlich.\n",
    "\n",
    "\\begin{equation}\n",
    "dE_{kin}=-F_Lds\n",
    "\\label{eq:kinetische_energie}\n",
    "\\end{equation}\n",
    "\n",
    "\\begin{equation}\n",
    "m\\cdot v\\cdot dv=-\\frac{1}{2}c_\\omega\\cdot A\\cdot\\rho_L\\cdot v^2\\cdot ds\n",
    "\\label{eq:kinetische_energie_eingesetzt}\n",
    "\\end{equation}\n",
    "\n",
    "Daraus kann die Differenzengleichung \\ref{eq:kin_diff} gebildet werden. Mit den Anfangsbedingungen s = 0 und v = $v_0$ wird Gleichung \\ref{eq:v0} erhalten. Diese kann für sehr kleine $k\\cdot s$ mit \\ref{eq:v0_approx} angenähert werden. $k$ ist in allen diesen Gleichungen mit dem Term $k = \\frac{c_\\omega\\cdot A\\cdot\\rho_L}{2m}$ zu beziffern.\n",
    "\n",
    "\\begin{equation}\n",
    "\\frac{dv}{v}=-k\\cdot ds\n",
    "\\label{eq:kin_diff}\n",
    "\\end{equation}\n",
    "\n",
    "\\begin{equation}\n",
    "v=v_0\\cdot e^{-k\\cdot s}\n",
    "\\label{eq:v0}\n",
    "\\end{equation}\n",
    "\n",
    "\\begin{equation}\n",
    "v=v_0\\cdot (1-k\\cdot s)\n",
    "\\label{eq:v0_approx}\n",
    "\\end{equation}"
   ]
  },
  {
   "cell_type": "markdown",
   "metadata": {},
   "source": [
    "# Versuchsdurchführung\n",
    "\n",
    "Für alle drei im Versuch angewandten Methoden zur Bestimmung der Projektilgeschwindigkeit (Flugzeitmethode, ballistische Methode, Drehstossmethode) wurde der Versuchsaufbau vermessen. So konnten folgende Parameter bestimmt werden:"
   ]
  },
  {
   "cell_type": "code",
   "execution_count": 2,
   "metadata": {
    "ExecuteTime": {
     "end_time": "2016-11-30T22:59:25.957251",
     "start_time": "2016-11-30T22:59:25.950552"
    },
    "code_folding": [
     0
    ],
    "collapsed": false
   },
   "outputs": [],
   "source": [
    "# define base values and measurements\n",
    "\n",
    "v1_s = 0.500\n",
    "v1_sb1 = 1.800\n",
    "v1_sb2 = 1.640\n",
    "v1_m = np.mean([0.47, 0.46, 0.46, 0.46, 0.46, 0.47, 0.46, 0.46, 0.46, 0.46, 4.65 / 10]) * 1e-3\n",
    "v1_T = np.mean([28.68 / 10, 28.91 / 10])\n",
    "\n",
    "v1_cw = 0.75\n",
    "v1_cw_u = 0.08\n",
    "v1_A = 4*1e-6\n",
    "v1_pl = 1.2041\n",
    "\n",
    "def air_resistance(s, v):\n",
    "    k = v1_cw * v1_A * v1_pl / 2 / v1_m\n",
    "    v0 = v / (1 - k * s)\n",
    "    return v0"
   ]
  },
  {
   "cell_type": "markdown",
   "metadata": {
    "variables": {
     "'{0:.2f}'.format(v1_A)": "0.00",
     "'{0:.2f}'.format(v1_T)": "2.88",
     "'{0:.2f}'.format(v1_m)": "0.00",
     "v1_cw": "0.75",
     "v1_pl": "1.2041",
     "v1_s": "0.5",
     "v1_sb1": "1.8",
     "v1_sb2": "1.64"
    }
   },
   "source": [
    "<center>\n",
    "    <t>Strecke zwischen den Lichtschranken:</t> $s$ = {{v1_s}} $m$  \n",
    "    <t>Strecke zwischen Mündung und Pendel:</t> $s_{B1}$ = {{v1_sb1}} $m$  \n",
    "    <t>Strecke zwischen Mündung und Hantel:</t> $s_{B2}$ = {{v1_sb2}} $m$  \n",
    "    <t>Masse des Projektils im Mittel:</t> $m$ = {{'{0:.2f}'.format(v1_m)}} $kg$  \n",
    "    <t>Mittlere Schwingungsdauer des Pendels:</t> $T$ = {{'{0:.2f}'.format(v1_T)}} $s$  \n",
    "    <t>Die Querschnittsfläche eines Projektils:</t> $A$ = {{'{0:.2f}'.format(v1_A)}} $m^2$  \n",
    "    <t>Widerstandsbeiwert eines Projektils:</t> $c_{\\omega}$ = {{v1_cw}}  \n",
    "    <t>Luftdichte:</t> $\\rho_{L}$ = {{v1_pl}}$\\frac{kg}{m^3}$\n",
    "</center>"
   ]
  },
  {
   "cell_type": "markdown",
   "metadata": {},
   "source": [
    "## Ballistische Methode\n",
    "\n",
    "Erst wurden 10 Messungen mit der ballistischen Methode durchgeführt. Hierbei wird ein Schuss auf ein Pendel abgefeuert.\n",
    "Es wurde zum einen die Zeit die vergeht bis das Projektil beide Lichtschranken passiert hat gemessen und zum anderen wurde der Ausschlag des Pendels gemessen.\n",
    "\n",
    "Da in der Pendelgleichung der Luftwiderstand sowie der Reibungswiderstand der Aufhängung nicht berücksichtigt sind, wurden pro Schuss 5 Messungen des Ausschlages gemacht. Mit linearer Regression kann somit der korrekte erste Ausschlag gefunden werden. So ist nämlich der Y-Achsenabschnitt der Fit-Gerade gerade der um den Luftwiderstand korrigierte erste Ausschlag.\n",
    "Wichtig dabei ist, dass für die Messungen der Amplituden n-0.75 anstelle von n verwendet wird. Denn bei Messung der ersten Amplitude sind ja schon 0.25 Schwingungen vergangen, etc.\n",
    "\n",
    "Damit besser gezählt werden konnte, wurde nur jeder fünfte Ausschlag am oberen Ende des Lineals gemessen. Somit wurden die Amplituden zu den Schwingungszeiten [0.25, 5.25, 10.25, 15.25, 20.25] gemessen. Diese führen nun mit einem Linearen Fit zum gesuchten um die Nichtidealitäten korrigierten Ergebnis.\n",
    "\n",
    "Dieses Verfahren ist in Grafik \\ref{fig:luftwiderstand_fit} gut zu sehen. Dieses wurde für alle zehn abgegeben Schuss durchgeführt, hier aber nur für den ersten Schuss grafisch dargestellt."
   ]
  },
  {
   "cell_type": "code",
   "execution_count": 3,
   "metadata": {
    "ExecuteTime": {
     "end_time": "2016-11-30T22:59:28.296509",
     "start_time": "2016-11-30T22:59:25.997161"
    },
    "caption": "Lineare Regression zur bestimmung des maximalen Ausschlages des Pendels, falls keinerlei Unidealitäten dieses beeinflussen.",
    "code_folding": [],
    "collapsed": false,
    "label": "fig:luftwiderstand_fit",
    "widefigure": true
   },
   "outputs": [
    {
     "data": {
      "text/html": [
       "<img src=\"images/figures/luftwiderstand_fit.png\" alt=\"Lineare Regression zur bestimmung des maximalen Ausschlages des Pendels, falls keinerlei Unidealitäten dieses beeinflussen.\" style=\"display: block;margin-left: auto;margin-right: auto\">\n",
       "<p style=\"text-align:center\">Lineare Regression zur bestimmung des maximalen Ausschlages des Pendels, falls keinerlei Unidealitäten dieses beeinflussen.</p>\n"
      ],
      "text/latex": [
       "\\begin{figure*}[!htbp]\n",
       "    \\begin{center}\\adjustimage{max size={0.9\\linewidth}{0.4\\paperheight}}{images/figures/luftwiderstand_fit.pdf}\\end{center}\n",
       "    \\caption{Lineare Regression zur bestimmung des maximalen Ausschlages des Pendels, falls keinerlei Unidealitäten dieses beeinflussen.}\n",
       "    \\label{fig:luftwiderstand_fit}\n",
       "\\end{figure*}\n",
       "        "
      ],
      "text/plain": [
       "<PrettyFigure.PrettyFigure at 0x108ff88d0>"
      ]
     },
     "metadata": {},
     "output_type": "display_data"
    }
   ],
   "source": [
    "# Evaluate Data\n",
    "\n",
    "# Read Data\n",
    "v1_df = pd.read_csv('data/ballistisch.csv')\n",
    "v1_M = 0.09836\n",
    "v1_l = 1.973\n",
    "v1_g = 9.80705\n",
    "\n",
    "# Plot only one graph of the linear fit\n",
    "df = pd.read_csv('data/ballistsisch_0.csv')\n",
    "slope, intercept, r, p, sem = stats.linregress(df['measurement'] + 0.25, df['x'])\n",
    "n = np.linspace(0, 21, 100)\n",
    "\n",
    "ax = df.plot(kind='scatter', x='measurement', y='x', label='gemessener Ausschlag')\n",
    "plt.plot(n, [i * slope + intercept for i in n], label='linearer Fit', axes=ax)\n",
    "plt.xlabel('Messung')\n",
    "plt.ylabel('x [m]')\n",
    "plt.legend(bbox_to_anchor=(0.02, 0.98), loc=2, borderaxespad=0.2)\n",
    "plt.close(ax.figure)\n",
    "\n",
    "figure = PrettyFigure(ax.figure, label='fig:luftwiderstand_fit', caption='Lineare Regression zur bestimmung des maximalen Ausschlages des Pendels, falls keinerlei Unidealitäten dieses beeinflussen.')\n",
    "figure.show()"
   ]
  },
  {
   "cell_type": "markdown",
   "metadata": {
    "variables": {
     "'{0:.2f}'.format(intercept)": "0.32"
    }
   },
   "source": [
    "Es resultiert in Grafik \\ref{fig:luftwiderstand_fit} also ein maximaler Ausschlag von {{'{0:.2f}'.format(intercept)}}m. In diesem sind bereits jegliche Verluste berücksichtigt.\n",
    "\n",
    "### Mittlere Geschwindigkeiten\n",
    "\n",
    "Dieses Verfahren wurde für alle zehn Messungen durchgeführt. Nun kann aus Gleichung \\ref{eq:u_taylor} die Aufprallgeschwindigkeit errechnet werden.\n",
    "\n",
    "Die errechneten mittleren Geschwindigkeiten sind in Grafik \\ref{fig:v_ballistisch} in Relation gesetzt."
   ]
  },
  {
   "cell_type": "code",
   "execution_count": 4,
   "metadata": {
    "ExecuteTime": {
     "end_time": "2016-11-30T22:59:30.634822",
     "start_time": "2016-11-30T22:59:28.303852"
    },
    "caption": "Aufprallgeschwindigkeiten der Kugel mit dem respektiven maximalen Ausschlag des Pendels",
    "code_folding": [
     0
    ],
    "collapsed": false,
    "label": "fig:v_ballistisch",
    "scrolled": false,
    "widefigure": true
   },
   "outputs": [
    {
     "data": {
      "text/html": [
       "<img src=\"images/figures/v_ballistisch.png\" alt=\"Aufprallgeschwindigkeiten der Kugel durch Ballistische Methode errechnet, im Vergleich zu den jeweiligen Geschwindigkeiten, welche durch die Flugzeitmethode berechnet wurden.\" style=\"display: block;margin-left: auto;margin-right: auto\">\n",
       "<p style=\"text-align:center\">Aufprallgeschwindigkeiten der Kugel durch Ballistische Methode errechnet, im Vergleich zu den jeweiligen Geschwindigkeiten, welche durch die Flugzeitmethode berechnet wurden.</p>\n"
      ],
      "text/latex": [
       "\\begin{figure*}[!htbp]\n",
       "    \\begin{center}\\adjustimage{max size={0.9\\linewidth}{0.4\\paperheight}}{images/figures/v_ballistisch.pdf}\\end{center}\n",
       "    \\caption{Aufprallgeschwindigkeiten der Kugel durch Ballistische Methode errechnet, im Vergleich zu den jeweiligen Geschwindigkeiten, welche durch die Flugzeitmethode berechnet wurden.}\n",
       "    \\label{fig:v_ballistisch}\n",
       "\\end{figure*}\n",
       "        "
      ],
      "text/plain": [
       "<PrettyFigure.PrettyFigure at 0x10d180128>"
      ]
     },
     "metadata": {},
     "output_type": "display_data"
    }
   ],
   "source": [
    "# Calculate mean velocity in air\n",
    "v1_df['v_flug'] = pd.Series(v1_s / v1_df['t'])\n",
    "\n",
    "# Calculate all x from the measurements\n",
    "v1_x = []\n",
    "for n in range(10):\n",
    "    df = pd.read_csv('data/ballistsisch_{}.csv'.format(n))\n",
    "    slope, intercept, r, p, sem = stats.linregress(df['measurement'] + 0.25, df['x'])\n",
    "    v1_x.append(intercept)\n",
    "v1_df['x'] = pd.Series(v1_x)\n",
    "\n",
    "# Calculate all v_B at impact\n",
    "v1_k = v1_g / (2 * math.pi) * (v1_M + v1_m) / v1_m / v1_l * v1_T\n",
    "v1_b = 1 - 3 / 8 * (v1_df['x'] / v1_l)**2\n",
    "v1_df['v_ballistic'] = pd.Series(v1_k * v1_df['x'] * v1_b)\n",
    "\n",
    "v1_mean = v1_df.mean()\n",
    "\n",
    "# Plot calculated velocities\n",
    "ax = v1_df.plot(kind='scatter', x='measurement', y='v_flug', label='$v_F$: errechnete Geschwindigkeit mit Flugzeitmethode')\n",
    "plt.scatter(v1_df['measurement'], v1_df['v_ballistic'], label='$v_B$: errechnete Geschwindigkeit mit ballistischer Methode', color='red', axes=ax)\n",
    "plt.axhline(y=v1_mean['v_flug'], axes=ax, color='blue', label='Mittelwert von $v_F$')\n",
    "plt.axhline(y=v1_mean['v_ballistic'], axes=ax, color='red', label='Mittelwert von $v_B$')\n",
    "plt.xlabel('Messung')\n",
    "plt.ylabel('$v[\\\\frac{m}{s}]$')\n",
    "#plt.ylim([150, 160])\n",
    "plt.legend(bbox_to_anchor=(0.02, 0.98), loc=2, borderaxespad=0.2)\n",
    "plt.close(ax.figure)\n",
    "\n",
    "figure = PrettyFigure(ax.figure, label='fig:v_ballistisch', caption='Aufprallgeschwindigkeiten der Kugel durch Ballistische Methode errechnet, im Vergleich zu den jeweiligen Geschwindigkeiten, welche durch die Flugzeitmethode berechnet wurden.')\n",
    "figure.show()"
   ]
  },
  {
   "cell_type": "markdown",
   "metadata": {},
   "source": [
    "### Vergleich der Messmethoden\n",
    "\n",
    "Um die Messmethoden vergleichen zu können wurden alle _einzelnen_ errechneten Geschwindigkeiten mithilfe der Luftwiderstandskorrekturgleichung \\ref{eq:v0_approx} auf einen Bezugspunkt, in diesem Falle wurde die Mündung gewählt, umgerechnet.\n",
    "Hier wurde für die Strecke der Flugzeitmethode $s$ = $\\frac{s}{2}$ und für die Strecke der ballistischen Methode $s$ = $s_{B1}$ gewählt."
   ]
  },
  {
   "cell_type": "code",
   "execution_count": 5,
   "metadata": {
    "ExecuteTime": {
     "end_time": "2016-11-30T22:59:32.834482",
     "start_time": "2016-11-30T22:59:30.636256"
    },
    "code_folding": [],
    "collapsed": false
   },
   "outputs": [
    {
     "data": {
      "text/html": [
       "<img src=\"images/figures/laufzeiten_luft_v_balllistisch_mean_muendung.png\" alt=\"Die Geschwindigkeiten errechnet mit der Flugzeit- und der ballistischen Methode an Mündung im Vergleich.\" style=\"display: block;margin-left: auto;margin-right: auto\">\n",
       "<p style=\"text-align:center\">Die Geschwindigkeiten errechnet mit der Flugzeit- und der ballistischen Methode an Mündung im Vergleich.</p>\n"
      ],
      "text/latex": [
       "\\begin{figure*}[!htbp]\n",
       "    \\begin{center}\\adjustimage{max size={0.9\\linewidth}{0.4\\paperheight}}{images/figures/laufzeiten_luft_v_balllistisch_mean_muendung.pdf}\\end{center}\n",
       "    \\caption{Die Geschwindigkeiten errechnet mit der Flugzeit- und der ballistischen Methode an Mündung im Vergleich.}\n",
       "    \\label{fig:laufzeiten_luft_v_balllistisch_mean_muendung}\n",
       "\\end{figure*}\n",
       "        "
      ],
      "text/plain": [
       "<PrettyFigure.PrettyFigure at 0x10d12d278>"
      ]
     },
     "metadata": {},
     "output_type": "display_data"
    }
   ],
   "source": [
    "# Luftwiderstandskorrektur single and mean calculation\n",
    "\n",
    "v1_flug_muendung = pd.Series(list(map(partial(air_resistance, v1_s / 2), v1_df['v_flug'])))\n",
    "v1_ballistic_muendung = pd.Series(list(map(partial(air_resistance, v1_sb1), v1_df['v_ballistic'])))\n",
    "v1_a = v1_flug_muendung / v1_ballistic_muendung\n",
    "v1_a_mean = np.mean(v1_a)\n",
    "v1_a_sem = stats.sem(v1_a)\n",
    "v1_df['a'] = v1_a\n",
    "v1_df['v_flug_muendung'] = v1_flug_muendung\n",
    "v1_df['v_ballistic_muendung'] = v1_ballistic_muendung\n",
    "\n",
    "v1_mean = v1_df.mean()\n",
    "\n",
    "ax = v1_df.plot(kind='scatter', x='measurement', y='v_flug_muendung', label='$v_{0,F}$')\n",
    "plt.scatter(v1_df['measurement'], v1_df['v_ballistic_muendung'], label='$v_{0,B}$', color='red', axes=ax)\n",
    "plt.axhline(y=v1_mean['v_flug_muendung'], axes=ax, color='blue', label='Mittelwert von $v_F$')\n",
    "plt.axhline(y=v1_mean['v_ballistic_muendung'], axes=ax, color='red', label='Mittelwert von $v_B$')\n",
    "plt.ylabel('$v_0 [\\\\frac{m}{s}]$')\n",
    "plt.xlabel('Messung')\n",
    "plt.legend(bbox_to_anchor=(0.02, 0.98), loc=2, borderaxespad=0.2)\n",
    "plt.close(ax.figure)\n",
    "\n",
    "figure = PrettyFigure(ax.figure, label='fig:laufzeiten_luft_v_balllistisch_mean_muendung', caption='Die Geschwindigkeiten errechnet mit der Flugzeit- und der ballistischen Methode an Mündung im Vergleich.')\n",
    "figure.show()"
   ]
  },
  {
   "cell_type": "markdown",
   "metadata": {},
   "source": [
    "### Streuung der Mündungsgeschwindigkeit"
   ]
  },
  {
   "cell_type": "markdown",
   "metadata": {},
   "source": [
    "In Grafik \\ref{fig:laufzeiten_luft_v_balllistisch_mean_muendung} sind die mithilfe der Flugzeitmethode und der Luftwiderstandskorrektur errechneten Mündungsgeschwindigkeiten gezeigt."
   ]
  },
  {
   "cell_type": "markdown",
   "metadata": {},
   "source": [
    "## Drehstossmethode\n",
    "\n",
    "Hierbei wurde ein Geschoss auf eine horizontal drehbare Hantel abgefeuert. Dabei wurde wieder die Flugzeit innerhalb der Lichtschranken gemessen. Diesmal wurde jedoch zusätlich noch die Zeit die die Hantel für eine halbe Umdrehung benötigt gemessen. Damit konnte die Winkelgeschwindigkeit $\\omega$ durch Gleichung \\ref{eq:omega} bestimmt werden.\n",
    "\n",
    "\\begin{equation}\n",
    "\\omega=\\frac{2\\cdot\\pi}{T}\n",
    "\\label{eq:omega}\n",
    "\\end{equation}\n",
    "\n",
    "Mithilfe der errechneten Gleichung \\ref{eq:vdrehstoss} konnte die Geschwindikeit des Projektiles bestimmt werden. Dabei wurde die Gleichung in \\ref{eq:inertia} zur Bestimmung der Trägheitsmomente der beiden Hanteln mit unterschiedlichen Gewichten verwendet.\n",
    "\n",
    "Die Messresultate aus beiden Versuchen sind im Folgenden Teil dargestellt.\n",
    "Es wird ein Vergleich dieser Methodik zur Flugzeitmethode angestellt.\n",
    "\n",
    "### Mittlere Geschwindigkeiten\n",
    "\n",
    "Um die verschiedenen Methoden gut vergleichen zu können wurden die Mittelwerte der Flugzeitmethode und der Drehstossmethode errechnet.\n",
    "\n",
    "Die errechneten mittleren Geschwindigkeiten und ihre Unsicherheiten sind in Grafik \\ref{fig:laufzeiten_luft_v_drehstoss} in Relation gesetzt."
   ]
  },
  {
   "cell_type": "code",
   "execution_count": 6,
   "metadata": {
    "ExecuteTime": {
     "end_time": "2016-11-30T22:59:34.762148",
     "start_time": "2016-11-30T22:59:32.836045"
    },
    "code_folding": [
     0
    ],
    "collapsed": false
   },
   "outputs": [
    {
     "data": {
      "text/html": [
       "<img src=\"images/figures/v_luft_v_drehstoss.png\" alt=\"Die Geschwindigkeiten errechnet mit der Flugzeit- und der Drehstossmethode mit je fünf Messungen beider Gewichten im Vergleich.\" style=\"display: block;margin-left: auto;margin-right: auto\">\n",
       "<p style=\"text-align:center\">Die Geschwindigkeiten errechnet mit der Flugzeit- und der Drehstossmethode mit je fünf Messungen beider Gewichten im Vergleich.</p>\n"
      ],
      "text/latex": [
       "\\begin{figure*}[!htbp]\n",
       "    \\begin{center}\\adjustimage{max size={0.9\\linewidth}{0.4\\paperheight}}{images/figures/v_luft_v_drehstoss.pdf}\\end{center}\n",
       "    \\caption{Die Geschwindigkeiten errechnet mit der Flugzeit- und der Drehstossmethode mit je fünf Messungen beider Gewichten im Vergleich.}\n",
       "    \\label{fig:v_luft_v_drehstoss}\n",
       "\\end{figure*}\n",
       "        "
      ],
      "text/plain": [
       "<PrettyFigure.PrettyFigure at 0x1094542e8>"
      ]
     },
     "metadata": {},
     "output_type": "display_data"
    }
   ],
   "source": [
    "# Evaluate Data\n",
    "\n",
    "# Calculate inertia\n",
    "v2_d = np.array([92e-3, 91e-3])\n",
    "v2_m = np.array([np.mean([15.86, 15.88])*1e-3, np.mean([42.03, 42.13])*1e-3])\n",
    "\n",
    "# Inertia\n",
    "\n",
    "v2_J = v2_m * v2_d**2\n",
    "\n",
    "v2_J3 = 7.4e-5\n",
    "v2_J3_u = 0.1e-5\n",
    "\n",
    "# Read Data\n",
    "v2_df = pd.read_csv('data/drehstoss.csv')\n",
    "\n",
    "v2_df['omega'] = math.pi / v2_df['T_2']\n",
    "\n",
    "v2_df['v_drehstoss'] = v2_df['omega'] * ((v2_J[v2_df['m']] * 2 + v2_J3) / (v2_d[v2_df['m']] * v1_m) + v2_d[v2_df['m']])\n",
    "v2_df['v_flug'] = v1_s / v2_df['t']\n",
    "\n",
    "v2_mean = v2_df.mean()\n",
    "\n",
    "ax = v2_df.plot(kind='scatter', x='measurement', y='v_drehstoss', label='$v_{D,k}$')\n",
    "plt.scatter(v2_df['measurement'], v2_df['v_flug'], label='$v_{F}$', color='red', axes=ax)\n",
    "plt.axhline(y=v2_mean['v_drehstoss'], axes=ax, color='blue', label='Mittelwert von $v_F$')\n",
    "plt.axhline(y=v2_mean['v_flug'], axes=ax, color='red', label='Mittelwert von $v_D$')\n",
    "plt.ylabel('$v [\\\\frac{m}{s}]$')\n",
    "plt.xlabel('Messung')\n",
    "plt.ylim([150, 160])\n",
    "plt.legend(bbox_to_anchor=(0.02, 0.98), loc=2, borderaxespad=0.2)\n",
    "plt.close(ax.figure)\n",
    "\n",
    "figure = PrettyFigure(ax.figure, label='fig:v_luft_v_drehstoss', caption='Die Geschwindigkeiten errechnet mit der Flugzeit- und der Drehstossmethode mit je fünf Messungen beider Gewichten im Vergleich.')\n",
    "figure.show()"
   ]
  },
  {
   "cell_type": "markdown",
   "metadata": {},
   "source": [
    "### Vergleich der Messmethoden\n",
    "\n",
    "Um die Messmethoden vergleichen zu können wurden alle _einzelnen_ errechneten Geschwindigkeiten mithilfe der Luftwiderstandskorrekturgleichung \\ref{eq:v0_approx} auf einen Bezugspunkt, in diesem Falle wurde die Mündung gewählt, umgerechnet.\n",
    "\n",
    "Hier wurde für die Strecke der Flugzeitmethode $s$ = $\\frac{s}{2}$ und für die Strecke der Drehstossmethode $s$ = $s_{B2}$ gewählt."
   ]
  },
  {
   "cell_type": "code",
   "execution_count": 7,
   "metadata": {
    "ExecuteTime": {
     "end_time": "2016-11-30T22:59:37.047335",
     "start_time": "2016-11-30T22:59:34.763720"
    },
    "code_folding": [
     0
    ],
    "collapsed": false
   },
   "outputs": [
    {
     "data": {
      "text/html": [
       "<img src=\"images/figures/laufzeiten_luft_v_drehstoss_mean.png\" alt=\"Die Geschwindigkeiten errechnet mit der Flugzeit- und der Drehstossmethode an Mündung im Vergleich.\" style=\"display: block;margin-left: auto;margin-right: auto\">\n",
       "<p style=\"text-align:center\">Die Geschwindigkeiten errechnet mit der Flugzeit- und der Drehstossmethode an Mündung im Vergleich.</p>\n"
      ],
      "text/latex": [
       "\\begin{figure*}[!htbp]\n",
       "    \\begin{center}\\adjustimage{max size={0.9\\linewidth}{0.4\\paperheight}}{images/figures/laufzeiten_luft_v_drehstoss_mean.pdf}\\end{center}\n",
       "    \\caption{Die Geschwindigkeiten errechnet mit der Flugzeit- und der Drehstossmethode an Mündung im Vergleich.}\n",
       "    \\label{fig:laufzeiten_luft_v_drehstoss_mean}\n",
       "\\end{figure*}\n",
       "        "
      ],
      "text/plain": [
       "<PrettyFigure.PrettyFigure at 0x10be29cc0>"
      ]
     },
     "metadata": {},
     "output_type": "display_data"
    }
   ],
   "source": [
    "# Luftwiderstandskorrektur single and mean calculation\n",
    "\n",
    "v2_mean = v2_df.mean()\n",
    "v2_sem = v2_df.sem()\n",
    "v2_df['v_flug_muendung'] = pd.Series(list(map(partial(air_resistance, v1_s / 2), v2_df['v_flug'])))\n",
    "v2_df['v_drehstoss_muendung'] = pd.Series(list(map(partial(air_resistance, v1_sb1), v2_df['v_drehstoss'])))\n",
    "v2_df['a'] = v2_df['v_flug_muendung'] / v2_df['v_drehstoss_muendung']\n",
    "\n",
    "v2_mean = v2_df.mean()\n",
    "\n",
    "ax = v2_df.plot(kind='scatter', x='measurement', y='v_flug_muendung', label='$v_{0,F}$')\n",
    "plt.scatter(v2_df['measurement'], v2_df['v_drehstoss_muendung'], label='$v_{0,D}$', color='red', axes=ax)\n",
    "plt.axhline(y=v2_mean['v_flug_muendung'], axes=ax, color='blue', label='Mittelwert von $v_F$')\n",
    "plt.axhline(y=v2_mean['v_drehstoss_muendung'], axes=ax, color='red', label='Mittelwert von $v_D$')\n",
    "plt.ylabel('$v_0 [\\\\frac{m}{s}]$')\n",
    "plt.xlabel('Messung')\n",
    "plt.legend(bbox_to_anchor=(0.02, 0.98), loc=2, borderaxespad=0.2)\n",
    "plt.close(ax.figure)\n",
    "\n",
    "figure = PrettyFigure(ax.figure, label='fig:laufzeiten_luft_v_drehstoss_mean', caption='Die Geschwindigkeiten errechnet mit der Flugzeit- und der Drehstossmethode an Mündung im Vergleich.')\n",
    "figure.show()"
   ]
  },
  {
   "cell_type": "markdown",
   "metadata": {
    "variables": {
     "'{0:.2f}'.format((1 - v1_mean['v_flug'] / v1_mean['v_ballistic']) * 100)": "0.81",
     "'{0:.2f}'.format(abs(v1_mean['v_flug'] - v1_mean['v_ballistic']))": "1.24"
    }
   },
   "source": [
    "# Fehlerrechnung\n",
    "\n",
    "## Ballistische Methode\n",
    "\n",
    "Die Mittelwerte der ballistischen Methode unterscheiden sich um {{'{0:.2f}'.format(abs(v1_mean['v_flug'] - v1_mean['v_ballistic']))}}$\\frac{m}{s}$. Dies sind zwar nur {{'{0:.2f}'.format((1 - v1_mean['v_flug'] / v1_mean['v_ballistic']) * 100)}}%, jedoch muss diesem Unterschied auf den Grund gegangen werden.\n",
    "\n",
    "Zuerst wurde dafür der statistische Fehler gerechnet. Vieleicht liegt dieser ja im akzeptablen Bereich. "
   ]
  },
  {
   "cell_type": "code",
   "execution_count": 8,
   "metadata": {
    "ExecuteTime": {
     "end_time": "2016-11-30T22:59:39.868645",
     "start_time": "2016-11-30T22:59:37.063817"
    },
    "caption": "Vergleich der verschiedenen Geschwindigkeiten und ihrer statistischen Unsicherheiten.",
    "code_folding": [
     0
    ],
    "collapsed": false,
    "label": "fig:laufzeiten",
    "widefigure": true
   },
   "outputs": [
    {
     "data": {
      "text/html": [
       "<img src=\"images/figures/laufzeiten_luft_v_balllistisch.png\" alt=\"Die mittleren Geschwindigkeiten der ballistischen und Flugzeitmethode im Vergleich mit ihren respektiven mittleren Mündungsgeschwindigkeiten.\" style=\"display: block;margin-left: auto;margin-right: auto\">\n",
       "<p style=\"text-align:center\">Die mittleren Geschwindigkeiten der ballistischen und Flugzeitmethode im Vergleich mit ihren respektiven mittleren Mündungsgeschwindigkeiten.</p>\n"
      ],
      "text/latex": [
       "\\begin{figure*}[!htbp]\n",
       "    \\begin{center}\\adjustimage{max size={0.9\\linewidth}{0.4\\paperheight}}{images/figures/laufzeiten_luft_v_balllistisch.pdf}\\end{center}\n",
       "    \\caption{Die mittleren Geschwindigkeiten der ballistischen und Flugzeitmethode im Vergleich mit ihren respektiven mittleren Mündungsgeschwindigkeiten.}\n",
       "    \\label{fig:laufzeiten_luft_v_balllistisch}\n",
       "\\end{figure*}\n",
       "        "
      ],
      "text/plain": [
       "<PrettyFigure.PrettyFigure at 0x10a74deb8>"
      ]
     },
     "metadata": {},
     "output_type": "display_data"
    }
   ],
   "source": [
    "# Plot different methods with sem\n",
    "\n",
    "v1_mean = v1_df.mean()\n",
    "v1_sem = v1_df.sem()\n",
    "\n",
    "v1_flug_muendung_mean = air_resistance(v1_s / 2, v1_mean['v_flug'])\n",
    "v1_flug_muendung_sem = air_resistance(v1_s / 2, v1_sem['v_flug'])\n",
    "\n",
    "v1_ballistic_muendung_mean = air_resistance(v1_sb1, v1_mean['v_ballistic'])\n",
    "v1_ballistic_muendung_sem = air_resistance(v1_sb1, v1_sem['v_ballistic'])\n",
    "\n",
    "x = [1, 4, 7, 10]\n",
    "y = [\n",
    "    v1_mean['v_flug'],\n",
    "    v1_mean['v_ballistic'],\n",
    "    v1_flug_muendung_mean,\n",
    "    v1_ballistic_muendung_mean\n",
    "]\n",
    "e = [\n",
    "    v1_sem['v_flug'],\n",
    "    v1_sem['v_ballistic'],\n",
    "    v1_flug_muendung_sem,\n",
    "    v1_ballistic_muendung_sem\n",
    "]\n",
    "labels = ['$v_F$', '$v_B$', '$v_{0,F}$', '$v_{0,B}$']\n",
    "fig = plt.figure()\n",
    "plt.errorbar(x, y, yerr=e, fmt='o')\n",
    "plt.xlim([0, 11])\n",
    "#plt.ylim([150, 160])\n",
    "plt.xticks(x, labels, rotation='35')\n",
    "plt.ylabel('$v_0 [\\\\frac{m}{s}]$')\n",
    "plt.text(0.01, 0.7,\n",
    "'''$v_F $: Flugzeitmethode\n",
    "$v_B $: Ballistische Methode\n",
    "$v_{0,F}$: Mündungsgeschwindigkeit Flugzeitmethode\n",
    "$v_{0,B}$: Mündungsgeschwindigkeit ballistische Methode'''\n",
    "         , transform = ax.transAxes, backgroundcolor='white', va='bottom')\n",
    "plt.close(fig)\n",
    "\n",
    "figure = PrettyFigure(fig, label='fig:laufzeiten_luft_v_balllistisch', caption='Die mittleren Geschwindigkeiten der ballistischen und Flugzeitmethode im Vergleich mit ihren respektiven mittleren Mündungsgeschwindigkeiten.')\n",
    "figure.show()"
   ]
  },
  {
   "cell_type": "markdown",
   "metadata": {},
   "source": [
    "Wie anhand der Fehlerbalken in Grafik \\ref{fig:laufzeiten_luft_v_balllistisch} schnell festgestellt werden kann, ist der statistische Fehler relativ gering. Dies bedeutet aber auch, dass der die Fehlerbereiche sich nicht überlappen. Dies ist nicht sehr gut. Denn es gibt nur _eine_ wahre Geschwindigkeit des Projektils. Natürlich kann diese nie genau bestimmt werden. Da sich aber die Fehlerbereiche nicht überlappen muss eine Messung falsch sein oder der systematische Fehler viel grösser sein.\n",
    "\n",
    "Deswegen wurde eine Fehlerfortpflanzungsrechnung für die ballistische Methode gemacht. Für die Flugzeitmethode ist diese nicht sehr aussagekräftig da die Messfehler sehr gering sind. Bei der ballistischen Methode wurde jedoch von Auge ungefähr ein Wert in Bewegung abgelesen. Dies führt natürlich zu hoher Ungenauigkeit. Da $M$ und $m$ sowie auch $g$ durch sehr genaue Messinstrumente bestimmt werden konnten werden diese in der Fehlerfortpflanzungsrechnung vernachlässigt.\n",
    "\n",
    "Somit ist der resultierende systematische Fehler durch Gleichung \\ref{eq:ffg_pendel} gegeben.\n",
    "\n",
    "\\begin{equation}\n",
    "S_{v,sys}=\\sqrt{(\\frac{\\partial v}{\\partial T}\\cdot s_T)^2 + (\\frac{\\partial v}{\\partial x}\\cdot s_x)^2 + (\\frac{\\partial v}{\\partial a}\\cdot s_a)^2}\n",
    "\\label{eq:ffg_pendel}\n",
    "\\end{equation}\n",
    "\n",
    "\n",
    "\\small\n",
    "\\begin{equation}\n",
    "= \\sqrt{\\bigg(\\frac{g}{2\\pi}\\cdot\\frac{M+m}{m}\\cdot\\frac{x}{a}\\cdot\\bigg[1-\\frac{3}{8}\\cdot\\Big(\\frac{x}{a}\\Big)^2\\bigg]s_T\\bigg)^2\n",
    "+ \\bigg(\\frac{g}{2\\pi}\\cdot\\frac{M+m}{m}\\cdot T\\cdot\\frac{1}{a}\\cdot\\bigg[1-\\frac{9}{8}\\cdot\\Big(\\frac{x}{a}\\Big)^2\\bigg]s_x\\bigg)^2\n",
    "+ \\bigg(\\frac{g}{2\\pi}\\cdot\\frac{M+m}{m}\\cdot T\\cdot\\frac{x}{a^2}\\cdot\\bigg[1-\\frac{9}{8}\\cdot\\Big(\\frac{x}{a}\\Big)^2\\bigg]s_a\\bigg)^2}\n",
    "\\end{equation}\n",
    "\\normalsize"
   ]
  },
  {
   "cell_type": "code",
   "execution_count": 9,
   "metadata": {
    "ExecuteTime": {
     "end_time": "2016-11-30T22:59:39.880071",
     "start_time": "2016-11-30T22:59:39.870199"
    },
    "code_folding": [
     0
    ],
    "collapsed": false
   },
   "outputs": [],
   "source": [
    "# Calculate systematic error\n",
    "\n",
    "v1_T_u = 3e-2\n",
    "v1_x_u = 5e-3\n",
    "v1_l_u = 5e-3\n",
    "\n",
    "v1_mean = v1_df.mean()\n",
    "v1_sem = v1_df.sem()\n",
    "\n",
    "v1_k1 = v1_g / (2 * math.pi) * (v1_M + v1_m) / v1_m * v1_mean['x'] / v1_l\n",
    "v1_b1 = 1 - 3 / 8 * (v1_mean['x'] / v1_l)**2\n",
    "\n",
    "v1_k2 = v1_g / (2 * math.pi) * (v1_M + v1_m) / v1_m * v1_T / v1_l\n",
    "v1_b2 = 1 - 9 / 8 * (v1_mean['x'] / v1_l)**2\n",
    "\n",
    "v1_k3 = v1_g / (2 * math.pi) * (v1_M + v1_m) / v1_m * v1_T * v1_mean['x'] / v1_l**2\n",
    "v1_b3 = -1 + 9 / 8 * (v1_mean['x'] / v1_l)**2\n",
    "\n",
    "v1_systematic_error = math.sqrt((v1_k1 * v1_b1 * v1_T_u)**2\n",
    "                                + (v1_k2 * v1_b2 * v1_x_u)**2\n",
    "                                + (v1_k3 * v1_b3 * v1_l_u)**2)"
   ]
  },
  {
   "cell_type": "code",
   "execution_count": 10,
   "metadata": {
    "ExecuteTime": {
     "end_time": "2016-11-30T22:59:41.961762",
     "start_time": "2016-11-30T22:59:39.881276"
    },
    "code_folding": [
     0
    ],
    "collapsed": false
   },
   "outputs": [
    {
     "data": {
      "text/html": [
       "<img src=\"images/figures/laufzeiten_luft_v_balllistisch_systematischer_fehler.png\" alt=\"Die systematischen Fehler der mittleren Geschwindigkeiten der ballistischen und Flugzeitmethode im Vergleich.\" style=\"display: block;margin-left: auto;margin-right: auto\">\n",
       "<p style=\"text-align:center\">Die systematischen Fehler der mittleren Geschwindigkeiten der ballistischen und Flugzeitmethode im Vergleich.</p>\n"
      ],
      "text/latex": [
       "\\begin{figure*}[!htbp]\n",
       "    \\begin{center}\\adjustimage{max size={0.9\\linewidth}{0.4\\paperheight}}{images/figures/laufzeiten_luft_v_balllistisch_systematischer_fehler.pdf}\\end{center}\n",
       "    \\caption{Die systematischen Fehler der mittleren Geschwindigkeiten der ballistischen und Flugzeitmethode im Vergleich.}\n",
       "    \\label{fig:laufzeiten_luft_v_balllistisch_systematischer_fehler}\n",
       "\\end{figure*}\n",
       "        "
      ],
      "text/plain": [
       "<PrettyFigure.PrettyFigure at 0x10970c438>"
      ]
     },
     "metadata": {},
     "output_type": "display_data"
    }
   ],
   "source": [
    "# Plot different methods with sem\n",
    "\n",
    "x = [1, 4]\n",
    "y = [\n",
    "    v1_mean['v_flug'],\n",
    "    v1_mean['v_ballistic']\n",
    "]\n",
    "e = [\n",
    "    v1_sem['v_flug'],\n",
    "    v1_systematic_error\n",
    "]\n",
    "labels = ['$v_F$', '$v_B$']\n",
    "fig = plt.figure()\n",
    "plt.errorbar(x, y, yerr=e, fmt='o')\n",
    "plt.xlim([0, 5])\n",
    "#plt.ylim([150, 160])\n",
    "plt.xticks(x, labels, rotation='35')\n",
    "plt.ylabel('$v_0 [\\\\frac{m}{s}]$')\n",
    "plt.text(-0.026, 0.76,\n",
    "'''$v_F $: Flugzeitmethode\n",
    "$v_B $: Ballistische Methode'''\n",
    "         , transform = ax.transAxes, backgroundcolor='white', va='bottom')\n",
    "plt.close(fig)\n",
    "\n",
    "figure = PrettyFigure(fig, label='fig:laufzeiten_luft_v_balllistisch_systematischer_fehler', caption='Die systematischen Fehler der mittleren Geschwindigkeiten der ballistischen und Flugzeitmethode im Vergleich.')\n",
    "figure.show()"
   ]
  },
  {
   "cell_type": "markdown",
   "metadata": {},
   "source": [
    "Natürlich kann sofort erkannt werden wie gross der systematische Fehler bei der ballistischen Methode ist. Deswegen wurden so unterschiedliche Ergebnisse für die Projektilgeschwindigkeit erhalten. Die Fehlerbereiche überlappen sich nun und es ist somit okay anzunehmen dass die beiden Rechnungen stimmen wobei die Flugzeitmethode um ein Vielfaches genauer ist."
   ]
  },
  {
   "cell_type": "markdown",
   "metadata": {
    "variables": {
     "'{0:.2f}'.format((1 - v2_mean['v_flug'] / v2_mean['v_drehstoss']) * 100)": "0.55",
     "'{0:.2f}'.format(abs(v2_mean['v_flug'] - v2_mean['v_drehstoss']))": "0.85"
    }
   },
   "source": [
    "## Drehstossmethode\n",
    "\n",
    "Die Mittelwerte der Drehstossethode unterscheiden sich um {{'{0:.2f}'.format(abs(v2_mean['v_flug'] - v2_mean['v_drehstoss']))}}$\\frac{m}{s}$. Dies sind zwar nur {{'{0:.2f}'.format((1 - v2_mean['v_flug'] / v2_mean['v_drehstoss']) * 100)}}%, jedoch muss diesem Unterschied auf den Grund gegangen werden.\n",
    "\n",
    "Zuerst wurde dafür der erneut statistische Fehler gerechnet. Vieleicht liegt dieser ja im akzeptablen Bereich. "
   ]
  },
  {
   "cell_type": "code",
   "execution_count": 11,
   "metadata": {
    "ExecuteTime": {
     "end_time": "2016-11-30T22:59:44.329352",
     "start_time": "2016-11-30T22:59:41.974746"
    },
    "code_folding": [
     0
    ],
    "collapsed": false
   },
   "outputs": [
    {
     "data": {
      "text/html": [
       "<img src=\"images/figures/laufzeiten_luft_v_drehstoss.png\" alt=\"Die mittleren Geschwindigkeiten der Drehstoss- und Flugzeitmethode im Vergleich mit ihren respektiven mittleren Mündungsgeschwindigkeiten.\" style=\"display: block;margin-left: auto;margin-right: auto\">\n",
       "<p style=\"text-align:center\">Die mittleren Geschwindigkeiten der Drehstoss- und Flugzeitmethode im Vergleich mit ihren respektiven mittleren Mündungsgeschwindigkeiten.</p>\n"
      ],
      "text/latex": [
       "\\begin{figure*}[!htbp]\n",
       "    \\begin{center}\\adjustimage{max size={0.9\\linewidth}{0.4\\paperheight}}{images/figures/laufzeiten_luft_v_drehstoss.pdf}\\end{center}\n",
       "    \\caption{Die mittleren Geschwindigkeiten der Drehstoss- und Flugzeitmethode im Vergleich mit ihren respektiven mittleren Mündungsgeschwindigkeiten.}\n",
       "    \\label{fig:laufzeiten_luft_v_drehstoss}\n",
       "\\end{figure*}\n",
       "        "
      ],
      "text/plain": [
       "<PrettyFigure.PrettyFigure at 0x10958d748>"
      ]
     },
     "metadata": {},
     "output_type": "display_data"
    }
   ],
   "source": [
    "# Plot different methods with sem\n",
    "\n",
    "v2_mean = v2_df.mean()\n",
    "v2_sem = v2_df.sem()\n",
    "\n",
    "v2_flug_muendung_mean = air_resistance(v1_s / 2, v2_mean['v_flug'])\n",
    "v2_flug_muendung_sem = air_resistance(v1_s / 2, v2_sem['v_flug'])\n",
    "\n",
    "v2_drehstoss_muendung_mean = air_resistance(v1_sb2, v2_mean['v_drehstoss'])\n",
    "v2_drehstoss_muendung_sem = air_resistance(v1_sb2, v2_sem['v_drehstoss'])\n",
    "\n",
    "x = [1, 4, 7, 10]\n",
    "y = [\n",
    "    v2_mean['v_flug'],\n",
    "    v2_mean['v_drehstoss'],\n",
    "    v2_flug_muendung_mean,\n",
    "    v2_drehstoss_muendung_mean\n",
    "]\n",
    "e = [\n",
    "    v2_sem['v_flug'],\n",
    "    v2_sem['v_drehstoss'],\n",
    "    v2_flug_muendung_sem,\n",
    "    v2_drehstoss_muendung_sem\n",
    "]\n",
    "\n",
    "labels = ['$v_F$', '$v_D$', '$v_{0,F}$', '$v_{0,D}$']\n",
    "fig = plt.figure()\n",
    "plt.errorbar(x, y, yerr=e, fmt='o')\n",
    "plt.xlim([0, 11])\n",
    "plt.ylim([150, 160])\n",
    "plt.xticks(x, labels, rotation='35')\n",
    "plt.ylabel('$v_0 [\\\\frac{m}{s}]$')\n",
    "plt.text(-0.026, 0.7,\n",
    "'''$v_F $: Flugzeitmethode\n",
    "$v_D $: Drehstossmethode\n",
    "$v_{0,F}$: Mündungsgeschwindigkeit Flugzeitmethode\n",
    "$v_{0,D}$: Mündungsgeschwindigkeit Drehstossmethode'''\n",
    "         , transform = ax.transAxes, backgroundcolor='white', va='bottom')\n",
    "plt.close(fig)\n",
    "\n",
    "figure = PrettyFigure(fig, label='fig:laufzeiten_luft_v_drehstoss', caption='Die mittleren Geschwindigkeiten der Drehstoss- und Flugzeitmethode im Vergleich mit ihren respektiven mittleren Mündungsgeschwindigkeiten.')\n",
    "figure.show()"
   ]
  },
  {
   "cell_type": "markdown",
   "metadata": {},
   "source": [
    "Wie anhand der Fehlerbalken in Grafik \\ref{fig:laufzeiten_luft_v_drehstoss} schnell festgestellt werden kann, ist der statistische Fehler relativ gering. Dies bedeutet aber auch, dass der die Fehlerbereiche sich nicht überlappen. Dies ist nicht sehr gut. Denn es gibt nur _eine_ wahre Geschwindigkeit des Projektils. Natürlich kann diese nie genau bestimmt werden. Da sich aber die Fehlerbereiche nicht überlappen muss eine Messung falsch sein oder der systematische Fehler erneut viel grösser sein.\n",
    "\n",
    "Deswegen wurde auch eine Fehlerfortpflanzungsrechnung für die Drehstossmethode gemacht. Hier wurden die Variabeln $d$ und $\\frac{T}{2}$ berücksichtigt. Bei den anderen Werten handelt es sich um Messungen welche durch genaue Instrumente gemacht wurden.\n",
    "\n",
    "Somit ist der resultierende systematische Fehler durch Gleichung \\ref{eq:ffg_hantel} gegeben.\n",
    "\n",
    "\\begin{equation}\n",
    "S_{v,sys}=\\sqrt{\\big(\\frac{\\partial v}{\\partial \\frac{T}{2}\\cdot s_{T/2}}\\big)^2 + \\big(\\frac{\\partial v}{\\partial d}\\cdot s_d\\big)^2}\n",
    "= \\sqrt{\n",
    "\\bigg(\\bigg(-\\frac{\\pi}{(\\frac{T}{2})^2}\\frac{I_{a,H}}{m\\cdot d}+d\\bigg)\\cdot s_{T/2}\\bigg)^2\n",
    "+ \\bigg(\\frac{\\pi}{\\frac{T}{2}}\\cdot\\bigg(1-\\frac{I_{a,H}}{m\\cdot d^2}\\bigg)\\cdot s_d\\bigg)^2\n",
    "}\n",
    "\\label{eq:ffg_hantel}\n",
    "\\end{equation}"
   ]
  },
  {
   "cell_type": "code",
   "execution_count": 12,
   "metadata": {
    "ExecuteTime": {
     "end_time": "2016-11-30T22:59:44.338052",
     "start_time": "2016-11-30T22:59:44.331057"
    },
    "code_folding": [
     0
    ],
    "collapsed": false
   },
   "outputs": [],
   "source": [
    "# Calculate systematic error\n",
    "\n",
    "v2_d_u = 0.5e-3\n",
    "v2_T_u = 5e-3\n",
    "\n",
    "v2_mean = v2_df.mean()\n",
    "v2_sem = v2_df.sem()\n",
    "\n",
    "v2_k1 = -math.pi / v2_mean['T_2']**2 * ((v2_J[0] * 2 + v2_J3) / v1_m / v2_d[0] + v2_d[0])\n",
    "v2_k2 = math.pi / v2_mean['T_2'] * (1 - (v2_J[0] * 2 + v2_J3) / v1_m / v2_d[0]**2)\n",
    "\n",
    "v2_systematic_error = math.sqrt((v2_k1 * v2_d_u)**2 + (v2_k1 * v2_T_u)**2)"
   ]
  },
  {
   "cell_type": "code",
   "execution_count": 13,
   "metadata": {
    "ExecuteTime": {
     "end_time": "2016-11-30T22:59:46.631425",
     "start_time": "2016-11-30T22:59:44.339551"
    },
    "code_folding": [
     0
    ],
    "collapsed": false
   },
   "outputs": [
    {
     "data": {
      "text/html": [
       "<img src=\"images/figures/laufzeiten_luft_v_drehstoss_systematischer_fehler.png\" alt=\"Die systematischen Fehler der mittleren Geschwindigkeiten der Drehstoss- und Flugzeitmethode im Vergleich.\" style=\"display: block;margin-left: auto;margin-right: auto\">\n",
       "<p style=\"text-align:center\">Die systematischen Fehler der mittleren Geschwindigkeiten der Drehstoss- und Flugzeitmethode im Vergleich.</p>\n"
      ],
      "text/latex": [
       "\\begin{figure*}[!htbp]\n",
       "    \\begin{center}\\adjustimage{max size={0.9\\linewidth}{0.4\\paperheight}}{images/figures/laufzeiten_luft_v_drehstoss_systematischer_fehler.pdf}\\end{center}\n",
       "    \\caption{Die systematischen Fehler der mittleren Geschwindigkeiten der Drehstoss- und Flugzeitmethode im Vergleich.}\n",
       "    \\label{fig:laufzeiten_luft_v_drehstoss_systematischer_fehler}\n",
       "\\end{figure*}\n",
       "        "
      ],
      "text/plain": [
       "<PrettyFigure.PrettyFigure at 0x10924cb38>"
      ]
     },
     "metadata": {},
     "output_type": "display_data"
    }
   ],
   "source": [
    "# Plot different methods with sem\n",
    "\n",
    "x = [1, 4]\n",
    "y = [\n",
    "    v2_mean['v_flug'],\n",
    "    v2_mean['v_drehstoss']\n",
    "]\n",
    "e = [\n",
    "    v2_sem['v_flug'],\n",
    "    v2_systematic_error\n",
    "]\n",
    "labels = ['$v_F$', '$v_D$']\n",
    "fig = plt.figure()\n",
    "plt.errorbar(x, y, yerr=e, fmt='o')\n",
    "plt.xlim([0, 5])\n",
    "#plt.ylim([150, 160])\n",
    "plt.xticks(x, labels, rotation='35')\n",
    "plt.ylabel('$v_0 [\\\\frac{m}{s}]$')\n",
    "plt.text(0.01, 0.76,\n",
    "'''$v_F $: Flugzeitmethode\n",
    "$v_D $: Drehstossmethode'''\n",
    "         , transform = ax.transAxes, backgroundcolor='white', va='bottom')\n",
    "plt.close(fig)\n",
    "\n",
    "figure = PrettyFigure(fig, label='fig:laufzeiten_luft_v_drehstoss_systematischer_fehler', caption='Die systematischen Fehler der mittleren Geschwindigkeiten der Drehstoss- und Flugzeitmethode im Vergleich.')\n",
    "figure.show()"
   ]
  },
  {
   "cell_type": "markdown",
   "metadata": {},
   "source": [
    "Auch hier kann erneut erkannt werden wie gross der systematische Fehler bei der Drehstossmethode ist. Deswegen wurden auch hier so unterschiedliche Ergebnisse für die Projektilgeschwindigkeit erhalten. Die Fehlerbereiche überlappen sich nun und es ist somit okay anzunehmen dass die beiden Rechnungen stimmen wobei die Flugzeitmethode auch hier um ein Vielfaches genauer ist."
   ]
  },
  {
   "cell_type": "markdown",
   "metadata": {},
   "source": [
    "# Resultate & Diskussion\n",
    "\n",
    "## Flugzeitmethode\n",
    "\n",
    "Die Flugzeitmethode wurde mit genauen Messgeräten durchgeführt, welche im Verhältnis zu den beiden unkonventionelleren Methoden praktisch keinen Fehler bergen. Deswegen kann die Flugzeitmethode als eine gewisse Referenz betrachtet werden. Wenn Grafik \\ref{fig:laufzeiten_luft_muendung} betrachtet wird, kann leicht erkannt werden dass 70% der Ergebnissle innerhalb der Standardabweichung liegen. Dies ist ein Bisschen mehr als die erwarteten 68%. Natürlich wurden viel zuwenige Messungen gemacht als dass die 68% jemals erreicht werden könnten. Somit ist 70% also schon ein sehr gutes Ergebnis! Damit kann angenommen werden dass die Messungen nicht allzu sehr fehlerbehaftet sind."
   ]
  },
  {
   "cell_type": "code",
   "execution_count": 14,
   "metadata": {
    "ExecuteTime": {
     "end_time": "2016-11-30T22:59:49.120732",
     "start_time": "2016-11-30T22:59:46.632985"
    },
    "code_folding": [
     0
    ],
    "collapsed": false
   },
   "outputs": [
    {
     "data": {
      "text/html": [
       "<img src=\"images/figures/laufzeiten_luft_muendung.png\" alt=\"Die Mündungsgeschwindigkeiten errechnet mit der Flugzeitmethode. Dazu ihr Mittelwert und der Bereich der Standardabweichung.\" style=\"display: block;margin-left: auto;margin-right: auto\">\n",
       "<p style=\"text-align:center\">Die Mündungsgeschwindigkeiten errechnet mit der Flugzeitmethode. Dazu ihr Mittelwert und der Bereich der Standardabweichung.</p>\n"
      ],
      "text/latex": [
       "\\begin{figure*}[!htbp]\n",
       "    \\begin{center}\\adjustimage{max size={0.9\\linewidth}{0.4\\paperheight}}{images/figures/laufzeiten_luft_muendung.pdf}\\end{center}\n",
       "    \\caption{Die Mündungsgeschwindigkeiten errechnet mit der Flugzeitmethode. Dazu ihr Mittelwert und der Bereich der Standardabweichung.}\n",
       "    \\label{fig:laufzeiten_luft_muendung}\n",
       "\\end{figure*}\n",
       "        "
      ],
      "text/plain": [
       "<PrettyFigure.PrettyFigure at 0x10427a550>"
      ]
     },
     "metadata": {},
     "output_type": "display_data"
    }
   ],
   "source": [
    "# Plot different methods with sem\n",
    "\n",
    "v1_mean = v1_df.mean()['v_flug_muendung']\n",
    "v1_sem = v1_df.sem()['v_flug_muendung']\n",
    "v1_std = v1_df.std()['v_flug_muendung']\n",
    "ax = v1_df.plot(kind='scatter', x='measurement', y='v_flug_muendung', label='errechnete Geschwindigkeit an der Mündung')\n",
    "plt.axhline(y=v1_mean, axes=ax, color='red', label='Mittelwert')\n",
    "plt.axhline(y=v1_mean+v1_sem, axes=ax, color='green', label='Mittelwert ± Fehler')\n",
    "plt.axhline(y=v1_mean-v1_sem, axes=ax, color='green')\n",
    "plt.axhline(y=v1_mean+v1_std, axes=ax, color='purple', label='Mittelwert ± Standardabweichung')\n",
    "plt.axhline(y=v1_mean-v1_std, axes=ax, color='purple')\n",
    "plt.legend(bbox_to_anchor=(0.02, 0.98), loc=2, borderaxespad=0.2)\n",
    "plt.xlabel('Messung')\n",
    "plt.ylabel('$v_{0,F} [\\\\frac{m}{s}]$')\n",
    "plt.close(ax.figure)\n",
    "\n",
    "figure = PrettyFigure(ax.figure, label='fig:laufzeiten_luft_muendung', caption='Die Mündungsgeschwindigkeiten errechnet mit der Flugzeitmethode. Dazu ihr Mittelwert und der Bereich der Standardabweichung.')\n",
    "figure.show()"
   ]
  },
  {
   "cell_type": "markdown",
   "metadata": {},
   "source": [
    "## Ballistische Methode\n",
    "\n",
    "Die Resultate aus dem Versuch mit der ballistischen Methode können der Tabelle \\ref{tab:resultat_ballistisch} entnommen werden."
   ]
  },
  {
   "cell_type": "code",
   "execution_count": 23,
   "metadata": {
    "ExecuteTime": {
     "end_time": "2016-11-30T23:05:56.705315",
     "start_time": "2016-11-30T23:05:56.592544"
    },
    "code_folding": [
     3
    ],
    "collapsed": false
   },
   "outputs": [
    {
     "data": {
      "text/html": [
       "<table style=\"margin:auto;\"><tr><td>Projektilgeschwindigkeit</td><td>Wert</td><td>stat. Fehler</td><td>syst. Fehler</td><td>Relativer Fehler</td></tr><tr><td>mit Flugzeitmethode $v_{F}$</td><td>151.92$\\frac{m}{s}$</td><td>0.20$\\frac{m}{s}$</td><td>$\\footnotetext[1]{Fehler nicht relevanter Grösse und deshalb weggelassen.}$</td><td>0.13%</td></tr><tr><td>an der Mündung mit Flugzeitmethode $v_{0,F}$</td><td>152.07$\\frac{m}{s}$</td><td>0.20$\\frac{m}{s}$</td><td>$\\footnotemark[1]$</td><td>0.13%</td></tr><tr><td>mit ballistischer Methode $v_{B}$</td><td>153.16$\\frac{m}{s}$</td><td>0.25$\\frac{m}{s}$</td><td>2.88$\\frac{m}{s}$</td><td>1.88%</td></tr><tr><td>an der Mündung mit ballistischer Methode $v_{0,B}$</td><td>154.24$\\frac{m}{s}$</td><td>0.25$\\frac{m}{s}$</td><td>$\\footnotetext[2]{Fehler wurde der Einfachheit halber auf Absprache mit dem Dozenten weggelassen.}$</td><td>$\\footnotemark[2]$</td></tr></table><p style=\"text-align:center\">Resultate aus dem Versuch der Ballistischen Methode.</p>"
      ],
      "text/latex": [
       "\\begin{longtable}[H]{@{}lllll@{}}\n",
       "\\toprule\\addlinespace\n",
       "Projektilgeschwindigkeit & Wert & stat. Fehler & syst. Fehler & Relativer Fehler\\\\\\addlinespace \n",
       "\\midrule\\endhead\n",
       "mit Flugzeitmethode $v_{F}$ & 151.92$\\frac{m}{s}$ & 0.20$\\frac{m}{s}$ & $\\footnotetext[1]{Fehler nicht relevanter Grösse und deshalb weggelassen.}$ & 0.13\\%\\\\\\addlinespace \n",
       "an der Mündung mit Flugzeitmethode $v_{0,F}$ & 152.07$\\frac{m}{s}$ & 0.20$\\frac{m}{s}$ & $\\footnotemark[1]$ & 0.13\\%\\\\\\addlinespace \n",
       "mit ballistischer Methode $v_{B}$ & 153.16$\\frac{m}{s}$ & 0.25$\\frac{m}{s}$ & 2.88$\\frac{m}{s}$ & 1.88\\%\\\\\\addlinespace \n",
       "an der Mündung mit ballistischer Methode $v_{0,B}$ & 154.24$\\frac{m}{s}$ & 0.25$\\frac{m}{s}$ & $\\footnotetext[2]{Fehler wurde der Einfachheit halber auf Absprache mit dem Dozenten weggelassen.}$ & $\\footnotemark[2]$\\\\\\addlinespace \n",
       "\\\\\\bottomrule\\caption{Resultate aus dem Versuch der Ballistischen Methode.}\\\\\\label{tab:resultat_ballistisch}\n",
       " \\end{longtable}"
      ],
      "text/plain": [
       "[['Projektilgeschwindigkeit',\n",
       "  'Wert',\n",
       "  'stat. Fehler',\n",
       "  'syst. Fehler',\n",
       "  'Relativer Fehler'],\n",
       " ('mit Flugzeitmethode $v_{F}$',\n",
       "  '151.92$\\\\frac{m}{s}$',\n",
       "  '0.20$\\\\frac{m}{s}$',\n",
       "  '$\\\\footnotetext[1]{Fehler nicht relevanter Grösse und deshalb weggelassen.}$',\n",
       "  '0.13%'),\n",
       " ('an der Mündung mit Flugzeitmethode $v_{0,F}$',\n",
       "  '152.07$\\\\frac{m}{s}$',\n",
       "  '0.20$\\\\frac{m}{s}$',\n",
       "  '$\\\\footnotemark[1]$',\n",
       "  '0.13%'),\n",
       " ('mit ballistischer Methode $v_{B}$',\n",
       "  '153.16$\\\\frac{m}{s}$',\n",
       "  '0.25$\\\\frac{m}{s}$',\n",
       "  '2.88$\\\\frac{m}{s}$',\n",
       "  '1.88%'),\n",
       " ('an der Mündung mit ballistischer Methode $v_{0,B}$',\n",
       "  '154.24$\\\\frac{m}{s}$',\n",
       "  '0.25$\\\\frac{m}{s}$',\n",
       "  '$\\\\footnotetext[2]{Fehler wurde der Einfachheit halber auf Absprache mit dem Dozenten weggelassen.}$',\n",
       "  '$\\\\footnotemark[2]$')]"
      ]
     },
     "metadata": {},
     "output_type": "display_data"
    }
   ],
   "source": [
    "# Show results\n",
    "\n",
    "import math\n",
    "from IPython.display import (\n",
    "    display, display_html, display_png, display_svg\n",
    ")\n",
    "\n",
    "class PrettyTable(list):\n",
    "    \"\"\" Overridden list class which takes a 2-dimensional list of\n",
    "        the form [[1,2,3],[4,5,6]], and renders HTML and LaTeX Table in\n",
    "        IPython Notebook. For LaTeX export two styles can be chosen.\"\"\"\n",
    "    def __init__(self, initlist=[], label=None, caption='Description missing', extra_header=None, entries_per_column=100, significant_digits=4, print_latex_longtable=True):\n",
    "        self.print_latex_longtable = print_latex_longtable\n",
    "        self.entries_per_column = entries_per_column\n",
    "        self.significant_digits = significant_digits\n",
    "        self.caption = caption\n",
    "        self.label = label\n",
    "        if extra_header is not None:\n",
    "            extra_header = [e.replace('%', '\\\\%') for e in extra_header]\n",
    "            if len(initlist[0]) != len(extra_header):\n",
    "                raise ValueError(\"Header list must have same length as data has columns.\")\n",
    "            initlist = [extra_header]+list(initlist)\n",
    "        super(PrettyTable, self).__init__(initlist)\n",
    "\n",
    "    def latex_table_tabular(self):\n",
    "        latex = [\"\\\\begin{tabular}\"]\n",
    "        latex.append(\"{\"+\"|\".join(([\"l\"]*len(self[0])))+\"}\\n\")\n",
    "        for row in self:\n",
    "            latex.append(\" & \".join(map(format, row)))\n",
    "            latex.append(\"\\\\\\\\ \\n\")\n",
    "        latex.append(\"\\\\end{tabular}\")\n",
    "        return ''.join(latex)\n",
    "\n",
    "    def latex_longtable(self):\n",
    "        latex = [\"\\\\begin{longtable}[H]{@{}\"]\n",
    "        l = len(self) - 1\n",
    "        li = len(self[0])\n",
    "        latex.append(\"l\" * (li * math.ceil(l / self.entries_per_column)))\n",
    "        latex.append(\"@{}}\\n\")\n",
    "        latex.append(\"\\\\toprule\\\\addlinespace\\n\")\n",
    "        line = (\" & \".join(map(format, self[0])))\n",
    "        latex.append((line  + \" & \") * (math.ceil(l / self.entries_per_column) - 1))\n",
    "        latex.append(line)\n",
    "        latex.append(\"\\\\\\\\\\\\addlinespace \\n\")\n",
    "        latex.append(\"\\\\midrule\\\\endhead\\n\")\n",
    "        rows = []\n",
    "        rows_done = 0\n",
    "        for row in self[1:]:\n",
    "            if rows_done < self.entries_per_column:\n",
    "                if isinstance(row, str):\n",
    "                    rows.append(\" & \".join(row))\n",
    "                elif isinstance(row, float):\n",
    "                    rows.append(\" & \".join(map(('{0:.' + str(self.significant_digits) + 'f}').format, row)))\n",
    "                else:\n",
    "                    rows.append(\" & \".join(map(str, row)))\n",
    "                rows.append(\"\\\\\\\\\\\\addlinespace \\n\")\n",
    "            else:\n",
    "                rows[(rows_done % self.entries_per_column) * 2] += \" & \" + \" & \".join(map(('{0:.' + str(self.significant_digits) + 'f}').format, row))\n",
    "            rows_done += 1\n",
    "        latex.extend(rows)\n",
    "        latex.append('\\\\\\\\\\\\bottomrule\\\\caption{%s}\\\\\\\\\\\\label{%s}' % (self.caption, self.label))\n",
    "        latex.append(\"\\n \\\\end{longtable}\")\n",
    "        return ''.join(latex).replace('%','\\\\%')\n",
    "\n",
    "    def _repr_html_(self):\n",
    "        html = [\"<table style=\\\"margin:auto;\\\">\"]\n",
    "        for row in self:\n",
    "            html.append(\"<tr>\")\n",
    "            for col in row:\n",
    "                html.append(\"<td>{0}</td>\".format(col))\n",
    "            html.append(\"</tr>\")\n",
    "        html.append(\"</table>\")\n",
    "        html.append('<p style=\"text-align:center\">{0}</p>'.format(self.caption))\n",
    "        return ''.join(html)\n",
    "\n",
    "    def _repr_latex_(self):\n",
    "        if self.print_latex_longtable:\n",
    "            return self.latex_longtable()\n",
    "        else:\n",
    "            return self.latex_table_tabular()\n",
    "\n",
    "    def show(self):\n",
    "        display(self)\n",
    "\n",
    "v1_mean = v1_df.mean()\n",
    "v1_sem = v1_df.sem()\n",
    "v1_std = v1_df.std()\n",
    "\n",
    "values = [\n",
    "    'mit Flugzeitmethode $v_{F}$',\n",
    "    'an der Mündung mit Flugzeitmethode $v_{0,F}$',\n",
    "    'mit ballistischer Methode $v_{B}$',\n",
    "    'an der Mündung mit ballistischer Methode $v_{0,B}$',\n",
    "]\n",
    "means = [\n",
    "    '{0:.2f}'.format(v1_mean['v_flug']) + r'$\\frac{m}{s}$',\n",
    "    '{0:.2f}'.format(v1_mean['v_flug_muendung']) + r'$\\frac{m}{s}$',\n",
    "    '{0:.2f}'.format(v1_mean['v_ballistic']) + r'$\\frac{m}{s}$',\n",
    "    '{0:.2f}'.format(v1_mean['v_ballistic_muendung']) + r'$\\frac{m}{s}$'\n",
    "]\n",
    "sem = [\n",
    "    '{0:.2f}'.format(v1_sem['v_flug_muendung']) + r'$\\frac{m}{s}$',\n",
    "    '{0:.2f}'.format(v1_sem['v_flug']) + r'$\\frac{m}{s}$',\n",
    "    '{0:.2f}'.format(v1_sem['v_ballistic']) + r'$\\frac{m}{s}$',\n",
    "    '{0:.2f}'.format(v1_sem['v_ballistic_muendung']) + r'$\\frac{m}{s}$'\n",
    "]\n",
    "syst = [\n",
    "    r'$\\footnotetext[1]{Fehler nicht relevanter Grösse und deshalb weggelassen.}$',\n",
    "    r'$\\footnotemark[1]$',\n",
    "    '{0:.2f}'.format(v1_systematic_error) + r'$\\frac{m}{s}$',\n",
    "    r'$\\footnotetext[2]{Fehler wurde der Einfachheit halber auf Absprache mit dem Dozenten weggelassen.}$'\n",
    "]\n",
    "rel = [\n",
    "    '{0:.2f}'.format(v1_sem['v_flug'] / v1_mean['v_flug'] * 100) + '%',\n",
    "    '{0:.2f}'.format(v1_sem['v_flug_muendung'] / v1_mean['v_flug_muendung'] * 100) + '%',\n",
    "    '{0:.2f}'.format(v1_systematic_error / v1_mean['v_ballistic'] * 100) + '%',\n",
    "    r'$\\footnotemark[2]$'\n",
    "]\n",
    "v1_results_tbl = PrettyTable(list(zip(values, means, sem, syst, rel)), label='tab:resultat_ballistisch', caption='Resultate aus dem Versuch der Ballistischen Methode.', extra_header=[\n",
    "        'Projektilgeschwindigkeit',\n",
    "        'Wert',\n",
    "        'stat. Fehler',\n",
    "        'syst. Fehler',\n",
    "        'Relativer Fehler'\n",
    "    ], entries_per_column=4)\n",
    "v1_results_tbl.show()"
   ]
  },
  {
   "cell_type": "raw",
   "metadata": {},
   "source": [
    "\\newpage"
   ]
  },
  {
   "cell_type": "code",
   "execution_count": 24,
   "metadata": {
    "ExecuteTime": {
     "end_time": "2016-11-30T23:05:59.832724",
     "start_time": "2016-11-30T23:05:58.012454"
    },
    "code_folding": [
     0
    ],
    "collapsed": false
   },
   "outputs": [
    {
     "data": {
      "text/html": [
       "<img src=\"images/figures/laufzeiten_luft_v_balllistisch_mean_ratio.png\" alt=\"Die mittleren Geschwindigkeiten errechnet mit der Flugzeit- und der ballistischen Methode an Mündung im Verhältnis dargestellt und ihr erwarteter Wert von 1 zum Vergleich.\" style=\"display: block;margin-left: auto;margin-right: auto\">\n",
       "<p style=\"text-align:center\">Die mittleren Geschwindigkeiten errechnet mit der Flugzeit- und der ballistischen Methode an Mündung im Verhältnis dargestellt und ihr erwarteter Wert von 1 zum Vergleich.</p>\n"
      ],
      "text/latex": [
       "\\begin{figure*}[!htbp]\n",
       "    \\begin{center}\\adjustimage{max size={0.9\\linewidth}{0.4\\paperheight}}{images/figures/laufzeiten_luft_v_balllistisch_mean_ratio.pdf}\\end{center}\n",
       "    \\caption{Die mittleren Geschwindigkeiten errechnet mit der Flugzeit- und der ballistischen Methode an Mündung im Verhältnis dargestellt und ihr erwarteter Wert von 1 zum Vergleich.}\n",
       "    \\label{fig:laufzeiten_luft_v_balllistisch_mean_ratio}\n",
       "\\end{figure*}\n",
       "        "
      ],
      "text/plain": [
       "<PrettyFigure.PrettyFigure at 0x1095ba320>"
      ]
     },
     "metadata": {},
     "output_type": "display_data"
    }
   ],
   "source": [
    "# Plot of a\n",
    "\n",
    "ax = v1_df.plot(kind='scatter', x='measurement', y='a', label='errechnetes Verhältnis $a_i = V_{F,i}/V_{B,i}$')\n",
    "plt.axhline(y=v1_a_mean, axes=ax, label='Mittelwert des Verhältnisses a', color='green')\n",
    "plt.axhline(y=1, axes=ax, label='Erwarteter Wert 1', color='purple')\n",
    "plt.xlabel('Messung')\n",
    "plt.ylabel('a')\n",
    "plt.legend(bbox_to_anchor=(0.02, 0.98), loc=2, borderaxespad=0.2)\n",
    "plt.close(ax.figure)\n",
    "\n",
    "figure = PrettyFigure(ax.figure, label='fig:laufzeiten_luft_v_balllistisch_mean_ratio', caption='Die mittleren Geschwindigkeiten errechnet mit der Flugzeit- und der ballistischen Methode an Mündung im Verhältnis dargestellt und ihr erwarteter Wert von 1 zum Vergleich.')\n",
    "figure.show()"
   ]
  },
  {
   "cell_type": "markdown",
   "metadata": {
    "collapsed": true,
    "variables": {
     "'{0:.2f}'.format((1 - v1_mean['v_flug'] / v1_mean['v_ballistic']) * 100)": "0.81"
    }
   },
   "source": [
    "Die Resultate aus der ballistischen Methode unterscheiden sich kaum von denen der Flugzeitmethode. Um genau {{'{0:.2f}'.format((1 - v1_mean['v_flug'] / v1_mean['v_ballistic']) * 100)}}% nämlich. Das Verhältnis der Mittelwerte ist sehr schön in Grafik \\ref{fig:laufzeiten_luft_v_balllistisch_mean_ratio} zu erkennen. Dies ist schon sehr genau. Jedoch ist die Geschwindigkeit für das Projektil nur auf genau einen Wert definiert. Welcher Wert ist nun also korrekt?\n",
    "\n",
    "Genau aus diesem Grund wurde eine Fehlerrechnung gemacht. Die Resultate aus jener sind in Tabelle \\ref{tab:resultat_ballistisch} ersichtlich. In dieser sieht man wunderbar dass der statistische Fehler sehr klein ist, der systematische Fehler dafür umso grösser. Bei der Flugzeitmethode gibt es praktisch keinen systematischen Fehler, da die Messstrecke und die Flugzeit praktisch ohne Fehler bestimmt werden können.\n",
    "Bei der ballistischen Methode hingegen wurden viele Werte von Auge abgelesen und können somit recht Fehlerbehaftet sein, da das Auge nicht genügend Präzision hat.\n",
    "Der Fehler ist so gross dass sich das Resultat der Flugzeitmethode innerhalb des Fehlerbereiches der ballistischen Methode bewegt. Es kann daher angenommen werden dass die Flugzeitmethode das Resultat mit viel kleinerem Fehlerbereich und ziemlich akkurat bestimmt. Man könnte aus beiden Methoden einen gewichteten Mittelwert bilden. Da der Fehler der ballistischen Methode aber so viel grösser ist, als der Fehler der Flugzeitmethode, würde dieser ziemlich genau dem Resultat aus der Flugzeitmethode entsprechen.\n",
    "\n",
    "Alles in allem ist die Rechnung mit mehr als zweiprozentiger Genauigkeit auch für diese Methode ziemlich akkurat!\n",
    "\n",
    "## Drehstossmethode\n",
    "\n",
    "Die Resultate aus dem Versuch mit der ballistischen Methode können der Tabelle \\ref{tab:resultat_drehstoss} entnommen werden."
   ]
  },
  {
   "cell_type": "code",
   "execution_count": 25,
   "metadata": {
    "ExecuteTime": {
     "end_time": "2016-11-30T23:05:59.856903",
     "start_time": "2016-11-30T23:05:59.840251"
    },
    "code_folding": [
     0
    ],
    "collapsed": false
   },
   "outputs": [
    {
     "data": {
      "text/html": [
       "<table style=\"margin:auto;\"><tr><td>Projektilgeschwindigkeit</td><td>Wert</td><td>stat. Fehler</td><td>syst. Fehler</td><td>Relativer Fehler</td></tr><tr><td>mit Flugzeitmethode $v_{F}$</td><td>152.87$\\frac{m}{s}$</td><td>0.18$\\frac{m}{s}$</td><td>$\\footnotemark[1]$</td><td>0.12%</td></tr><tr><td>an der Mündung mit Flugzeitmethode $v_{0,F}$</td><td>153.02$\\frac{m}{s}$</td><td>0.18$\\frac{m}{s}$</td><td>$\\footnotemark[1]$</td><td>0.12%</td></tr><tr><td>mit Drehstossmethode $v_{B}$</td><td>153.72$\\frac{m}{s}$</td><td>0.38$\\frac{m}{s}$</td><td>1.74$\\frac{m}{s}$</td><td>1.13%</td></tr><tr><td>an der Mündung mit Drehstossmethode $v_{0,B}$</td><td>154.81$\\frac{m}{s}$</td><td>0.39$\\frac{m}{s}$</td><td>$\\footnotemark[2]$</td><td>$\\footnotemark[2]$</td></tr></table><p style=\"text-align:center\">Resultate aus dem Versuch der Drehstossmethode.</p>"
      ],
      "text/latex": [
       "\\begin{longtable}[H]{@{}lllll@{}}\n",
       "\\toprule\\addlinespace\n",
       "Projektilgeschwindigkeit & Wert & stat. Fehler & syst. Fehler & Relativer Fehler\\\\\\addlinespace \n",
       "\\midrule\\endhead\n",
       "mit Flugzeitmethode $v_{F}$ & 152.87$\\frac{m}{s}$ & 0.18$\\frac{m}{s}$ & $\\footnotemark[1]$ & 0.12\\%\\\\\\addlinespace \n",
       "an der Mündung mit Flugzeitmethode $v_{0,F}$ & 153.02$\\frac{m}{s}$ & 0.18$\\frac{m}{s}$ & $\\footnotemark[1]$ & 0.12\\%\\\\\\addlinespace \n",
       "mit Drehstossmethode $v_{B}$ & 153.72$\\frac{m}{s}$ & 0.38$\\frac{m}{s}$ & 1.74$\\frac{m}{s}$ & 1.13\\%\\\\\\addlinespace \n",
       "an der Mündung mit Drehstossmethode $v_{0,B}$ & 154.81$\\frac{m}{s}$ & 0.39$\\frac{m}{s}$ & $\\footnotemark[2]$ & $\\footnotemark[2]$\\\\\\addlinespace \n",
       "\\\\\\bottomrule\\caption{Resultate aus dem Versuch der Drehstossmethode.}\\\\\\label{tab:resultat_drehstoss}\n",
       " \\end{longtable}"
      ],
      "text/plain": [
       "[['Projektilgeschwindigkeit',\n",
       "  'Wert',\n",
       "  'stat. Fehler',\n",
       "  'syst. Fehler',\n",
       "  'Relativer Fehler'],\n",
       " ('mit Flugzeitmethode $v_{F}$',\n",
       "  '152.87$\\\\frac{m}{s}$',\n",
       "  '0.18$\\\\frac{m}{s}$',\n",
       "  '$\\\\footnotemark[1]$',\n",
       "  '0.12%'),\n",
       " ('an der Mündung mit Flugzeitmethode $v_{0,F}$',\n",
       "  '153.02$\\\\frac{m}{s}$',\n",
       "  '0.18$\\\\frac{m}{s}$',\n",
       "  '$\\\\footnotemark[1]$',\n",
       "  '0.12%'),\n",
       " ('mit Drehstossmethode $v_{B}$',\n",
       "  '153.72$\\\\frac{m}{s}$',\n",
       "  '0.38$\\\\frac{m}{s}$',\n",
       "  '1.74$\\\\frac{m}{s}$',\n",
       "  '1.13%'),\n",
       " ('an der Mündung mit Drehstossmethode $v_{0,B}$',\n",
       "  '154.81$\\\\frac{m}{s}$',\n",
       "  '0.39$\\\\frac{m}{s}$',\n",
       "  '$\\\\footnotemark[2]$',\n",
       "  '$\\\\footnotemark[2]$')]"
      ]
     },
     "metadata": {},
     "output_type": "display_data"
    }
   ],
   "source": [
    "# Show results\n",
    "\n",
    "v2_mean = v2_df.mean()\n",
    "v2_sem = v2_df.sem()\n",
    "v2_std = v2_df.std()\n",
    "\n",
    "values = [\n",
    "    'mit Flugzeitmethode $v_{F}$',\n",
    "    'an der Mündung mit Flugzeitmethode $v_{0,F}$',\n",
    "    'mit Drehstossmethode $v_{B}$',\n",
    "    'an der Mündung mit Drehstossmethode $v_{0,B}$',\n",
    "]\n",
    "means = [\n",
    "    '{0:.2f}'.format(v2_mean['v_flug']) + r'$\\frac{m}{s}$',\n",
    "    '{0:.2f}'.format(v2_mean['v_flug_muendung']) + r'$\\frac{m}{s}$',\n",
    "    '{0:.2f}'.format(v2_mean['v_drehstoss']) + r'$\\frac{m}{s}$',\n",
    "    '{0:.2f}'.format(v2_mean['v_drehstoss_muendung']) + r'$\\frac{m}{s}$'\n",
    "]\n",
    "sem = [\n",
    "    '{0:.2f}'.format(v2_sem['v_flug_muendung']) + r'$\\frac{m}{s}$',\n",
    "    '{0:.2f}'.format(v2_sem['v_flug']) + r'$\\frac{m}{s}$',\n",
    "    '{0:.2f}'.format(v2_sem['v_drehstoss']) + r'$\\frac{m}{s}$',\n",
    "    '{0:.2f}'.format(v2_sem['v_drehstoss_muendung']) + r'$\\frac{m}{s}$'\n",
    "]\n",
    "syst = [\n",
    "    r'$\\footnotemark[1]$',\n",
    "    r'$\\footnotemark[1]$',\n",
    "    '{0:.2f}'.format(v2_systematic_error) + r'$\\frac{m}{s}$',\n",
    "    r'$\\footnotemark[2]$'\n",
    "]\n",
    "rel = [\n",
    "    '{0:.2f}'.format(v2_sem['v_flug'] / v2_mean['v_flug'] * 100) + '%',\n",
    "    '{0:.2f}'.format(v2_sem['v_flug_muendung'] / v2_mean['v_flug_muendung'] * 100) + '%',\n",
    "    '{0:.2f}'.format(v2_systematic_error / v2_mean['v_drehstoss'] * 100) + '%',\n",
    "    r'$\\footnotemark[2]$'\n",
    "]\n",
    "v2_results_tbl = PrettyTable(list(zip(values, means, sem, syst, rel)), label='tab:resultat_drehstoss', caption='Resultate aus dem Versuch der Drehstossmethode.', extra_header=[\n",
    "        'Projektilgeschwindigkeit',\n",
    "        'Wert',\n",
    "        'stat. Fehler',\n",
    "        'syst. Fehler',\n",
    "        'Relativer Fehler'\n",
    "    ], entries_per_column=4)\n",
    "v2_results_tbl.show()"
   ]
  },
  {
   "cell_type": "code",
   "execution_count": 26,
   "metadata": {
    "ExecuteTime": {
     "end_time": "2016-11-30T23:06:02.076369",
     "start_time": "2016-11-30T23:06:00.148798"
    },
    "code_folding": [
     0
    ],
    "collapsed": false
   },
   "outputs": [
    {
     "data": {
      "text/html": [
       "<img src=\"images/figures/laufzeiten_luft_v_drehstoss_mean_ratio.png\" alt=\"Die mittleren Geschwindigkeiten errechnet mit der Flugzeit- und der Drehstossmethode an Mündung im Verhältnis dargestellt und ihr erwarteter Wert von 1 zum Vergleich.\" style=\"display: block;margin-left: auto;margin-right: auto\">\n",
       "<p style=\"text-align:center\">Die mittleren Geschwindigkeiten errechnet mit der Flugzeit- und der Drehstossmethode an Mündung im Verhältnis dargestellt und ihr erwarteter Wert von 1 zum Vergleich.</p>\n"
      ],
      "text/latex": [
       "\\begin{figure*}[!htbp]\n",
       "    \\begin{center}\\adjustimage{max size={0.9\\linewidth}{0.4\\paperheight}}{images/figures/laufzeiten_luft_v_drehstoss_mean_ratio.pdf}\\end{center}\n",
       "    \\caption{Die mittleren Geschwindigkeiten errechnet mit der Flugzeit- und der Drehstossmethode an Mündung im Verhältnis dargestellt und ihr erwarteter Wert von 1 zum Vergleich.}\n",
       "    \\label{fig:laufzeiten_luft_v_drehstoss_mean_ratio}\n",
       "\\end{figure*}\n",
       "        "
      ],
      "text/plain": [
       "<PrettyFigure.PrettyFigure at 0x10ba2ffd0>"
      ]
     },
     "metadata": {},
     "output_type": "display_data"
    }
   ],
   "source": [
    "# Plot ratio a\n",
    "\n",
    "ax = v2_df.plot(kind='scatter', x='measurement', y='a', label='errechnetes Verhältnis $a_i = V_{F,i}/V_{D,i}$')\n",
    "plt.axhline(y=v2_mean['a'], axes=ax, label='Mittelwert des Verhältnisses a', color='green')\n",
    "plt.axhline(y=1, axes=ax, label='Erwarteter Wert 1', color='purple')\n",
    "plt.xlabel('Messung')\n",
    "plt.legend(bbox_to_anchor=(0.02, 0.98), loc=2, borderaxespad=0.2)\n",
    "plt.close(ax.figure)\n",
    "\n",
    "figure = PrettyFigure(ax.figure, label='fig:laufzeiten_luft_v_drehstoss_mean_ratio', caption='Die mittleren Geschwindigkeiten errechnet mit der Flugzeit- und der Drehstossmethode an Mündung im Verhältnis dargestellt und ihr erwarteter Wert von 1 zum Vergleich.')\n",
    "figure.show()"
   ]
  },
  {
   "cell_type": "markdown",
   "metadata": {
    "variables": {
     "'{0:.2f}'.format((1 - v2_mean['v_flug'] / v2_mean['v_drehstoss']) * 100)": "0.55"
    }
   },
   "source": [
    "Die Resultate aus der Drehstossmethode unterscheiden sich ebenfalls kaum von denen der Flugzeitmethode. Um {{'{0:.2f}'.format((1 - v2_mean['v_flug'] / v2_mean['v_drehstoss']) * 100)}}% um genau zu sein. Das Verhältnis der Mittelwerte ist sehr schön in Grafik \\ref{fig:laufzeiten_luft_v_drehstoss_mean_ratio} zu erkennen. Dies ist schon sehr genau. Jedoch ist die Geschwindigkeit für das Projektil nur auf genau einen Wert definiert. Welcher Wert ist nun also korrekt?\n",
    "\n",
    "Genau aus diesem Grund wurde auch hier eine Fehlerrechnung gemacht. Die Resultate aus jener sind in Tabelle \\ref{tab:resultat_drehstoss} ersichtlich. In dieser sieht man wunderbar dass der statistische Fehler sehr klein ist, der systematische Fehler dafür umso grösser. Bei der Flugzeitmethode gibt es praktisch keinen systematischen Fehler, da die Messstrecke und die Flugzeit praktisch ohne Fehler bestimmt werden können.\n",
    "Bei der ballistischen Methode hingegen wurden viele Werte von Auge abgelesen und können somit recht Fehlerbehaftet sein, da das Auge nicht genügend Präzision hat.\n",
    "Der Fehler ist so gross dass sich das Resultat der Flugzeitmethode innerhalb des Fehlerbereiches der ballistischen Methode bewegt. Es kann daher angenommen werden dass die Flugzeitmethode das Resultat mit viel kleinerem Fehlerbereich und ziemlich akkurat bestimmt. Man könnte aus beiden Methoden einen gewichteten Mittelwert bilden. Da der Fehler der ballistischen Methode aber so viel grösser ist, als der Fehler der Flugzeitmethode, würde dieser ziemlich genau dem Resultat aus der Flugzeitmethode entsprechen.\n",
    "\n",
    "Alles in allem ist die Rechnung mit fast einprozentiger Genauigkeit auch für diese Methode ziemlich akkurat!\n",
    "Damit ist die Drehstossmethode akkurater als die ballistische Methode. Dies kann vorallem auf erhöhte Messungenauigkeit bei drei statt zwei Parametern zurückgeführt werden."
   ]
  },
  {
   "cell_type": "markdown",
   "metadata": {},
   "source": [
    "# Anhang\n",
    "\n",
    "## Ballistische Methode"
   ]
  },
  {
   "cell_type": "code",
   "execution_count": 27,
   "metadata": {
    "ExecuteTime": {
     "end_time": "2016-11-30T23:06:02.164680",
     "start_time": "2016-11-30T23:06:02.135192"
    },
    "collapsed": false
   },
   "outputs": [
    {
     "data": {
      "text/html": [
       "<table style=\"margin:auto;\"><tr><td>Messung [1]</td><td>Ausschlag [m]</td></tr><tr><td>1</td><td>0.315</td></tr><tr><td>6</td><td>0.295</td></tr><tr><td>11</td><td>0.28</td></tr><tr><td>16</td><td>0.265</td></tr><tr><td>21</td><td>0.25</td></tr></table><p style=\"text-align:center\">Schuss 1</p>"
      ],
      "text/latex": [
       "\\begin{longtable}[H]{@{}ll@{}}\n",
       "\\toprule\\addlinespace\n",
       "Messung [1] & Ausschlag [m]\\\\\\addlinespace \n",
       "\\midrule\\endhead\n",
       "1 & 0.315\\\\\\addlinespace \n",
       "6 & 0.295\\\\\\addlinespace \n",
       "11 & 0.28\\\\\\addlinespace \n",
       "16 & 0.265\\\\\\addlinespace \n",
       "21 & 0.25\\\\\\addlinespace \n",
       "\\\\\\bottomrule\\caption{Schuss 1}\\\\\\label{None}\n",
       " \\end{longtable}"
      ],
      "text/plain": [
       "[['Messung [1]', 'Ausschlag [m]'],\n",
       " (1, 0.315),\n",
       " (6, 0.29499999999999998),\n",
       " (11, 0.28000000000000003),\n",
       " (16, 0.26500000000000001),\n",
       " (21, 0.25)]"
      ]
     },
     "metadata": {},
     "output_type": "display_data"
    },
    {
     "data": {
      "text/html": [
       "<table style=\"margin:auto;\"><tr><td>Messung [1]</td><td>Ausschlag [m]</td></tr><tr><td>1</td><td>0.32</td></tr><tr><td>6</td><td>0.295</td></tr><tr><td>11</td><td>0.275</td></tr><tr><td>16</td><td>0.26</td></tr><tr><td>21</td><td>0.245</td></tr></table><p style=\"text-align:center\">Schuss 2</p>"
      ],
      "text/latex": [
       "\\begin{longtable}[H]{@{}ll@{}}\n",
       "\\toprule\\addlinespace\n",
       "Messung [1] & Ausschlag [m]\\\\\\addlinespace \n",
       "\\midrule\\endhead\n",
       "1 & 0.32\\\\\\addlinespace \n",
       "6 & 0.295\\\\\\addlinespace \n",
       "11 & 0.275\\\\\\addlinespace \n",
       "16 & 0.26\\\\\\addlinespace \n",
       "21 & 0.245\\\\\\addlinespace \n",
       "\\\\\\bottomrule\\caption{Schuss 2}\\\\\\label{None}\n",
       " \\end{longtable}"
      ],
      "text/plain": [
       "[['Messung [1]', 'Ausschlag [m]'],\n",
       " (1, 0.32000000000000001),\n",
       " (6, 0.29499999999999998),\n",
       " (11, 0.27500000000000002),\n",
       " (16, 0.26000000000000001),\n",
       " (21, 0.245)]"
      ]
     },
     "metadata": {},
     "output_type": "display_data"
    },
    {
     "data": {
      "text/html": [
       "<table style=\"margin:auto;\"><tr><td>Messung [1]</td><td>Ausschlag [m]</td></tr><tr><td>1</td><td>0.315</td></tr><tr><td>6</td><td>0.295</td></tr><tr><td>11</td><td>0.28</td></tr><tr><td>16</td><td>0.26</td></tr><tr><td>21</td><td>0.245</td></tr></table><p style=\"text-align:center\">Schuss 3</p>"
      ],
      "text/latex": [
       "\\begin{longtable}[H]{@{}ll@{}}\n",
       "\\toprule\\addlinespace\n",
       "Messung [1] & Ausschlag [m]\\\\\\addlinespace \n",
       "\\midrule\\endhead\n",
       "1 & 0.315\\\\\\addlinespace \n",
       "6 & 0.295\\\\\\addlinespace \n",
       "11 & 0.28\\\\\\addlinespace \n",
       "16 & 0.26\\\\\\addlinespace \n",
       "21 & 0.245\\\\\\addlinespace \n",
       "\\\\\\bottomrule\\caption{Schuss 3}\\\\\\label{None}\n",
       " \\end{longtable}"
      ],
      "text/plain": [
       "[['Messung [1]', 'Ausschlag [m]'],\n",
       " (1, 0.315),\n",
       " (6, 0.29499999999999998),\n",
       " (11, 0.28000000000000003),\n",
       " (16, 0.26000000000000001),\n",
       " (21, 0.245)]"
      ]
     },
     "metadata": {},
     "output_type": "display_data"
    },
    {
     "data": {
      "text/html": [
       "<table style=\"margin:auto;\"><tr><td>Messung [1]</td><td>Ausschlag [m]</td></tr><tr><td>1</td><td>0.315</td></tr><tr><td>6</td><td>0.295</td></tr><tr><td>11</td><td>0.28</td></tr><tr><td>16</td><td>0.265</td></tr><tr><td>21</td><td>0.25</td></tr></table><p style=\"text-align:center\">Schuss 4</p>"
      ],
      "text/latex": [
       "\\begin{longtable}[H]{@{}ll@{}}\n",
       "\\toprule\\addlinespace\n",
       "Messung [1] & Ausschlag [m]\\\\\\addlinespace \n",
       "\\midrule\\endhead\n",
       "1 & 0.315\\\\\\addlinespace \n",
       "6 & 0.295\\\\\\addlinespace \n",
       "11 & 0.28\\\\\\addlinespace \n",
       "16 & 0.265\\\\\\addlinespace \n",
       "21 & 0.25\\\\\\addlinespace \n",
       "\\\\\\bottomrule\\caption{Schuss 4}\\\\\\label{None}\n",
       " \\end{longtable}"
      ],
      "text/plain": [
       "[['Messung [1]', 'Ausschlag [m]'],\n",
       " (1, 0.315),\n",
       " (6, 0.29499999999999998),\n",
       " (11, 0.28000000000000003),\n",
       " (16, 0.26500000000000001),\n",
       " (21, 0.25)]"
      ]
     },
     "metadata": {},
     "output_type": "display_data"
    },
    {
     "data": {
      "text/html": [
       "<table style=\"margin:auto;\"><tr><td>Messung [1]</td><td>Ausschlag [m]</td></tr><tr><td>1</td><td>0.32</td></tr><tr><td>6</td><td>0.295</td></tr><tr><td>11</td><td>0.28</td></tr><tr><td>16</td><td>0.265</td></tr><tr><td>21</td><td>0.25</td></tr></table><p style=\"text-align:center\">Schuss 5</p>"
      ],
      "text/latex": [
       "\\begin{longtable}[H]{@{}ll@{}}\n",
       "\\toprule\\addlinespace\n",
       "Messung [1] & Ausschlag [m]\\\\\\addlinespace \n",
       "\\midrule\\endhead\n",
       "1 & 0.32\\\\\\addlinespace \n",
       "6 & 0.295\\\\\\addlinespace \n",
       "11 & 0.28\\\\\\addlinespace \n",
       "16 & 0.265\\\\\\addlinespace \n",
       "21 & 0.25\\\\\\addlinespace \n",
       "\\\\\\bottomrule\\caption{Schuss 5}\\\\\\label{None}\n",
       " \\end{longtable}"
      ],
      "text/plain": [
       "[['Messung [1]', 'Ausschlag [m]'],\n",
       " (1, 0.32000000000000001),\n",
       " (6, 0.29499999999999998),\n",
       " (11, 0.28000000000000003),\n",
       " (16, 0.26500000000000001),\n",
       " (21, 0.25)]"
      ]
     },
     "metadata": {},
     "output_type": "display_data"
    },
    {
     "data": {
      "text/html": [
       "<table style=\"margin:auto;\"><tr><td>Messung [1]</td><td>Ausschlag [m]</td></tr><tr><td>1</td><td>0.315</td></tr><tr><td>6</td><td>0.295</td></tr><tr><td>11</td><td>0.275</td></tr><tr><td>16</td><td>0.26</td></tr><tr><td>21</td><td>0.25</td></tr></table><p style=\"text-align:center\">Schuss 6</p>"
      ],
      "text/latex": [
       "\\begin{longtable}[H]{@{}ll@{}}\n",
       "\\toprule\\addlinespace\n",
       "Messung [1] & Ausschlag [m]\\\\\\addlinespace \n",
       "\\midrule\\endhead\n",
       "1 & 0.315\\\\\\addlinespace \n",
       "6 & 0.295\\\\\\addlinespace \n",
       "11 & 0.275\\\\\\addlinespace \n",
       "16 & 0.26\\\\\\addlinespace \n",
       "21 & 0.25\\\\\\addlinespace \n",
       "\\\\\\bottomrule\\caption{Schuss 6}\\\\\\label{None}\n",
       " \\end{longtable}"
      ],
      "text/plain": [
       "[['Messung [1]', 'Ausschlag [m]'],\n",
       " (1, 0.315),\n",
       " (6, 0.29499999999999998),\n",
       " (11, 0.27500000000000002),\n",
       " (16, 0.26000000000000001),\n",
       " (21, 0.25)]"
      ]
     },
     "metadata": {},
     "output_type": "display_data"
    },
    {
     "data": {
      "text/html": [
       "<table style=\"margin:auto;\"><tr><td>Messung [1]</td><td>Ausschlag [m]</td></tr><tr><td>1</td><td>0.315</td></tr><tr><td>6</td><td>0.295</td></tr><tr><td>11</td><td>0.275</td></tr><tr><td>16</td><td>0.26</td></tr><tr><td>21</td><td>0.25</td></tr></table><p style=\"text-align:center\">Schuss 7</p>"
      ],
      "text/latex": [
       "\\begin{longtable}[H]{@{}ll@{}}\n",
       "\\toprule\\addlinespace\n",
       "Messung [1] & Ausschlag [m]\\\\\\addlinespace \n",
       "\\midrule\\endhead\n",
       "1 & 0.315\\\\\\addlinespace \n",
       "6 & 0.295\\\\\\addlinespace \n",
       "11 & 0.275\\\\\\addlinespace \n",
       "16 & 0.26\\\\\\addlinespace \n",
       "21 & 0.25\\\\\\addlinespace \n",
       "\\\\\\bottomrule\\caption{Schuss 7}\\\\\\label{None}\n",
       " \\end{longtable}"
      ],
      "text/plain": [
       "[['Messung [1]', 'Ausschlag [m]'],\n",
       " (1, 0.315),\n",
       " (6, 0.29499999999999998),\n",
       " (11, 0.27500000000000002),\n",
       " (16, 0.26000000000000001),\n",
       " (21, 0.25)]"
      ]
     },
     "metadata": {},
     "output_type": "display_data"
    },
    {
     "data": {
      "text/html": [
       "<table style=\"margin:auto;\"><tr><td>Messung [1]</td><td>Ausschlag [m]</td></tr><tr><td>1</td><td>0.315</td></tr><tr><td>6</td><td>0.295</td></tr><tr><td>11</td><td>0.275</td></tr><tr><td>16</td><td>0.26</td></tr><tr><td>21</td><td>0.245</td></tr></table><p style=\"text-align:center\">Schuss 8</p>"
      ],
      "text/latex": [
       "\\begin{longtable}[H]{@{}ll@{}}\n",
       "\\toprule\\addlinespace\n",
       "Messung [1] & Ausschlag [m]\\\\\\addlinespace \n",
       "\\midrule\\endhead\n",
       "1 & 0.315\\\\\\addlinespace \n",
       "6 & 0.295\\\\\\addlinespace \n",
       "11 & 0.275\\\\\\addlinespace \n",
       "16 & 0.26\\\\\\addlinespace \n",
       "21 & 0.245\\\\\\addlinespace \n",
       "\\\\\\bottomrule\\caption{Schuss 8}\\\\\\label{None}\n",
       " \\end{longtable}"
      ],
      "text/plain": [
       "[['Messung [1]', 'Ausschlag [m]'],\n",
       " (1, 0.315),\n",
       " (6, 0.29499999999999998),\n",
       " (11, 0.27500000000000002),\n",
       " (16, 0.26000000000000001),\n",
       " (21, 0.245)]"
      ]
     },
     "metadata": {},
     "output_type": "display_data"
    },
    {
     "data": {
      "text/html": [
       "<table style=\"margin:auto;\"><tr><td>Messung [1]</td><td>Ausschlag [m]</td></tr><tr><td>1</td><td>0.315</td></tr><tr><td>6</td><td>0.295</td></tr><tr><td>11</td><td>0.28</td></tr><tr><td>16</td><td>0.265</td></tr><tr><td>21</td><td>0.25</td></tr></table><p style=\"text-align:center\">Schuss 9</p>"
      ],
      "text/latex": [
       "\\begin{longtable}[H]{@{}ll@{}}\n",
       "\\toprule\\addlinespace\n",
       "Messung [1] & Ausschlag [m]\\\\\\addlinespace \n",
       "\\midrule\\endhead\n",
       "1 & 0.315\\\\\\addlinespace \n",
       "6 & 0.295\\\\\\addlinespace \n",
       "11 & 0.28\\\\\\addlinespace \n",
       "16 & 0.265\\\\\\addlinespace \n",
       "21 & 0.25\\\\\\addlinespace \n",
       "\\\\\\bottomrule\\caption{Schuss 9}\\\\\\label{None}\n",
       " \\end{longtable}"
      ],
      "text/plain": [
       "[['Messung [1]', 'Ausschlag [m]'],\n",
       " (1, 0.315),\n",
       " (6, 0.29499999999999998),\n",
       " (11, 0.28000000000000003),\n",
       " (16, 0.26500000000000001),\n",
       " (21, 0.25)]"
      ]
     },
     "metadata": {},
     "output_type": "display_data"
    },
    {
     "data": {
      "text/html": [
       "<table style=\"margin:auto;\"><tr><td>Messung [1]</td><td>Ausschlag [m]</td></tr><tr><td>1</td><td>0.315</td></tr><tr><td>6</td><td>0.295</td></tr><tr><td>11</td><td>0.275</td></tr><tr><td>16</td><td>0.26</td></tr><tr><td>21</td><td>0.25</td></tr></table><p style=\"text-align:center\">Schuss 10</p>"
      ],
      "text/latex": [
       "\\begin{longtable}[H]{@{}ll@{}}\n",
       "\\toprule\\addlinespace\n",
       "Messung [1] & Ausschlag [m]\\\\\\addlinespace \n",
       "\\midrule\\endhead\n",
       "1 & 0.315\\\\\\addlinespace \n",
       "6 & 0.295\\\\\\addlinespace \n",
       "11 & 0.275\\\\\\addlinespace \n",
       "16 & 0.26\\\\\\addlinespace \n",
       "21 & 0.25\\\\\\addlinespace \n",
       "\\\\\\bottomrule\\caption{Schuss 10}\\\\\\label{None}\n",
       " \\end{longtable}"
      ],
      "text/plain": [
       "[['Messung [1]', 'Ausschlag [m]'],\n",
       " (1, 0.315),\n",
       " (6, 0.29499999999999998),\n",
       " (11, 0.27500000000000002),\n",
       " (16, 0.26000000000000001),\n",
       " (21, 0.25)]"
      ]
     },
     "metadata": {},
     "output_type": "display_data"
    }
   ],
   "source": [
    "for n in range(10):\n",
    "    df = pd.read_csv('data/ballistsisch_{}.csv'.format(n))\n",
    "    data = PrettyTable(list(zip(df['measurement'], df['x'])), caption='Schuss {0}'.format(n + 1), entries_per_column=5, extra_header=['Messung [1]', 'Ausschlag [m]'])\n",
    "    data.show()"
   ]
  },
  {
   "cell_type": "markdown",
   "metadata": {},
   "source": [
    "## Flugzeitmethode"
   ]
  },
  {
   "cell_type": "code",
   "execution_count": 28,
   "metadata": {
    "ExecuteTime": {
     "end_time": "2016-11-30T23:06:03.613846",
     "start_time": "2016-11-30T23:06:03.609122"
    },
    "collapsed": false
   },
   "outputs": [
    {
     "data": {
      "text/html": [
       "<table style=\"margin:auto;\"><tr><td>Messung [1]</td><td>Laufzeit [s]</td></tr><tr><td>0</td><td>0.00331153</td></tr><tr><td>1</td><td>0.00329288</td></tr><tr><td>2</td><td>0.00328769</td></tr><tr><td>3</td><td>0.00328727</td></tr><tr><td>4</td><td>0.00326389</td></tr><tr><td>5</td><td>0.00330276</td></tr><tr><td>6</td><td>0.0032916</td></tr><tr><td>7</td><td>0.00330574</td></tr><tr><td>8</td><td>0.00327961</td></tr><tr><td>9</td><td>0.00328977</td></tr></table><p style=\"text-align:center\">Laufzeiten der einzelnen Schüsse.</p>"
      ],
      "text/latex": [
       "\\begin{longtable}[H]{@{}ll@{}}\n",
       "\\toprule\\addlinespace\n",
       "Messung [1] & Laufzeit [s]\\\\\\addlinespace \n",
       "\\midrule\\endhead\n",
       "0 & 0.00331153\\\\\\addlinespace \n",
       "1 & 0.00329288\\\\\\addlinespace \n",
       "2 & 0.00328769\\\\\\addlinespace \n",
       "3 & 0.00328727\\\\\\addlinespace \n",
       "4 & 0.00326389\\\\\\addlinespace \n",
       "5 & 0.00330276\\\\\\addlinespace \n",
       "6 & 0.0032916\\\\\\addlinespace \n",
       "7 & 0.00330574\\\\\\addlinespace \n",
       "8 & 0.00327961\\\\\\addlinespace \n",
       "9 & 0.00328977\\\\\\addlinespace \n",
       "\\\\\\bottomrule\\caption{Laufzeiten der einzelnen Schüsse.}\\\\\\label{None}\n",
       " \\end{longtable}"
      ],
      "text/plain": [
       "[['Messung [1]', 'Laufzeit [s]'],\n",
       " (0, 0.00331153),\n",
       " (1, 0.0032928800000000002),\n",
       " (2, 0.0032876899999999998),\n",
       " (3, 0.0032872700000000001),\n",
       " (4, 0.0032638900000000002),\n",
       " (5, 0.0033027600000000001),\n",
       " (6, 0.0032916),\n",
       " (7, 0.0033057400000000002),\n",
       " (8, 0.0032796100000000001),\n",
       " (9, 0.00328977)]"
      ]
     },
     "metadata": {},
     "output_type": "display_data"
    }
   ],
   "source": [
    "data = PrettyTable(list(zip(v1_df['measurement'], v1_df['t'])), caption='Laufzeiten der einzelnen Schüsse.', entries_per_column=10, extra_header=['Messung [1]', 'Laufzeit [s]'])\n",
    "data.show()"
   ]
  },
  {
   "cell_type": "markdown",
   "metadata": {},
   "source": [
    "## Drehstossmethode"
   ]
  },
  {
   "cell_type": "code",
   "execution_count": 29,
   "metadata": {
    "ExecuteTime": {
     "end_time": "2016-11-30T23:06:04.654816",
     "start_time": "2016-11-30T23:06:04.648554"
    },
    "collapsed": false
   },
   "outputs": [
    {
     "data": {
      "text/html": [
       "<table style=\"margin:auto;\"><tr><td>Messung [1]</td><td>Laufzeit [s]</td><td>Halbe Periode [s]</td><td>Masse eines Hantelstücks [kg]</td></tr><tr><td>0</td><td>0.00328378</td><td>0.166</td><td>0.015870000000000002</td></tr><tr><td>1</td><td>0.00328522</td><td>0.166</td><td>0.015870000000000002</td></tr><tr><td>2</td><td>0.00328522</td><td>0.165</td><td>0.015870000000000002</td></tr><tr><td>3</td><td>0.00327688</td><td>0.165</td><td>0.015870000000000002</td></tr><tr><td>4</td><td>0.00326861</td><td>0.165</td><td>0.015870000000000002</td></tr><tr><td>5</td><td>0.00325162</td><td>0.38</td><td>0.04208</td></tr><tr><td>6</td><td>0.00327038</td><td>0.379</td><td>0.04208</td></tr><tr><td>7</td><td>0.00326101</td><td>0.379</td><td>0.04208</td></tr><tr><td>8</td><td>0.00325607</td><td>0.377</td><td>0.04208</td></tr><tr><td>9</td><td>0.00326871</td><td>0.38</td><td>0.04208</td></tr></table><p style=\"text-align:center\">Messwerte der Drehstossmethode.</p>"
      ],
      "text/latex": [
       "\\begin{longtable}[H]{@{}llll@{}}\n",
       "\\toprule\\addlinespace\n",
       "Messung [1] & Laufzeit [s] & Halbe Periode [s] & Masse eines Hantelstücks [kg]\\\\\\addlinespace \n",
       "\\midrule\\endhead\n",
       "0 & 0.00328378 & 0.166 & 0.01587\\\\\\addlinespace \n",
       "1 & 0.00328522 & 0.166 & 0.01587\\\\\\addlinespace \n",
       "2 & 0.00328522 & 0.165 & 0.01587\\\\\\addlinespace \n",
       "3 & 0.00327688 & 0.165 & 0.01587\\\\\\addlinespace \n",
       "4 & 0.00326861 & 0.165 & 0.01587\\\\\\addlinespace \n",
       "5 & 0.00325162 & 0.38 & 0.04208\\\\\\addlinespace \n",
       "6 & 0.00327038 & 0.379 & 0.04208\\\\\\addlinespace \n",
       "7 & 0.00326101 & 0.379 & 0.04208\\\\\\addlinespace \n",
       "8 & 0.00325607 & 0.377 & 0.04208\\\\\\addlinespace \n",
       "9 & 0.00326871 & 0.38 & 0.04208\\\\\\addlinespace \n",
       "\\\\\\bottomrule\\caption{Messwerte der Drehstossmethode.}\\\\\\label{None}\n",
       " \\end{longtable}"
      ],
      "text/plain": [
       "[['Messung [1]',\n",
       "  'Laufzeit [s]',\n",
       "  'Halbe Periode [s]',\n",
       "  'Masse eines Hantelstücks [kg]'],\n",
       " (0, 0.00328378, 0.16600000000000001, 0.015870000000000002),\n",
       " (1, 0.0032852200000000002, 0.16600000000000001, 0.015870000000000002),\n",
       " (2, 0.0032852200000000002, 0.16500000000000001, 0.015870000000000002),\n",
       " (3, 0.0032768799999999998, 0.16500000000000001, 0.015870000000000002),\n",
       " (4, 0.0032686099999999999, 0.16500000000000001, 0.015870000000000002),\n",
       " (5, 0.0032516200000000002, 0.38, 0.042079999999999999),\n",
       " (6, 0.0032703799999999998, 0.379, 0.042079999999999999),\n",
       " (7, 0.00326101, 0.379, 0.042079999999999999),\n",
       " (8, 0.0032560699999999998, 0.377, 0.042079999999999999),\n",
       " (9, 0.0032687100000000002, 0.38, 0.042079999999999999)]"
      ]
     },
     "metadata": {},
     "output_type": "display_data"
    }
   ],
   "source": [
    "v2_df['real_m'] = v2_m[v2_df['m']]\n",
    "\n",
    "data = PrettyTable(list(zip(v2_df['measurement'], v2_df['t'], v2_df['T_2'], v2_df['real_m'])), caption='Messwerte der Drehstossmethode.', entries_per_column=10, extra_header=['Messung [1]', 'Laufzeit [s]', 'Halbe Periode [s]', 'Masse eines Hantelstücks [kg]'])\n",
    "data.show()"
   ]
  }
 ],
 "metadata": {
  "celltoolbar": "Edit Metadata",
  "kernelspec": {
   "display_name": "Python 3",
   "language": "python",
   "name": "python3"
  },
  "language_info": {
   "codemirror_mode": {
    "name": "ipython",
    "version": 3
   },
   "file_extension": ".py",
   "mimetype": "text/x-python",
   "name": "python",
   "nbconvert_exporter": "python",
   "pygments_lexer": "ipython3",
   "version": "3.5.1"
  },
  "toc": {
   "nav_menu": {
    "height": "372px",
    "width": "252px"
   },
   "navigate_menu": true,
   "number_sections": true,
   "sideBar": true,
   "threshold": 4,
   "toc_cell": false,
   "toc_section_display": "block",
   "toc_window_display": false
  }
 },
 "nbformat": 4,
 "nbformat_minor": 1
}
