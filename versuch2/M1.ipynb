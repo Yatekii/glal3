{
 "cells": [
  {
   "cell_type": "raw",
   "metadata": {},
   "source": [
    "\\tableofcontents\n",
    "\\newpage"
   ]
  },
  {
   "cell_type": "code",
   "execution_count": 1,
   "metadata": {
    "ExecuteTime": {
     "end_time": "2016-11-21T22:57:31.549358",
     "start_time": "2016-11-21T22:57:30.363679"
    },
    "code_folding": [
     0
    ],
    "collapsed": false
   },
   "outputs": [],
   "source": [
    "# Preparations\n",
    "import math\n",
    "import pandas as pd\n",
    "import matplotlib.pyplot as plt\n",
    "import matplotlib.patches as mpatches\n",
    "import numpy as np\n",
    "from scipy import stats\n",
    "from scipy.optimize import curve_fit\n",
    "import seaborn as sns\n",
    "from IPython.display import Latex\n",
    "import warnings\n",
    "from PrettyTable import PrettyTable\n",
    "from functools import partial\n",
    "from PrettyFigure import PrettyFigure\n",
    "warnings.filterwarnings(\"ignore\", module=\"matplotlib\")\n",
    "%matplotlib inline\n",
    "%config InlineBackend.figure_format = 'svg'\n",
    "plt.rcParams['savefig.dpi'] = 75\n",
    "\n",
    "# plt.rcParams['figure.autolayout'] = False\n",
    "# plt.rcParams['figure.figsize'] = 10, 6\n",
    "plt.rcParams['axes.labelsize'] = 18\n",
    "plt.rcParams['axes.titlesize'] = 20\n",
    "plt.rcParams['font.size'] = 16\n",
    "plt.rcParams['lines.linewidth'] = 2.0\n",
    "plt.rcParams['lines.markersize'] = 8\n",
    "plt.rcParams['legend.fontsize'] = 14\n",
    "\n",
    "plt.rcParams['text.usetex'] = True\n",
    "plt.rcParams['text.latex.unicode'] = True\n",
    "plt.rcParams['font.family'] = \"STIX\"\n",
    "plt.rcParams['text.latex.preamble'] = \"\\\\usepackage{subdepth}, \\\\usepackage{type1cm}\"\n",
    "\n",
    "sns.set(color_codes=True)\n",
    "\n",
    "def average(data):\n",
    "    return 1 / len(data) * sum(data)\n",
    "\n",
    "def error(data, average_of_data):\n",
    "    s = sum([(x - average_of_data)**2 for x in data])\n",
    "    return math.sqrt(s / (len(data) * (len(data) - 1)))\n",
    "\n",
    "def std_deviation(error_of_average, length_of_dataset):\n",
    "    return error_of_average * math.sqrt(length_of_dataset)\n",
    "\n",
    "def average_with_weights(data, weights):\n",
    "    d = data\n",
    "    w = weights\n",
    "    return (d * w**-2).sum() / (w**-2).sum()\n",
    "\n",
    "def error_with_weights(weights):\n",
    "    w = weights\n",
    "    return 1 / math.sqrt((w**-2).sum())\n",
    "\n",
    "def wavg(group, avg_name, weight_name):\n",
    "    d = group[avg_name]\n",
    "    w = group[weight_name]\n",
    "    return (d * w**-2).sum() / (w**-2).sum()\n",
    "\n",
    "def werr(group, weight_name):\n",
    "    return 1 / math.sqrt((group[weight_name]**-2).sum())"
   ]
  },
  {
   "cell_type": "markdown",
   "metadata": {},
   "source": [
    "# Arbeitsgrundlagen\n",
    "\n",
    "Im Versuch M1 geht es darum die Geschwindigkeit einer Pistolenkugel auf verschiedene Arten zu bestimmen. Dabei gibt es noch verschiedene Arten von Geschwindigkeiten.\n",
    "\n",
    "## Flugzeitmethode\n",
    "\n",
    "Die __mittlere Geschwindigkeit__ eines Objektes kann durch \\ref{eq:velocity} berechnet werden.\n",
    "\n",
    "\\begin{equation}\n",
    "\\overline{v} = \\frac{s}{t}\n",
    "\\label{eq:velocity}\n",
    "\\end{equation}\n",
    "\n",
    "Wenn also die Abschusszeit und die Aufprallzeit, sowie die Flugstrecke bekannt sind, so kann die Zeitdifferenz und somit die mittlere Fluggeschwindigkeit des Geschosses ermittelt werden."
   ]
  },
  {
   "cell_type": "markdown",
   "metadata": {},
   "source": [
    "## Ballistische Methode\n",
    "\n",
    "Bei dieser Methode wird ein Schuss auf ein hängendes Pendel abgegeben. Die Gleichungen im folgenden Abschnitt wurden durch den Dozenten zur Verfügung gestellt.\n",
    "\n",
    "Der Impuls p ist gegeben durch die Gleichung in \\ref{eq:impulse}. Dieser Impuls kann beim Aufprall der Pistolenkugel auf ein ballistisches Pendel gemessen werden. Durch den erheblichen Massenunterschied der Kugel und des Pendels bleibt die Kugel stecken. Ein inelastischer Stoss resultiert. Aus diesem Grund wird die komplette kinetische Energie in Wärme umgewandelt. Der Energieerhaltungssatz ist hier also schwierig anwendbar.\n",
    "\n",
    "\\begin{equation}\n",
    "p = mv = (m + M)\\cdot u\n",
    "\\label{eq:impulse}\n",
    "\\end{equation}\n",
    "\n",
    "Die verbleibende kinetische Energie wird beim Ausschlagen des Pendels in potentielle Hubenergie umgewandelt.\n",
    "Mithilfe des Energiesatzes wird die Geschwindigkeit u durch die Hubhöhe h mit Gleichung \\ref{eq:hubheight} ersetzt.\n",
    "\n",
    "\\begin{equation}\n",
    "u = \\sqrt{2gh}\n",
    "\\label{eq:hubheight}\n",
    "\\end{equation}\n",
    "\n",
    "![Ballistische Methode](images/pendulum.png)\n",
    "\n",
    "Aus Grafik \\ref{fig:Ballistische Methode} können die Gleichungen \\ref{eq:h} und \\ref{eq:cosphi} bestimmt werden.\n",
    "\n",
    "\\begin{equation}\n",
    "h = l \\cdot (1 - cos\\varphi)\n",
    "\\label{eq:h}\n",
    "\\end{equation}\n",
    "\n",
    "\\begin{equation}\n",
    "\\cos\\varphi = \\frac{a}{\\sqrt{a^2 + x^2}}\n",
    "\\label{eq:cosphi}\n",
    "\\end{equation}\n",
    "\n",
    "Da der Schwerpunkt und somit die Länge l des Pendels nur ungenau ermittelt werden können, wird ein Umweg über die Schwingungsdauer T ersichtlich in \\ref{eq:Schwingungsdauer} gewählt.\n",
    "\n",
    "\\begin{equation}\n",
    "T = 2\\pi\\cdot\\sqrt{\\frac{l}{g}}\n",
    "\\label{eq:Schwingungsdauer}\n",
    "\\end{equation}\n",
    "\n",
    "Daraus resultiert die Gleichung \\ref{eq:u}.\n",
    "\n",
    "\\begin{equation}\n",
    "u = \\frac{g}{2\\pi}\\cdot T\\cdot\\sqrt{2\\cdot\\Bigg(1-\\frac{1}{\\sqrt{1 + (\\frac{x}{a})^2}}\\Bigg)}\n",
    "\\label{eq:u}\n",
    "\\end{equation}\n",
    "\n",
    "Mit je einer Taylorentwicklung kann die Gleichung \\ref{eq:u} auf Gleichung \\ref{eq:u_taylor} angenähert werden.\n",
    "\n",
    "\\begin{equation}\n",
    "u = \\frac{g}{2\\pi}\\cdot\\frac{M+m}{m}\\cdot T\\cdot\\frac{x}{a}\\cdot\\Bigg[1-\\frac{3}{8}\\cdot\\Big(\\frac{x}{a}\\Big)^2\\Bigg]\n",
    "\\label{eq:u_taylor}\n",
    "\\end{equation}\n",
    "\n",
    "Da die Taylorreihe nur bis zum Grad 2 entwickelt wurde, wäre der nächste Term der Grässenordnung $10^{-4}$. Es ergibt sich also ein sehr genauer Wert.\n",
    "\n",
    "Somit sind während des Experimentes die Grössen m, M, a, x und T zu bestimmen."
   ]
  },
  {
   "cell_type": "markdown",
   "metadata": {},
   "source": [
    "## Drehstossmethode\n",
    "\n",
    "Bei dieser Methode wird ein Geschoss wie in Abbildung \\ref{fig:Drehstossmethode} gezeigt ein Geschoss auf eine um eine starre Achse frei drehbar gelagerte Hantel abgeschossen. Die Gleichungen im folgenden Abschnitt wurden durch den Dozenten zur Verfügung gestellt.\n",
    "\n",
    "![Drehstossmethode](images/drehstoss.png)\n",
    "\n",
    "Für eine mit v geradlinig bewegte Punktmasse m kann der Drehimpuls bezüglich der Drehachse a mit Gleichung \\ref{eq:drehimpuls} bestimmt werden.\n",
    "\n",
    "\\begin{equation}\n",
    "\\vec{L_a}=\\vec{r}\\times\\vec{p}=m\\cdot (\\vec{r}\\times\\vec{v})\n",
    "\\label{eq:drehimpuls}\n",
    "\\end{equation}\n",
    "\n",
    "Ferner ist bekannt, dass wie in Gleichung \\ref{eq:gesamtdrehimpuls} beschrieben, der Gesamtdrehimpuls des Systems erhalten bleibt.\n",
    "\n",
    "\\begin{equation}\n",
    "L_a=L_{a,Kugel}+L_{a,Hantel}=const.\n",
    "\\label{eq:gesamtdrehimpuls}\n",
    "\\end{equation}\n",
    "\n",
    "Daraus folgt, dass für die anfänglich ruhende Hantel Gleichung \\ref{eq:ruhe} gilt welche dann gleichzusetzen ist mit der Gleichung \\ref{eq:bewegung} der bewegten Hantel nach dem Aufprall.\n",
    "\n",
    "\\begin{equation}\n",
    "L_a=m\\cdot d\\cdot v+0\n",
    "\\label{eq:ruhe}\n",
    "\\end{equation}\n",
    "\n",
    "\\begin{equation}\n",
    "L_a=\\omega\\cdot(I_{a,H}+m\\cdot d^2)\n",
    "\\label{eq:bewegung}\n",
    "\\end{equation}\n",
    "\n",
    "Daraus abgeleitet ergibt sich für die Geschwindigkeit der Pistolenkugel beim Aufprall die Gleichung \\ref{eq:vdrehstoss}, wobei $I_{a,H}$ dem Inneren Moment der Hantel bezüglich a und $\\omega$ der Winkelgeschwingikeit der Hantel um die Achse a entspricht.\n",
    "\n",
    "\\begin{equation}\n",
    "v=\\omega\\cdot\\bigg(\\frac{I_{a,H}}{m\\cdot d}+d\\bigg)\n",
    "\\label{eq:vdrehstoss}\n",
    "\\end{equation}\n",
    "\n",
    "Somit sind für dieses Experiment die Grössen $I_{a,H}$, m, d und $\\omega$ zu bestimmen.\n",
    "\n",
    "$I_{a,H}$ kann bestimmt werden mit Gleichung \\ref{eq:inertia}. Hierbei ist $I{a,H_0}$ das Moment der Hantel ohne Gewichte. Es wird durch den Dozenten geliefert. $m$ ist die Masse eines Gewichtes und $d$ der Abstand zum Mittelpunkt der Hantel. Die Gleichung kann hergeleitet werden durch das Innere Moment einer Punktmasse erhalten mit Gleichung \\ref{eq:J_punktmasse}. Da zwei Gewichte vorhanden sind wird dieses doppelt addiert und dem Moment der Hantel ohne Gewichte hinzugefügt.\n",
    "\n",
    "\\begin{equation}\n",
    "I_{a,P}=m*r^2\n",
    "\\label{eq:J_punktmasse}\n",
    "\\end{equation}\n",
    "\n",
    "\\begin{equation}\n",
    "I_{a,H}=2*m*d^2 + I{a,H_0}\n",
    "\\label{eq:inertia}\n",
    "\\end{equation}"
   ]
  },
  {
   "cell_type": "markdown",
   "metadata": {},
   "source": [
    "## Einfluss des Luftwiderstandes auf die Geschossgeschwindigkeit\n",
    "\n",
    "Bisher wurde gezeigt wie die mittlere, sowie die Aufprallgeschwindigkeit ermittelt werden können. Interessant ist aber auch die Mündungsgeschwindigkeit des Geschosses. Zur berechnung dieser wurden die Gleichungen im Folgenden durch den Dozenten zur Verfügung gestellt.\n",
    "\n",
    "Diese kann man sehr gut über den wirkenden Luftwiderstand bestimmen. Der Luftwiderstand ist gegeben durch die Beziehung in \\ref{eq:luftwiderstand}, wobei v die Momentangeschwidigkeit des Geschosses, A die Querschnittfläche jenes Geschosses, $\\rho_L$ die Luftdichte und c_w der Widerstandsbeiwert des Projektils sind.\n",
    "\n",
    "\\begin{equation}\n",
    "F_L=\\frac{1}{2}c_\\omega\\cdot A\\cdot\\rho_L\\cdot v^2\n",
    "\\label{eq:luftwiderstand}\n",
    "\\end{equation}\n",
    "\n",
    "Das Projektil verliert ebensoviel Kinetische Energie wie der Luftwiderstand Bremsarbeit verrichtet. Dies is mit Gleichungen \\ref{eq:kinetische_energie} und \\ref{eq:kinetische_energie_eingesetzt} ersichtlich.\n",
    "\n",
    "\\begin{equation}\n",
    "dE_{kin}=-F_Lds\n",
    "\\label{eq:kinetische_energie}\n",
    "\\end{equation}\n",
    "\n",
    "\\begin{equation}\n",
    "m\\cdot v\\cdot dv=-\\frac{1}{2}c_\\omega\\cdot A\\cdot\\rho_L\\cdot v^2\\cdot ds\n",
    "\\label{eq:kinetische_energie_eingesetzt}\n",
    "\\end{equation}\n",
    "\n",
    "Daraus kann die Differenzengleichung \\ref{eq:kin_diff} gebildet werden. Mit den Anfangsbedingungen s = 0 und v = $v_0$ wird Gleichung \\ref{eq:v0} erhalten. Diese kann für sehr kleine $k\\cdot s$ mit \\ref{eq:v0_approx} angenähert werden. $k$ ist in allen diesen Gleichungen mit dem Term $k = \\frac{c_\\omega\\cdot A\\cdot\\rho_L}{2m}$ zu beziffern.\n",
    "\n",
    "\\begin{equation}\n",
    "\\frac{dv}{v}=-k\\cdot ds\n",
    "\\label{eq:kin_diff}\n",
    "\\end{equation}\n",
    "\n",
    "\\begin{equation}\n",
    "v=v_0\\cdot e^{-k\\cdot s}\n",
    "\\label{eq:v0}\n",
    "\\end{equation}\n",
    "\n",
    "\\begin{equation}\n",
    "v=v_0\\cdot (1-k\\cdot s)\n",
    "\\label{eq:v0_approx}\n",
    "\\end{equation}"
   ]
  },
  {
   "cell_type": "markdown",
   "metadata": {
    "ExecuteTime": {
     "end_time": "2016-11-19T10:54:54.613472",
     "start_time": "2016-11-19T10:54:54.607034"
    }
   },
   "source": [
    "# Versuchsaufbau"
   ]
  },
  {
   "cell_type": "markdown",
   "metadata": {},
   "source": [
    "# Versuchsdurchführung\n",
    "\n",
    "Für alle drei im Versuch angewandten Methoden zur Bestimmung der Projektilgeschwindigkeit (Flugzeitmethode, ballistische Methode, Drehstossmethode) wurde der Versuchsaufbau vermessen. So konnten folgende Parameter bestimmt werden:"
   ]
  },
  {
   "cell_type": "code",
   "execution_count": 2,
   "metadata": {
    "ExecuteTime": {
     "end_time": "2016-11-21T22:57:31.562291",
     "start_time": "2016-11-21T22:57:31.551340"
    },
    "code_folding": [
     0
    ],
    "collapsed": false
   },
   "outputs": [],
   "source": [
    "# define base values and measurements\n",
    "\n",
    "v1_s = 0.500\n",
    "v1_sb1 = 1.800\n",
    "v1_sb2 = 1.640\n",
    "v1_m = np.mean([0.47, 0.46, 0.46, 0.46, 0.46, 0.47, 0.46, 0.46, 0.46, 0.46, 4.65 / 10]) * 1e-3\n",
    "v1_T = np.mean([28.68 / 10, 28.91 / 10])\n",
    "\n",
    "v1_cw = 0.75\n",
    "v1_cw_u = 0.08\n",
    "v1_A = 4*1e-6\n",
    "v1_pl = 1.2041\n",
    "\n",
    "def air_resistance(s, v):\n",
    "    k = v1_cw * v1_A * v1_pl / 2 / v1_m\n",
    "    v0 = v / (1 - k * s)\n",
    "    return v0"
   ]
  },
  {
   "cell_type": "markdown",
   "metadata": {
    "variables": {
     "'{0:.2f}'.format(v1_T)": "2.88",
     "'{0:.2f}'.format(v1_m)": "0.00",
     "v1_A": "4e-06",
     "v1_s": "0.5",
     "v1_sb1": "1.8",
     "v1_sb2": "1.64"
    }
   },
   "source": [
    "<center>\n",
    "    <t>Strecke zwischen den Lichtschranken:</t> $s$ = {{v1_s}}  \n",
    "    <t>Strecke zwischen Mündung und Pendel:</t> $s_{B1}$ = {{v1_sb1}}  \n",
    "    <t>Strecke zwischen Mündung und Hantel:</t> $s_{B2}$ = {{v1_sb2}}  \n",
    "    <t>Masse des Projektils im Mittel:</t> $m$ = {{'{0:.2f}'.format(v1_m)}}  \n",
    "    <t>Mittlere Schwingungsdauer des Pendels:</t> $T$ = {{'{0:.2f}'.format(v1_T)}}  \n",
    "    <t>Die Querschnittsfläche eines Projektils:</t> $A$ = {{v1_A}}  \n",
    "    TODO: v1_cw, v1_pl\n",
    "</center>"
   ]
  },
  {
   "cell_type": "markdown",
   "metadata": {},
   "source": [
    "## Ballistische Methode\n",
    "\n",
    "Erst wurden 10 Messungen mit der ballistischen Methode durchgeführt. Hierbei wird ein Schuss auf ein Pendel abgefeuert.\n",
    "Es wurde zum einen die Zeit die vergeht bis das Projektil beide Lichtschranken passiert hat gemessen und zum anderen wurde der Ausschlag des Pendels gemessen.\n",
    "\n",
    "Da in der Pendelgleichung der Luftwiderstand sowie der Reibungswiderstand der Aufhängung nicht berücksichtigt sind, wurden pro Schuss 5 Messungen des Ausschlages gemacht. Mit linearer Regression kann somit der korrekte erste Ausschlag gefunden werden. So ist nämlich der Y-Achsenabschnitt der Fit-Gerade gerade der um den Luftwiderstand korrigierte erste Ausschlag.\n",
    "Wichtig dabei ist, dass für die Messungen der Amplituden n-0.75 anstelle von n verwendet wird. Denn bei Messung der ersten Amplitude sind ja schon 0.25 Schwingungen vergangen, etc.\n",
    "\n",
    "Damit besser gezählt werden konnte, wurde nur jeder fünfte Ausschlag am oberen Ende des Lineals gemessen. Somit wurden die Amplituden zu den Schwingungszeiten [0.25, 5.25, 10.25, 15.25, 20.25] gemessen. Diese führen nun mit einem Linearen Fit zum gesuchten um die Nichtidealitäten korrigierten Ergebnis.\n",
    "\n",
    "Dieses Verfahren ist in Grafik \\ref{fig:luftwiderstand_fit} gut zu sehen. Dieses wurde für alle zehn abgegeben Schuss durchgeführt, hier aber nur für den ersten Schuss grafisch dargestellt."
   ]
  },
  {
   "cell_type": "code",
   "execution_count": 3,
   "metadata": {
    "ExecuteTime": {
     "end_time": "2016-11-21T22:57:39.027566",
     "start_time": "2016-11-21T22:57:31.615409"
    },
    "caption": "Lineare Regression zur bestimmung des maximalen Ausschlages des Pendels, falls keinerlei Unidealitäten dieses beeinflussen.",
    "code_folding": [],
    "collapsed": false,
    "label": "fig:luftwiderstand_fit",
    "widefigure": true
   },
   "outputs": [
    {
     "data": {
      "text/html": [
       "\n",
       "<center>\n",
       "    <object type=\"image/svg+xml\" data=\"images/figures/luftwiderstand_fit.svg\">\n",
       "  Your browser does not support SVG\n",
       "    </object>\n",
       "</center>\n",
       "<p style=\"text-align:center\">Lineare Regression zur bestimmung des maximalen Ausschlages des Pendels, falls keinerlei Unidealitäten dieses beeinflussen.</p>\n"
      ],
      "text/latex": [
       "\\begin{figure*}\n",
       "    \\begin{center}\\adjustimage{max size={0.9\\linewidth}{0.4\\paperheight}}{images/figures/luftwiderstand_fit.pdf}\\end{center}\n",
       "    \\caption{Lineare Regression zur bestimmung des maximalen Ausschlages des Pendels, falls keinerlei Unidealitäten dieses beeinflussen.}\n",
       "    \\label{fig:luftwiderstand_fit}\n",
       "\\end{figure*}\n",
       "        "
      ],
      "text/plain": [
       "<PrettyFigure.PrettyFigure at 0x1099b85f8>"
      ]
     },
     "metadata": {},
     "output_type": "display_data"
    }
   ],
   "source": [
    "# Evaluate Data\n",
    "%timeit\n",
    "\n",
    "# Read Data\n",
    "v1_df = pd.read_csv('data/ballistisch.csv')\n",
    "v1_M = 0.09836\n",
    "v1_l = 1.973\n",
    "v1_g = 9.80705\n",
    "\n",
    "# Plot only one graph of the linear fit\n",
    "df = pd.read_csv('data/ballistsisch_0.csv')\n",
    "slope, intercept, r, p, sem = stats.linregress(df['measurement'] + 0.25, df['x'])\n",
    "n = np.linspace(0, 21, 100)\n",
    "\n",
    "ax = df.plot(kind='scatter', x='measurement', y='x', label='gemessener Ausschlag')\n",
    "plt.plot(n, [i * slope + intercept for i in n], label='linearer Fit', axes=ax)\n",
    "plt.xlabel('Messung')\n",
    "plt.ylabel('x [m]')\n",
    "plt.legend(bbox_to_anchor=(0.02, 0.98), loc=2, borderaxespad=0.2)\n",
    "plt.close(ax.figure)\n",
    "\n",
    "figure = PrettyFigure(ax.figure, label='fig:luftwiderstand_fit', caption='Lineare Regression zur bestimmung des maximalen Ausschlages des Pendels, falls keinerlei Unidealitäten dieses beeinflussen.')\n",
    "figure.show()"
   ]
  },
  {
   "cell_type": "markdown",
   "metadata": {
    "variables": {
     "'{0:.2f}'.format(intercept)": "0.32"
    }
   },
   "source": [
    "Es resultiert in Grafik \\ref{fig:luftwiderstand_fit} also ein maximaler Ausschlag von {{'{0:.2f}'.format(intercept)}}m. In diesem sind bereits jegliche Verluste berücksichtigt.\n",
    "\n",
    "### Mittlere Geschwindigkeiten\n",
    "\n",
    "Dieses Verfahren wurde für alle zehn Messungen durchgeführt. Nun kann aus Gleichung \\ref{eq:u_taylor} die Aufprallgeschwindigkeit errechnet werden.\n",
    "\n",
    "Die errechneten mittleren Geschwindigkeiten sind in Grafik \\ref{fig:v_ballistisch} in Relation gesetzt."
   ]
  },
  {
   "cell_type": "code",
   "execution_count": 4,
   "metadata": {
    "ExecuteTime": {
     "end_time": "2016-11-21T22:57:44.660826",
     "start_time": "2016-11-21T22:57:39.039271"
    },
    "caption": "Aufprallgeschwindigkeiten der Kugel mit dem respektiven maximalen Ausschlag des Pendels",
    "code_folding": [
     0
    ],
    "collapsed": false,
    "label": "fig:v_ballistisch",
    "scrolled": false,
    "widefigure": true
   },
   "outputs": [
    {
     "data": {
      "text/html": [
       "\n",
       "<center>\n",
       "    <object type=\"image/svg+xml\" data=\"images/figures/v_ballistisch.svg\">\n",
       "  Your browser does not support SVG\n",
       "    </object>\n",
       "</center>\n",
       "<p style=\"text-align:center\">Aufprallgeschwindigkeiten der Kugel durch Ballistische Methode errechnet, im Vergleich zu den jeweiligen Geschwindigkeiten, welche durch die Flugzeitmethode berechnet wurden.</p>\n"
      ],
      "text/latex": [
       "\\begin{figure*}\n",
       "    \\begin{center}\\adjustimage{max size={0.9\\linewidth}{0.4\\paperheight}}{images/figures/v_ballistisch.pdf}\\end{center}\n",
       "    \\caption{Aufprallgeschwindigkeiten der Kugel durch Ballistische Methode errechnet, im Vergleich zu den jeweiligen Geschwindigkeiten, welche durch die Flugzeitmethode berechnet wurden.}\n",
       "    \\label{fig:v_ballistisch}\n",
       "\\end{figure*}\n",
       "        "
      ],
      "text/plain": [
       "<PrettyFigure.PrettyFigure at 0x10a6add68>"
      ]
     },
     "metadata": {},
     "output_type": "display_data"
    }
   ],
   "source": [
    "# Calculate mean velocity in air\n",
    "v1_df['v_flug'] = pd.Series(v1_s / v1_df['t'])\n",
    "\n",
    "# Calculate all x from the measurements\n",
    "v1_x = []\n",
    "for n in range(10):\n",
    "    df = pd.read_csv('data/ballistsisch_{}.csv'.format(n))\n",
    "    slope, intercept, r, p, sem = stats.linregress(df['measurement'] + 0.25, df['x'])\n",
    "    v1_x.append(intercept)\n",
    "v1_df['x'] = pd.Series(v1_x)\n",
    "\n",
    "# Calculate all v_B at impact\n",
    "v1_k = v1_g / (2 * math.pi) * (v1_M + v1_m) / v1_m / v1_l * v1_T\n",
    "v1_b = 1 - 3 / 8 * (v1_df['x'] / v1_l)**2\n",
    "v1_df['v_ballistic'] = pd.Series(v1_k * v1_df['x'] * v1_b)\n",
    "\n",
    "v1_mean = v1_df.mean()\n",
    "\n",
    "# Plot calculated velocities\n",
    "ax = v1_df.plot(kind='scatter', x='measurement', y='v_flug', label='$v_F$: errechnete Geschwindigkeit mit Flugzeitmethode')\n",
    "plt.scatter(v1_df['measurement'], v1_df['v_ballistic'], label='$v_B$: errechnete Geschwindigkeit mit ballistischer Methode', color='red', axes=ax)\n",
    "plt.axhline(y=v1_mean['v_flug'], axes=ax, color='blue', label='Mittelwert von $v_F$')\n",
    "plt.axhline(y=v1_mean['v_ballistic'], axes=ax, color='red', label='Mittelwert von $v_B$')\n",
    "plt.xlabel('Messung')\n",
    "plt.ylabel('$v[\\\\frac{m}{s}]$')\n",
    "#plt.ylim([150, 160])\n",
    "plt.legend(bbox_to_anchor=(0.02, 0.98), loc=2, borderaxespad=0.2)\n",
    "plt.close(ax.figure)\n",
    "\n",
    "figure = PrettyFigure(ax.figure, label='fig:v_ballistisch', caption='Aufprallgeschwindigkeiten der Kugel durch Ballistische Methode errechnet, im Vergleich zu den jeweiligen Geschwindigkeiten, welche durch die Flugzeitmethode berechnet wurden.')\n",
    "figure.show()"
   ]
  },
  {
   "cell_type": "markdown",
   "metadata": {},
   "source": [
    "### Vergleich der Messmethoden\n",
    "\n",
    "Um die Messmethoden vergleichen zu können wurden alle _einzelnen_ errechneten Geschwindigkeiten mithilfe der Luftwiderstandskorrekturgleichung \\ref{eq:v0_approx} auf einen Bezugspunkt, in diesem Falle wurde die Mündung gewählt, umgerechnet.\n",
    "Hier wurde für die Strecke der Flugzeitmethode $s$ = $\\frac{s}{2}$ und für die Strecke der ballistischen Methode $s$ = $s_{B1}$ gewählt."
   ]
  },
  {
   "cell_type": "code",
   "execution_count": 5,
   "metadata": {
    "ExecuteTime": {
     "end_time": "2016-11-21T22:57:55.442157",
     "start_time": "2016-11-21T22:57:44.663586"
    },
    "code_folding": [
     0
    ],
    "collapsed": false
   },
   "outputs": [
    {
     "data": {
      "text/html": [
       "\n",
       "<center>\n",
       "    <object type=\"image/svg+xml\" data=\"images/figures/laufzeiten_luft_v_balllistisch_mean.svg\">\n",
       "  Your browser does not support SVG\n",
       "    </object>\n",
       "</center>\n",
       "<p style=\"text-align:center\">Die Geschwindigkeiten errechnet mit der Flugzeit- und der ballistischen Methode an Mündung im Vergleich.</p>\n"
      ],
      "text/latex": [
       "\\begin{figure*}\n",
       "    \\begin{center}\\adjustimage{max size={0.9\\linewidth}{0.4\\paperheight}}{images/figures/laufzeiten_luft_v_balllistisch_mean.pdf}\\end{center}\n",
       "    \\caption{Die Geschwindigkeiten errechnet mit der Flugzeit- und der ballistischen Methode an Mündung im Vergleich.}\n",
       "    \\label{fig:laufzeiten_luft_v_balllistisch_mean}\n",
       "\\end{figure*}\n",
       "        "
      ],
      "text/plain": [
       "<PrettyFigure.PrettyFigure at 0x10dad2e80>"
      ]
     },
     "metadata": {},
     "output_type": "display_data"
    },
    {
     "data": {
      "text/html": [
       "\n",
       "<center>\n",
       "    <object type=\"image/svg+xml\" data=\"images/figures/laufzeiten_luft_v_balllistisch_mean_ratio.svg\">\n",
       "  Your browser does not support SVG\n",
       "    </object>\n",
       "</center>\n",
       "<p style=\"text-align:center\">Die mittleren Geschwindigkeiten errechnet mit der Flugzeit- und der ballistischen Methode an Mündung im Verhältnis dargestellt und ihr erwarteter Wert von 1 zum Vergleich.</p>\n"
      ],
      "text/latex": [
       "\\begin{figure*}\n",
       "    \\begin{center}\\adjustimage{max size={0.9\\linewidth}{0.4\\paperheight}}{images/figures/laufzeiten_luft_v_balllistisch_mean_ratio.pdf}\\end{center}\n",
       "    \\caption{Die mittleren Geschwindigkeiten errechnet mit der Flugzeit- und der ballistischen Methode an Mündung im Verhältnis dargestellt und ihr erwarteter Wert von 1 zum Vergleich.}\n",
       "    \\label{fig:laufzeiten_luft_v_balllistisch_mean_ratio}\n",
       "\\end{figure*}\n",
       "        "
      ],
      "text/plain": [
       "<PrettyFigure.PrettyFigure at 0x10bca8208>"
      ]
     },
     "metadata": {},
     "output_type": "display_data"
    }
   ],
   "source": [
    "# Luftwiderstandskorrektur single and mean calculation\n",
    "\n",
    "v1_flug_muendung = pd.Series(list(map(partial(air_resistance, v1_s / 2), v1_df['v_flug'])))\n",
    "v1_ballistic_muendung = pd.Series(list(map(partial(air_resistance, v1_sb1), v1_df['v_ballistic'])))\n",
    "v1_a = v1_flug_muendung / v1_ballistic_muendung\n",
    "v1_a_mean = np.mean(v1_a)\n",
    "v1_a_sem = stats.sem(v1_a)\n",
    "v1_df['a'] = v1_a\n",
    "v1_df['v_flug_muendung'] = v1_flug_muendung\n",
    "v1_df['v_ballistic_muendung'] = v1_ballistic_muendung\n",
    "\n",
    "v1_mean = v1_df.mean()\n",
    "\n",
    "ax = v1_df.plot(kind='scatter', x='measurement', y='v_flug_muendung', label='$v_{0,F}$')\n",
    "plt.scatter(v1_df['measurement'], v1_df['v_ballistic_muendung'], label='$v_{0,B}$', color='red', axes=ax)\n",
    "plt.axhline(y=v1_mean['v_flug_muendung'], axes=ax, color='blue', label='Mittelwert von $v_F$')\n",
    "plt.axhline(y=v1_mean['v_ballistic_muendung'], axes=ax, color='red', label='Mittelwert von $v_B$')\n",
    "plt.ylabel('$v_0 [\\\\frac{m}{s}]$')\n",
    "plt.xlabel('Messung')\n",
    "plt.legend(bbox_to_anchor=(0.02, 0.98), loc=2, borderaxespad=0.2)\n",
    "plt.close(ax.figure)\n",
    "\n",
    "figure = PrettyFigure(ax.figure, label='fig:laufzeiten_luft_v_balllistisch_mean', caption='Die Geschwindigkeiten errechnet mit der Flugzeit- und der ballistischen Methode an Mündung im Vergleich.')\n",
    "figure.show()\n",
    "\n",
    "ax = v1_df.plot(kind='scatter', x='measurement', y='a', label='errechnetes Verhältnis $a_i = V_{F,i}/V_{B,i}$')\n",
    "plt.axhline(y=v1_a_mean, axes=ax, label='Mittelwert des Verhältnisses a', color='green')\n",
    "plt.axhline(y=1, axes=ax, label='Erwarteter Wert 1', color='purple')\n",
    "plt.xlabel('Messung')\n",
    "plt.ylabel('a')\n",
    "plt.legend(bbox_to_anchor=(0.02, 0.98), loc=2, borderaxespad=0.2)\n",
    "plt.close(ax.figure)\n",
    "\n",
    "figure = PrettyFigure(ax.figure, label='fig:laufzeiten_luft_v_balllistisch_mean_ratio', caption='Die mittleren Geschwindigkeiten errechnet mit der Flugzeit- und der ballistischen Methode an Mündung im Verhältnis dargestellt und ihr erwarteter Wert von 1 zum Vergleich.')\n",
    "figure.show()"
   ]
  },
  {
   "cell_type": "markdown",
   "metadata": {},
   "source": [
    "### Streuung der Mündungsgeschwindigkeit"
   ]
  },
  {
   "cell_type": "code",
   "execution_count": 6,
   "metadata": {
    "ExecuteTime": {
     "end_time": "2016-11-21T22:58:01.162734",
     "start_time": "2016-11-21T22:57:55.445087"
    },
    "code_folding": [
     0
    ],
    "collapsed": false
   },
   "outputs": [
    {
     "data": {
      "text/html": [
       "\n",
       "<center>\n",
       "    <object type=\"image/svg+xml\" data=\"images/figures/laufzeiten_luft_muendung.svg\">\n",
       "  Your browser does not support SVG\n",
       "    </object>\n",
       "</center>\n",
       "<p style=\"text-align:center\">Die Mündungsgeschwindigkeiten errechnet mit der Flugzeitmethode. Dazu ihr Mittelwert und der Bereich der Standardabweichung.</p>\n"
      ],
      "text/latex": [
       "\\begin{figure*}\n",
       "    \\begin{center}\\adjustimage{max size={0.9\\linewidth}{0.4\\paperheight}}{images/figures/laufzeiten_luft_muendung.pdf}\\end{center}\n",
       "    \\caption{Die Mündungsgeschwindigkeiten errechnet mit der Flugzeitmethode. Dazu ihr Mittelwert und der Bereich der Standardabweichung.}\n",
       "    \\label{fig:laufzeiten_luft_muendung}\n",
       "\\end{figure*}\n",
       "        "
      ],
      "text/plain": [
       "<PrettyFigure.PrettyFigure at 0x109ab7588>"
      ]
     },
     "metadata": {},
     "output_type": "display_data"
    }
   ],
   "source": [
    "# Plot different methods with sem\n",
    "\n",
    "v1_mean = v1_df.mean()['v_flug_muendung']\n",
    "v1_sem = v1_df.sem()['v_flug_muendung']\n",
    "v1_std = v1_df.std()['v_flug_muendung']\n",
    "ax = v1_df.plot(kind='scatter', x='measurement', y='v_flug_muendung', label='errechnete Geschwindigkeit an der Mündung')\n",
    "plt.axhline(y=v1_mean, axes=ax, color='red', label='Mittelwert')\n",
    "plt.axhline(y=v1_mean+v1_sem, axes=ax, color='green', label='Mittelwert ± Fehler')\n",
    "plt.axhline(y=v1_mean-v1_sem, axes=ax, color='green')\n",
    "plt.axhline(y=v1_mean+v1_std, axes=ax, color='purple', label='Mittelwert ± Standardabweichung')\n",
    "plt.axhline(y=v1_mean-v1_std, axes=ax, color='purple')\n",
    "plt.legend(bbox_to_anchor=(0.02, 0.98), loc=2, borderaxespad=0.2)\n",
    "plt.xlabel('Messung')\n",
    "plt.ylabel('$v_{0,F} [\\\\frac{m}{s}]$')\n",
    "plt.close(ax.figure)\n",
    "\n",
    "figure = PrettyFigure(ax.figure, label='fig:laufzeiten_luft_muendung', caption='Die Mündungsgeschwindigkeiten errechnet mit der Flugzeitmethode. Dazu ihr Mittelwert und der Bereich der Standardabweichung.')\n",
    "figure.show()"
   ]
  },
  {
   "cell_type": "markdown",
   "metadata": {},
   "source": [
    "In Grafik \\ref{fig:muendungsgeschwindigkeiten} sind die mithilfe der Flugzeitmethode und der Luftwiderstandskorrektur errechneten Mündungsgeschwindigkeiten gezeigt."
   ]
  },
  {
   "cell_type": "markdown",
   "metadata": {},
   "source": [
    "## Drehstossmethode\n",
    "\n",
    "Hierbei wurde ein Geschoss auf eine horizontal drehbare Hantel abgefeuert. Dabei wurde wieder die Flugzeit innerhalb der Lichtschranken gemessen. Diesmal wurde jedoch zusätlich noch die Zeit die die Hantel für eine halbe Umdrehung benötigt gemessen. Damit konnte die Winkelgeschwindigkeit $\\omega$ durch Gleichung \\ref{eq:omega} bestimmt werden.\n",
    "\n",
    "\\begin{equation}\n",
    "\\omega=\\frac{2\\cdot\\pi}{T}\n",
    "\\label{eq:omega}\n",
    "\\end{equation}\n",
    "\n",
    "Mithilfe der errechneten Gleichung \\ref{eq:vdrehstoss} konnte die Geschwindikeit des Projektiles bestimmt werden. Dabei wurde die Gleichung in \\ref{eq:innertia} zur bestimmung der Trägheitsmomente der Beiden Hanteln mit unterschiedlichen Gewichten verwendet.\n",
    "\n",
    "Die Messresultate aus beiden Versuchen sind im Folgenden Teil dargestellt.\n",
    "Es wird ein Vergleich dieser Methodik zur Flugzeitmethode angestellt.\n",
    "\n",
    "### Mittlere Geschwindigkeiten\n",
    "\n",
    "Um die verschiedenen Methoden gut vergleichen zu können wurden die Mittelwerte der Flugzeitmethode und der Drehstossmethode errechnet.\n",
    "\n",
    "Die errechneten mittleren Geschwindigkeiten und ihre Unsicherheiten sind in Grafik \\ref{fig:laufzeiten_luft_v_drehstoss} in Relation gesetzt."
   ]
  },
  {
   "cell_type": "code",
   "execution_count": 7,
   "metadata": {
    "ExecuteTime": {
     "end_time": "2016-11-21T22:58:06.684600",
     "start_time": "2016-11-21T22:58:01.165343"
    },
    "code_folding": [
     0
    ],
    "collapsed": false
   },
   "outputs": [
    {
     "data": {
      "text/html": [
       "\n",
       "<center>\n",
       "    <object type=\"image/svg+xml\" data=\"images/figures/v_luft_v_drehstoss.svg\">\n",
       "  Your browser does not support SVG\n",
       "    </object>\n",
       "</center>\n",
       "<p style=\"text-align:center\">Die Geschwindigkeiten errechnet mit der Flugzeit- und der Drehstossmethode mit je fünf Messungen beider Gewichten im Vergleich.</p>\n"
      ],
      "text/latex": [
       "\\begin{figure*}\n",
       "    \\begin{center}\\adjustimage{max size={0.9\\linewidth}{0.4\\paperheight}}{images/figures/v_luft_v_drehstoss.pdf}\\end{center}\n",
       "    \\caption{Die Geschwindigkeiten errechnet mit der Flugzeit- und der Drehstossmethode mit je fünf Messungen beider Gewichten im Vergleich.}\n",
       "    \\label{fig:v_luft_v_drehstoss}\n",
       "\\end{figure*}\n",
       "        "
      ],
      "text/plain": [
       "<PrettyFigure.PrettyFigure at 0x10d62dfd0>"
      ]
     },
     "metadata": {},
     "output_type": "display_data"
    }
   ],
   "source": [
    "# Evaluate Data\n",
    "\n",
    "# Calculate inertia\n",
    "v2_d = np.array([92e-3, 91e-3])\n",
    "v2_m = np.array([np.mean([15.86, 15.88])*1e-3, np.mean([42.03, 42.13])*1e-3])\n",
    "\n",
    "# Inertia\n",
    "\n",
    "v2_J = v2_m * v2_d**2\n",
    "\n",
    "v2_J3 = 7.4e-5\n",
    "v2_J3_u = 0.1e-5\n",
    "\n",
    "# Read Data\n",
    "v2_df = pd.read_csv('data/drehstoss.csv')\n",
    "\n",
    "v2_df['omega'] = math.pi / v2_df['T_2']\n",
    "\n",
    "v2_df['v_drehstoss'] = v2_df['omega'] * ((v2_J[v2_df['m']] * 2 + v2_J3) / (v2_d[v2_df['m']] * v1_m) + v2_d[v2_df['m']])\n",
    "v2_df['v_flug'] = v1_s / v2_df['t']\n",
    "\n",
    "v2_mean = v2_df.mean()\n",
    "\n",
    "ax = v2_df.plot(kind='scatter', x='measurement', y='v_drehstoss', label='$v_{D,k}$')\n",
    "plt.scatter(v2_df['measurement'], v2_df['v_flug'], label='$v_{F}$', color='red', axes=ax)\n",
    "plt.axhline(y=v2_mean['v_drehstoss'], axes=ax, color='blue', label='Mittelwert von $v_F$')\n",
    "plt.axhline(y=v2_mean['v_flug'], axes=ax, color='red', label='Mittelwert von $v_D$')\n",
    "plt.ylabel('$v [\\\\frac{m}{s}]$')\n",
    "plt.xlabel('Messung')\n",
    "plt.ylim([150, 160])\n",
    "plt.legend(bbox_to_anchor=(0.02, 0.98), loc=2, borderaxespad=0.2)\n",
    "plt.close(ax.figure)\n",
    "\n",
    "figure = PrettyFigure(ax.figure, label='fig:v_luft_v_drehstoss', caption='Die Geschwindigkeiten errechnet mit der Flugzeit- und der Drehstossmethode mit je fünf Messungen beider Gewichten im Vergleich.')\n",
    "figure.show()"
   ]
  },
  {
   "cell_type": "markdown",
   "metadata": {},
   "source": [
    "### Vergleich der Messmethoden\n",
    "\n",
    "Um die Messmethoden vergleichen zu können wurden alle _einzelnen_ errechneten Geschwindigkeiten mithilfe der Luftwiderstandskorrekturgleichung \\ref{eq:v0_approx} auf einen Bezugspunkt, in diesem Falle wurde die Mündung gewählt, umgerechnet.\n",
    "\n",
    "Hier wurde für die Strecke der Flugzeitmethode $s$ = $\\frac{s}{2}$ und für die Strecke der Drehstossmethode $s$ = $s_{B2}$ gewählt."
   ]
  },
  {
   "cell_type": "code",
   "execution_count": 8,
   "metadata": {
    "ExecuteTime": {
     "end_time": "2016-11-21T22:58:17.895993",
     "start_time": "2016-11-21T22:58:06.687657"
    },
    "code_folding": [
     0
    ],
    "collapsed": false
   },
   "outputs": [
    {
     "data": {
      "text/html": [
       "\n",
       "<center>\n",
       "    <object type=\"image/svg+xml\" data=\"images/figures/laufzeiten_luft_v_drehstoss_mean.svg\">\n",
       "  Your browser does not support SVG\n",
       "    </object>\n",
       "</center>\n",
       "<p style=\"text-align:center\">Die Geschwindigkeiten errechnet mit der Flugzeit- und der Drehstossmethode an Mündung im Vergleich.</p>\n"
      ],
      "text/latex": [
       "\\begin{figure*}\n",
       "    \\begin{center}\\adjustimage{max size={0.9\\linewidth}{0.4\\paperheight}}{images/figures/laufzeiten_luft_v_drehstoss_mean.pdf}\\end{center}\n",
       "    \\caption{Die Geschwindigkeiten errechnet mit der Flugzeit- und der Drehstossmethode an Mündung im Vergleich.}\n",
       "    \\label{fig:laufzeiten_luft_v_drehstoss_mean}\n",
       "\\end{figure*}\n",
       "        "
      ],
      "text/plain": [
       "<PrettyFigure.PrettyFigure at 0x10af38d68>"
      ]
     },
     "metadata": {},
     "output_type": "display_data"
    },
    {
     "data": {
      "text/html": [
       "\n",
       "<center>\n",
       "    <object type=\"image/svg+xml\" data=\"images/figures/laufzeiten_luft_v_drehstoss_mean_ratio.svg\">\n",
       "  Your browser does not support SVG\n",
       "    </object>\n",
       "</center>\n",
       "<p style=\"text-align:center\">Die mittleren Geschwindigkeiten errechnet mit der Flugzeit- und der Drehstossmethode an Mündung im Verhältnis dargestellt und ihr erwarteter Wert von 1 zum Vergleich.</p>\n"
      ],
      "text/latex": [
       "\\begin{figure*}\n",
       "    \\begin{center}\\adjustimage{max size={0.9\\linewidth}{0.4\\paperheight}}{images/figures/laufzeiten_luft_v_drehstoss_mean_ratio.pdf}\\end{center}\n",
       "    \\caption{Die mittleren Geschwindigkeiten errechnet mit der Flugzeit- und der Drehstossmethode an Mündung im Verhältnis dargestellt und ihr erwarteter Wert von 1 zum Vergleich.}\n",
       "    \\label{fig:laufzeiten_luft_v_drehstoss_mean_ratio}\n",
       "\\end{figure*}\n",
       "        "
      ],
      "text/plain": [
       "<PrettyFigure.PrettyFigure at 0x10a12b0f0>"
      ]
     },
     "metadata": {},
     "output_type": "display_data"
    }
   ],
   "source": [
    "# Luftwiderstandskorrektur single and mean calculation\n",
    "\n",
    "v2_mean = v2_df.mean()\n",
    "v2_sem = v2_df.sem()\n",
    "v2_df['v_flug_muendung'] = pd.Series(list(map(partial(air_resistance, v1_s / 2), v2_df['v_flug'])))\n",
    "v2_df['v_drehstoss_muendung'] = pd.Series(list(map(partial(air_resistance, v1_sb1), v2_df['v_drehstoss'])))\n",
    "v2_df['a'] = v2_df['v_flug_muendung'] / v2_df['v_drehstoss_muendung']\n",
    "\n",
    "v2_mean = v2_df.mean()\n",
    "\n",
    "ax = v2_df.plot(kind='scatter', x='measurement', y='v_flug_muendung', label='$v_{0,F}$')\n",
    "plt.scatter(v2_df['measurement'], v2_df['v_drehstoss_muendung'], label='$v_{0,D}$', color='red', axes=ax)\n",
    "plt.axhline(y=v2_mean['v_flug_muendung'], axes=ax, color='blue', label='Mittelwert von $v_F$')\n",
    "plt.axhline(y=v2_mean['v_drehstoss_muendung'], axes=ax, color='red', label='Mittelwert von $v_D$')\n",
    "plt.ylabel('$v_0 [\\\\frac{m}{s}]$')\n",
    "plt.xlabel('Messung')\n",
    "plt.legend(bbox_to_anchor=(0.02, 0.98), loc=2, borderaxespad=0.2)\n",
    "plt.close(ax.figure)\n",
    "\n",
    "figure = PrettyFigure(ax.figure, label='fig:laufzeiten_luft_v_drehstoss_mean', caption='Die Geschwindigkeiten errechnet mit der Flugzeit- und der Drehstossmethode an Mündung im Vergleich.')\n",
    "figure.show()\n",
    "\n",
    "ax = v2_df.plot(kind='scatter', x='measurement', y='a', label='errechnetes Verhältnis $a_i = V_{F,i}/V_{D,i}$')\n",
    "plt.axhline(y=v2_mean['a'], axes=ax, label='Mittelwert des Verhältnisses a', color='green')\n",
    "plt.axhline(y=1, axes=ax, label='Erwarteter Wert 1', color='purple')\n",
    "plt.xlabel('Messung')\n",
    "plt.legend(bbox_to_anchor=(0.02, 0.98), loc=2, borderaxespad=0.2)\n",
    "plt.close(ax.figure)\n",
    "\n",
    "figure = PrettyFigure(ax.figure, label='fig:laufzeiten_luft_v_drehstoss_mean_ratio', caption='Die mittleren Geschwindigkeiten errechnet mit der Flugzeit- und der Drehstossmethode an Mündung im Verhältnis dargestellt und ihr erwarteter Wert von 1 zum Vergleich.')\n",
    "figure.show()"
   ]
  },
  {
   "cell_type": "markdown",
   "metadata": {
    "variables": {
     "'{0:.2f}'.format((1 - v1_mean['v_flug'] / v1_mean['v_ballistic']) * 100)": "<p><strong>IndexError</strong>: invalid index to scalar variable.</p>\n",
     "'{0:.2f}'.format(abs(v1_mean['v_flug'] - v1_mean['v_ballistic']))": "<p><strong>IndexError</strong>: invalid index to scalar variable.</p>\n"
    }
   },
   "source": [
    "# Fehlerrechnung\n",
    "\n",
    "## Ballistische Methode\n",
    "\n",
    "Die Mittelwerte der ballistischen Methode unterscheiden sich um {{'{0:.2f}'.format(abs(v1_mean['v_flug'] - v1_mean['v_ballistic']))}}$\\frac{m}{s}$. Dies sind zwar nur {{'{0:.2f}'.format((1 - v1_mean['v_flug'] / v1_mean['v_ballistic']) * 100)}}%, jedoch muss diesem Unterschied auf den Grund gegangen werden.\n",
    "\n",
    "Zuerst wurde dafür der statistische Fehler gerechnet. Vieleicht liegt dieser ja im akzeptablen Bereich. "
   ]
  },
  {
   "cell_type": "code",
   "execution_count": 9,
   "metadata": {
    "ExecuteTime": {
     "end_time": "2016-11-21T22:58:24.553877",
     "start_time": "2016-11-21T22:58:18.140184"
    },
    "caption": "Vergleich der verschiedenen Geschwindigkeiten und ihrer statistischen Unsicherheiten.",
    "code_folding": [
     0
    ],
    "collapsed": false,
    "label": "fig:laufzeiten",
    "widefigure": true
   },
   "outputs": [
    {
     "data": {
      "text/html": [
       "\n",
       "<center>\n",
       "    <object type=\"image/svg+xml\" data=\"images/figures/laufzeiten_luft_v_balllistisch.svg\">\n",
       "  Your browser does not support SVG\n",
       "    </object>\n",
       "</center>\n",
       "<p style=\"text-align:center\">Die mittleren Geschwindigkeiten der ballistischen und Flugzeitmethode im Vergleich mit ihren respektiven mittleren Mündungsgeschwindigkeiten.</p>\n"
      ],
      "text/latex": [
       "\\begin{figure*}\n",
       "    \\begin{center}\\adjustimage{max size={0.9\\linewidth}{0.4\\paperheight}}{images/figures/laufzeiten_luft_v_balllistisch.pdf}\\end{center}\n",
       "    \\caption{Die mittleren Geschwindigkeiten der ballistischen und Flugzeitmethode im Vergleich mit ihren respektiven mittleren Mündungsgeschwindigkeiten.}\n",
       "    \\label{fig:laufzeiten_luft_v_balllistisch}\n",
       "\\end{figure*}\n",
       "        "
      ],
      "text/plain": [
       "<PrettyFigure.PrettyFigure at 0x10b370160>"
      ]
     },
     "metadata": {},
     "output_type": "display_data"
    }
   ],
   "source": [
    "# Plot different methods with sem\n",
    "\n",
    "v1_mean = v1_df.mean()\n",
    "v1_sem = v1_df.sem()\n",
    "\n",
    "v1_flug_muendung_mean = air_resistance(v1_s / 2, v1_mean['v_flug'])\n",
    "v1_flug_muendung_sem = air_resistance(v1_s / 2, v1_sem['v_flug'])\n",
    "\n",
    "v1_ballistic_muendung_mean = air_resistance(v1_sb1, v1_mean['v_ballistic'])\n",
    "v1_ballistic_muendung_sem = air_resistance(v1_sb1, v1_sem['v_ballistic'])\n",
    "\n",
    "x = [1, 4, 7, 10]\n",
    "y = [\n",
    "    v1_mean['v_flug'],\n",
    "    v1_mean['v_ballistic'],\n",
    "    v1_flug_muendung_mean,\n",
    "    v1_ballistic_muendung_mean\n",
    "]\n",
    "e = [\n",
    "    v1_sem['v_flug'],\n",
    "    v1_sem['v_ballistic'],\n",
    "    v1_flug_muendung_sem,\n",
    "    v1_ballistic_muendung_sem\n",
    "]\n",
    "labels = ['$v_F$', '$v_B$', '$v_{0,F}$', '$v_{0,B}$']\n",
    "fig = plt.figure()\n",
    "plt.errorbar(x, y, yerr=e, fmt='o')\n",
    "plt.xlim([0, 11])\n",
    "#plt.ylim([150, 160])\n",
    "plt.xticks(x, labels, rotation='35')\n",
    "plt.ylabel('$v_0 [\\\\frac{m}{s}]$')\n",
    "plt.text(-0.026, 0.86,'$v_F $: Flugzeitmethode', transform = ax.transAxes)\n",
    "plt.text(-0.026, 0.82,'$v_B $: Ballistische Methode', transform = ax.transAxes)\n",
    "plt.text(-0.04, 0.78,'$v_{0,F}$: Mündungsgeschwindigkeit Flugzeitmethode', transform = ax.transAxes)\n",
    "plt.text(-0.04, 0.74,'$v_{0,B}$: Mündungsgeschwindigkeit Ballistische Methode', transform = ax.transAxes)\n",
    "plt.close(fig)\n",
    "\n",
    "figure = PrettyFigure(fig, label='fig:laufzeiten_luft_v_balllistisch', caption='Die mittleren Geschwindigkeiten der ballistischen und Flugzeitmethode im Vergleich mit ihren respektiven mittleren Mündungsgeschwindigkeiten.')\n",
    "figure.show()"
   ]
  },
  {
   "cell_type": "markdown",
   "metadata": {},
   "source": [
    "Wie anhand der Fehlerbalken in Grafik \\ref{fig:laufzeiten_luft_v_balllistisch} schnell festgestellt werden kann, ist der statistische Fehler relativ gering. Dies bedeutet aber auch, dass der die Fehlerbereiche sich nicht überlappen. Dies ist nicht sehr gut. Denn es gibt nur _eine_ wahre Geschwindigkeit des Projektils. Natürlich kann diese nie genau bestimmt werden. Da sich aber die Fehlerbereiche nicht überlappen muss eine Messung falsch sein oder der systematische Fehler viel grösser sein.\n",
    "\n",
    "Deswegen wurde eine Fehlerfortpflanzungsrechnung für die ballistische Methode gemacht. Für die Flugzeitmethode ist diese nicht sehr aussagekräftig da die Messfehler sehr gering sind. Bei der ballistischen Methode wurde jedoch von Auge ungefähr ein Wert in Bewegung abgelesen. Dies führt natürlich zu hoher Ungenauigkeit. Da $M$ und $m$ sowie auch $g$ durch sehr genaue Messinstrumente bestimmt werden konnten werden diese in der Fehlerfortpflanzungsrechnung vernachlässigt.\n",
    "\n",
    "Somit ist der resultierende systematische Fehler durch Gleichung \\ref{eq:ffg_pendel} gegeben.\n",
    "\n",
    "\\begin{equation}\n",
    "S_{v,sys}=\\sqrt{(\\frac{\\partial v}{\\partial T})^2 + (\\frac{\\partial v}{\\partial x})^2 + (\\frac{\\partial v}{\\partial a})^2}\n",
    "= \\sqrt{\n",
    "\\bigg(\\frac{g}{2\\pi}\\cdot\\frac{M+m}{m}\\cdot\\frac{x}{a}\\cdot\\bigg[1-\\frac{3}{8}\\cdot\\Big(\\frac{x}{a}\\Big)^2\\bigg]s_t\\bigg)^2\n",
    "+ \\bigg(\\frac{g}{2\\pi}\\cdot\\frac{M+m}{m}\\cdot T\\cdot\\frac{1}{a}\\cdot\\bigg[1-\\frac{9}{8}\\cdot\\Big(\\frac{x}{a}\\Big)^2\\bigg]s_x\\bigg)^2\n",
    "+ \\bigg(\\frac{g}{2\\pi}\\cdot\\frac{M+m}{m}\\cdot T\\cdot\\frac{x}{a^2}\\cdot\\bigg[1-\\frac{9}{8}\\cdot\\Big(\\frac{x}{a}\\Big)^2\\bigg]s_a\\bigg)^2}\n",
    "\\label{eq:ffg_pendel}\n",
    "\\end{equation}"
   ]
  },
  {
   "cell_type": "code",
   "execution_count": 10,
   "metadata": {
    "ExecuteTime": {
     "end_time": "2016-11-21T22:58:24.579528",
     "start_time": "2016-11-21T22:58:24.556809"
    },
    "code_folding": [
     0
    ],
    "collapsed": false
   },
   "outputs": [],
   "source": [
    "# Calculate systematic error\n",
    "\n",
    "v1_T_u = 3e-2\n",
    "v1_x_u = 5e-3\n",
    "v1_l_u = 5e-3\n",
    "\n",
    "v1_mean = v1_df.mean()\n",
    "v1_sem = v1_df.sem()\n",
    "\n",
    "v1_k1 = v1_g / (2 * math.pi) * (v1_M + v1_m) / v1_m * v1_mean['x'] / v1_l\n",
    "v1_b1 = 1 - 3 / 8 * (v1_mean['x'] / v1_l)**2\n",
    "\n",
    "v1_k2 = v1_g / (2 * math.pi) * (v1_M + v1_m) / v1_m * v1_T / v1_l\n",
    "v1_b2 = 1 - 9 / 8 * (v1_mean['x'] / v1_l)**2\n",
    "\n",
    "v1_k3 = v1_g / (2 * math.pi) * (v1_M + v1_m) / v1_m * v1_T * v1_mean['x'] / v1_l**2\n",
    "v1_b3 = -1 + 9 / 8 * (v1_mean['x'] / v1_l)**2\n",
    "\n",
    "v1_systematic_error = math.sqrt((v1_k1 * v1_b1 * v1_T_u)**2\n",
    "                                + (v1_k2 * v1_b2 * v1_x_u)**2\n",
    "                                + (v1_k3 * v1_b3 * v1_l_u)**2)"
   ]
  },
  {
   "cell_type": "code",
   "execution_count": 11,
   "metadata": {
    "ExecuteTime": {
     "end_time": "2016-11-21T22:58:29.918458",
     "start_time": "2016-11-21T22:58:24.582423"
    },
    "code_folding": [
     0
    ],
    "collapsed": false
   },
   "outputs": [
    {
     "data": {
      "text/html": [
       "\n",
       "<center>\n",
       "    <object type=\"image/svg+xml\" data=\"images/figures/laufzeiten_luft_v_balllistisch_systematischer_fehler.svg\">\n",
       "  Your browser does not support SVG\n",
       "    </object>\n",
       "</center>\n",
       "<p style=\"text-align:center\">Die systematischen Fehler der mittleren Geschwindigkeiten der ballistischen und Flugzeitmethode im Vergleich.</p>\n"
      ],
      "text/latex": [
       "\\begin{figure*}\n",
       "    \\begin{center}\\adjustimage{max size={0.9\\linewidth}{0.4\\paperheight}}{images/figures/laufzeiten_luft_v_balllistisch_systematischer_fehler.pdf}\\end{center}\n",
       "    \\caption{Die systematischen Fehler der mittleren Geschwindigkeiten der ballistischen und Flugzeitmethode im Vergleich.}\n",
       "    \\label{fig:laufzeiten_luft_v_balllistisch_systematischer_fehler}\n",
       "\\end{figure*}\n",
       "        "
      ],
      "text/plain": [
       "<PrettyFigure.PrettyFigure at 0x10a3e1b38>"
      ]
     },
     "metadata": {},
     "output_type": "display_data"
    }
   ],
   "source": [
    "# Plot different methods with sem\n",
    "\n",
    "x = [1, 4]\n",
    "y = [\n",
    "    v1_mean['v_flug'],\n",
    "    v1_mean['v_ballistic']\n",
    "]\n",
    "e = [\n",
    "    v1_sem['v_flug'],\n",
    "    v1_systematic_error\n",
    "]\n",
    "labels = ['$v_F$', '$v_B$']\n",
    "fig = plt.figure()\n",
    "plt.errorbar(x, y, yerr=e, fmt='o')\n",
    "plt.xlim([0, 11])\n",
    "#plt.ylim([150, 160])\n",
    "plt.xticks(x, labels, rotation='35')\n",
    "plt.ylabel('$v_0 [\\\\frac{m}{s}]$')\n",
    "plt.text(-0.026, 0.86,'$v_F $: Flugzeitmethode', transform = ax.transAxes)\n",
    "plt.text(-0.026, 0.82,'$v_B $: Ballistische Methode', transform = ax.transAxes)\n",
    "plt.close(fig)\n",
    "\n",
    "figure = PrettyFigure(fig, label='fig:laufzeiten_luft_v_balllistisch_systematischer_fehler', caption='Die systematischen Fehler der mittleren Geschwindigkeiten der ballistischen und Flugzeitmethode im Vergleich.')\n",
    "figure.show()"
   ]
  },
  {
   "cell_type": "markdown",
   "metadata": {},
   "source": [
    "Natürlich kann sofort erkannt werden wie gross der systematische Fehler bei der ballistischen Methode ist. Deswegen wurden so unterschiedliche Ergebnisse für die Projektilgeschwindigkeit erhalten. Die Fehlerbereiche überlappen sich nun und es ist somit okay anzunehmen dass die beiden Rechnungen stimmen wobei die Flugzeitmethode um ein Vielfaches genauer ist."
   ]
  },
  {
   "cell_type": "markdown",
   "metadata": {
    "variables": {
     "'{0:.2f}'.format((1 - v2_mean['v_flug'] / v2_mean['v_drehstoss']) * 100)": "0.55",
     "'{0:.2f}'.format(abs(v2_mean['v_flug'] - v2_mean['v_drehstoss']))": "0.85"
    }
   },
   "source": [
    "## Drehstossmethode\n",
    "\n",
    "Die Mittelwerte der Drehstossethode unterscheiden sich um {{'{0:.2f}'.format(abs(v2_mean['v_flug'] - v2_mean['v_drehstoss']))}}$\\frac{m}{s}$. Dies sind zwar nur {{'{0:.2f}'.format((1 - v2_mean['v_flug'] / v2_mean['v_drehstoss']) * 100)}}%, jedoch muss diesem Unterschied auf den Grund gegangen werden.\n",
    "\n",
    "Zuerst wurde dafür der erneut statistische Fehler gerechnet. Vieleicht liegt dieser ja im akzeptablen Bereich. "
   ]
  },
  {
   "cell_type": "code",
   "execution_count": 12,
   "metadata": {
    "ExecuteTime": {
     "end_time": "2016-11-21T22:58:35.857002",
     "start_time": "2016-11-21T22:58:29.943298"
    },
    "code_folding": [
     0
    ],
    "collapsed": false
   },
   "outputs": [
    {
     "data": {
      "text/html": [
       "\n",
       "<center>\n",
       "    <object type=\"image/svg+xml\" data=\"images/figures/laufzeiten_luft_v_drehstoss.svg\">\n",
       "  Your browser does not support SVG\n",
       "    </object>\n",
       "</center>\n",
       "<p style=\"text-align:center\">Die mittleren Geschwindigkeiten der Drehstoss- und Flugzeitmethode im Vergleich mit ihren respektiven mittleren Mündungsgeschwindigkeiten.</p>\n"
      ],
      "text/latex": [
       "\\begin{figure*}\n",
       "    \\begin{center}\\adjustimage{max size={0.9\\linewidth}{0.4\\paperheight}}{images/figures/laufzeiten_luft_v_drehstoss.pdf}\\end{center}\n",
       "    \\caption{Die mittleren Geschwindigkeiten der Drehstoss- und Flugzeitmethode im Vergleich mit ihren respektiven mittleren Mündungsgeschwindigkeiten.}\n",
       "    \\label{fig:laufzeiten_luft_v_drehstoss}\n",
       "\\end{figure*}\n",
       "        "
      ],
      "text/plain": [
       "<PrettyFigure.PrettyFigure at 0x10dad4630>"
      ]
     },
     "metadata": {},
     "output_type": "display_data"
    }
   ],
   "source": [
    "# Plot different methods with sem\n",
    "\n",
    "v2_mean = v2_df.mean()\n",
    "v2_sem = v2_df.sem()\n",
    "\n",
    "v2_flug_muendung_mean = air_resistance(v1_s / 2, v2_mean['v_flug'])\n",
    "v2_flug_muendung_sem = air_resistance(v1_s / 2, v2_sem['v_flug'])\n",
    "\n",
    "v2_drehstoss_muendung_mean = air_resistance(v1_sb2, v2_mean['v_drehstoss'])\n",
    "v2_drehstoss_muendung_sem = air_resistance(v1_sb2, v2_sem['v_drehstoss'])\n",
    "\n",
    "x = [1, 4, 7, 10]\n",
    "y = [\n",
    "    v2_mean['v_flug'],\n",
    "    v2_mean['v_drehstoss'],\n",
    "    v2_flug_muendung_mean,\n",
    "    v2_drehstoss_muendung_mean\n",
    "]\n",
    "e = [\n",
    "    v2_sem['v_flug'],\n",
    "    v2_sem['v_drehstoss'],\n",
    "    v2_flug_muendung_sem,\n",
    "    v2_drehstoss_muendung_sem\n",
    "]\n",
    "\n",
    "labels = ['$v_F$', '$v_D$', '$v_{0,F}$', '$v_{0,D}$']\n",
    "fig = plt.figure()\n",
    "plt.errorbar(x, y, yerr=e, fmt='o')\n",
    "plt.xlim([0, 11])\n",
    "plt.ylim([150, 160])\n",
    "plt.xticks(x, labels, rotation='35')\n",
    "plt.ylabel('$v_0 [\\\\frac{m}{s}]$')\n",
    "plt.text(-0.026, 0.86,'$v_F $: Flugzeitmethode', transform = ax.transAxes)\n",
    "plt.text(-0.026, 0.82,'$v_D $: Drehstossmethode', transform = ax.transAxes)\n",
    "plt.text(-0.04, 0.78,'$v_{0,F}$: Mündungsgeschwindigkeit Flugzeitmethode', transform = ax.transAxes)\n",
    "plt.text(-0.04, 0.74,'$v_{0,D}$: Mündungsgeschwindigkeit Drehstossmethode', transform = ax.transAxes)\n",
    "plt.close(fig)\n",
    "\n",
    "figure = PrettyFigure(fig, label='fig:laufzeiten_luft_v_drehstoss', caption='Die mittleren Geschwindigkeiten der Drehstoss- und Flugzeitmethode im Vergleich mit ihren respektiven mittleren Mündungsgeschwindigkeiten.')\n",
    "figure.show()"
   ]
  },
  {
   "cell_type": "markdown",
   "metadata": {},
   "source": [
    "Wie anhand der Fehlerbalken in Grafik \\ref{fig:laufzeiten_luft_v_drehstoss} schnell festgestellt werden kann, ist der statistische Fehler relativ gering. Dies bedeutet aber auch, dass der die Fehlerbereiche sich nicht überlappen. Dies ist nicht sehr gut. Denn es gibt nur _eine_ wahre Geschwindigkeit des Projektils. Natürlich kann diese nie genau bestimmt werden. Da sich aber die Fehlerbereiche nicht überlappen muss eine Messung falsch sein oder der systematische Fehler erneut viel grösser sein.\n",
    "\n",
    "Deswegen wurde auch eine Fehlerfortpflanzungsrechnung für die Drehstossmethode gemacht. Hier wurden die Variabeln $d$ und $\\frac{T}{2}$ berücksichtigt. Bei den anderen Werten handelt es sich um Messungen welche durch genaue Instrumente gemacht wurden.\n",
    "\n",
    "Somit ist der resultierende systematische Fehler durch Gleichung \\ref{eq:ffg_hantel} gegeben.\n",
    "\n",
    "\\begin{equation}\n",
    "S_{v,sys}=\\sqrt{\\big(\\frac{\\partial v}{\\partial \\frac{T}{2}}\\big)^2 + \\big(\\frac{\\partial v}{\\partial d}\\big)^2}\n",
    "= \\sqrt{\n",
    "\\bigg(-\\frac{\\pi}{(\\frac{T}{2})^2}\\frac{I_{a,H}}{m\\cdot d}+d\\bigg)^2\n",
    "+ \\bigg(\\frac{\\pi}{\\frac{T}{2}}\\cdot\\bigg(1-\\frac{I_{a,H}}{m\\cdot d^2}\\bigg)\\bigg)^2\n",
    "}\n",
    "\\label{eq:ffg_hantel}\n",
    "\\end{equation}"
   ]
  },
  {
   "cell_type": "code",
   "execution_count": 13,
   "metadata": {
    "ExecuteTime": {
     "end_time": "2016-11-21T22:58:35.874745",
     "start_time": "2016-11-21T22:58:35.859429"
    },
    "collapsed": false
   },
   "outputs": [],
   "source": [
    "# Calculate systematic error\n",
    "\n",
    "v2_d_u = 0.5e-3\n",
    "v2_T_u = 5e-3\n",
    "\n",
    "v2_mean = v2_df.mean()\n",
    "v2_sem = v2_df.sem()\n",
    "\n",
    "v2_k1 = -math.pi / v2_mean['T_2']**2 * ((v2_J[0] * 2 + v2_J3) / v1_m / v2_d[0] + v2_d[0])\n",
    "v2_k2 = math.pi / v2_mean['T_2'] * (1 - (v2_J[0] * 2 + v2_J3) / v1_m / v2_d[0]**2)\n",
    "\n",
    "v2_systematic_error = math.sqrt((v2_k1 * v2_d_u)**2 + (v2_k1 * v2_T_u)**2)"
   ]
  },
  {
   "cell_type": "code",
   "execution_count": 14,
   "metadata": {
    "ExecuteTime": {
     "end_time": "2016-11-21T22:58:41.453640",
     "start_time": "2016-11-21T22:58:35.877105"
    },
    "code_folding": [
     0
    ],
    "collapsed": false
   },
   "outputs": [
    {
     "data": {
      "text/html": [
       "\n",
       "<center>\n",
       "    <object type=\"image/svg+xml\" data=\"images/figures/laufzeiten_luft_v_drehstoss_systematischer_fehler.svg\">\n",
       "  Your browser does not support SVG\n",
       "    </object>\n",
       "</center>\n",
       "<p style=\"text-align:center\">Die systematischen Fehler der mittleren Geschwindigkeiten der Drehstoss- und Flugzeitmethode im Vergleich.</p>\n"
      ],
      "text/latex": [
       "\\begin{figure*}\n",
       "    \\begin{center}\\adjustimage{max size={0.9\\linewidth}{0.4\\paperheight}}{images/figures/laufzeiten_luft_v_drehstoss_systematischer_fehler.pdf}\\end{center}\n",
       "    \\caption{Die systematischen Fehler der mittleren Geschwindigkeiten der Drehstoss- und Flugzeitmethode im Vergleich.}\n",
       "    \\label{fig:laufzeiten_luft_v_drehstoss_systematischer_fehler}\n",
       "\\end{figure*}\n",
       "        "
      ],
      "text/plain": [
       "<PrettyFigure.PrettyFigure at 0x10b35e0f0>"
      ]
     },
     "metadata": {},
     "output_type": "display_data"
    }
   ],
   "source": [
    "# Plot different methods with sem\n",
    "\n",
    "x = [1, 4]\n",
    "y = [\n",
    "    v2_mean['v_flug'],\n",
    "    v2_mean['v_drehstoss']\n",
    "]\n",
    "e = [\n",
    "    v2_sem['v_flug'],\n",
    "    v2_systematic_error\n",
    "]\n",
    "labels = ['$v_F$', '$v_D$']\n",
    "fig = plt.figure()\n",
    "plt.errorbar(x, y, yerr=e, fmt='o')\n",
    "plt.xlim([0, 11])\n",
    "#plt.ylim([150, 160])\n",
    "plt.xticks(x, labels, rotation='35')\n",
    "plt.ylabel('$v_0 [\\\\frac{m}{s}]$')\n",
    "plt.text(-0.026, 0.86,'$v_F $: Flugzeitmethode', transform = ax.transAxes)\n",
    "plt.text(-0.026, 0.82,'$v_D $: Drehstossmethode', transform = ax.transAxes)\n",
    "plt.close(fig)\n",
    "\n",
    "figure = PrettyFigure(fig, label='fig:laufzeiten_luft_v_drehstoss_systematischer_fehler', caption='Die systematischen Fehler der mittleren Geschwindigkeiten der Drehstoss- und Flugzeitmethode im Vergleich.')\n",
    "figure.show()"
   ]
  },
  {
   "cell_type": "markdown",
   "metadata": {},
   "source": [
    "Auch hier kann erneut erkannt werden wie gross der systematische Fehler bei der Drehstossmethode ist. Deswegen wurden auch hier so unterschiedliche Ergebnisse für die Projektilgeschwindigkeit erhalten. Die Fehlerbereiche überlappen sich nun und es ist somit okay anzunehmen dass die beiden Rechnungen stimmen wobei die Flugzeitmethode auch hier um ein Vielfaches genauer ist."
   ]
  },
  {
   "cell_type": "markdown",
   "metadata": {
    "collapsed": true
   },
   "source": [
    "# Ergebnisse\n",
    "\n",
    "70% der Ergebnissle liegen innerhalb der Standardabweichung. Dies ist ein Bisschen mehr als die erwarteten 68%. Natürlich wurden viel zuwenige Messungen gemacht als dass die 68% jemals erreicht werden könnten. Somit ist 70% also schon ein sehr gutes Ergebnis!"
   ]
  }
 ],
 "metadata": {
  "celltoolbar": "Edit Metadata",
  "kernelspec": {
   "display_name": "Python 3",
   "language": "python",
   "name": "python3"
  },
  "language_info": {
   "codemirror_mode": {
    "name": "ipython",
    "version": 3
   },
   "file_extension": ".py",
   "mimetype": "text/x-python",
   "name": "python",
   "nbconvert_exporter": "python",
   "pygments_lexer": "ipython3",
   "version": "3.5.2"
  },
  "toc": {
   "nav_menu": {
    "height": "336px",
    "width": "252px"
   },
   "navigate_menu": true,
   "number_sections": true,
   "sideBar": true,
   "threshold": 4,
   "toc_cell": false,
   "toc_section_display": "block",
   "toc_window_display": false
  }
 },
 "nbformat": 4,
 "nbformat_minor": 1
}
