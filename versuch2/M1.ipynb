{
 "cells": [
  {
   "cell_type": "raw",
   "metadata": {},
   "source": [
    "\\tableofcontents\n",
    "\\newpage"
   ]
  },
  {
   "cell_type": "code",
   "execution_count": null,
   "metadata": {
    "collapsed": true
   },
   "outputs": [],
   "source": []
  },
  {
   "cell_type": "code",
   "execution_count": 2,
   "metadata": {
    "ExecuteTime": {
     "end_time": "2016-11-08T15:13:22.050568",
     "start_time": "2016-11-08T15:13:21.974346"
    },
    "code_folding": [
     0
    ],
    "collapsed": true
   },
   "outputs": [],
   "source": [
    "# Preparations\n",
    "import math\n",
    "import pandas as pd\n",
    "import matplotlib.pyplot as plt\n",
    "import matplotlib.patches as mpatches\n",
    "import numpy as np\n",
    "from scipy import stats\n",
    "from scipy.optimize import curve_fit\n",
    "import seaborn as sns\n",
    "from IPython.display import Latex\n",
    "import warnings\n",
    "from PrettyTable import PrettyTable\n",
    "warnings.filterwarnings(\"ignore\", module=\"matplotlib\")\n",
    "%matplotlib inline\n",
    "%config InlineBackend.figure_format = 'svg'\n",
    "plt.rcParams['savefig.dpi'] = 75\n",
    "\n",
    "# plt.rcParams['figure.autolayout'] = False\n",
    "# plt.rcParams['figure.figsize'] = 10, 6\n",
    "plt.rcParams['axes.labelsize'] = 18\n",
    "plt.rcParams['axes.titlesize'] = 20\n",
    "plt.rcParams['font.size'] = 16\n",
    "plt.rcParams['lines.linewidth'] = 2.0\n",
    "plt.rcParams['lines.markersize'] = 8\n",
    "plt.rcParams['legend.fontsize'] = 14\n",
    "\n",
    "plt.rcParams['text.usetex'] = True\n",
    "plt.rcParams['text.latex.unicode'] = True\n",
    "plt.rcParams['font.family'] = \"STIX\"\n",
    "plt.rcParams['text.latex.preamble'] = \"\\\\usepackage{subdepth}, \\\\usepackage{type1cm}\"\n",
    "\n",
    "sns.set(color_codes=True)\n",
    "\n",
    "def average(data):\n",
    "    return 1 / len(data) * sum(data)\n",
    "\n",
    "def error(data, average_of_data):\n",
    "    s = sum([(x - average_of_data)**2 for x in data])\n",
    "    return math.sqrt(s / (len(data) * (len(data) - 1)))\n",
    "\n",
    "def std_deviation(error_of_average, length_of_dataset):\n",
    "    return error_of_average * math.sqrt(length_of_dataset)\n",
    "\n",
    "def average_with_weights(data, weights):\n",
    "    d = data\n",
    "    w = weights\n",
    "    return (d * w**-2).sum() / (w**-2).sum()\n",
    "\n",
    "def error_with_weights(weights):\n",
    "    w = weights\n",
    "    return 1 / math.sqrt((w**-2).sum())\n",
    "\n",
    "def wavg(group, avg_name, weight_name):\n",
    "    d = group[avg_name]\n",
    "    w = group[weight_name]\n",
    "    return (d * w**-2).sum() / (w**-2).sum()\n",
    "\n",
    "def werr(group, weight_name):\n",
    "    return 1 / math.sqrt((group[weight_name]**-2).sum())"
   ]
  },
  {
   "cell_type": "markdown",
   "metadata": {},
   "source": [
    "# Arbeitsgrundlagen\n",
    "\n",
    "Im Versuch M1 geht es darum die Geschwindigkeit einer Pistolenkugel auf verschiedene Arten zu bestimmen. Dabei gibt es noch verschiedene Arten von Geschwindigkeiten.\n",
    "\n",
    "## Flugzeitmethode\n",
    "\n",
    "Die __mittlere Geschwindigkeit__ eines Objektes kann durch \\ref{eq:velocity} berechnet werden.\n",
    "\n",
    "\\begin{equation}\n",
    "\\overline{v} = \\frac{s}{t}\n",
    "\\label{eq:velocity}\n",
    "\\end{equation}\n",
    "\n",
    "Wenn also die Abschusszeit und die Aufprallzeit, sowie die Flugstrecke bekannt sind, so kann die Zeitdifferenz und somit die mittlere Fluggeschwindigkeit des Geschosses ermittelt werden.\n",
    "\n",
    "## Ballistische Methode\n",
    "\n",
    "Der Impuls p ist gegeben durch die Gleichung in \\ref{eq:impulse}.  Dieser Impuls kann beim Aufprall der Pistolenkugel auf ein ballistisches Pendel gemessen werden. Durch den erheblichen Massenunterschied der Kugel und des Pendels bleibt die Kugel stecken. Ein inelastischer Stoss resultiert. Aus diesem Grund wird die komplette kinetische Energie in Wärme umgewandelt. Der Energieerhaltungssatz ist hier also schwierig anwendbar.\n",
    "\n",
    "\\begin{equation}\n",
    "p = mv = (m + M)\\cdot u\n",
    "\\label{eq:impulse}\n",
    "\\end{equation}\n",
    "\n",
    "Die verbleibende kinetische Energie wird beim Ausschlagen des Pendels in potentielle Hubenergie umgewandelt.\n",
    "Mithilfe des Energiesatzes wird die Geschwindigkeit u durch die Hubhöhe h mit Gleichung \\ref{eq:hubheight} ersetzt.\n",
    "\n",
    "\\begin{equation}\n",
    "u = \\sqrt{2gh}\n",
    "\\label{eq:hubheight}\n",
    "\\end{equation}\n",
    "\n",
    "![Ballistische Methode](images/pendulum.png)\n",
    "\n",
    "Aus Grafik \\ref{fig:Ballistische Methode} können die Gleichungen \\ref{eq:h} und \\ref{eq:cosphi} bestimmt werden.\n",
    "\n",
    "\\begin{equation}\n",
    "h = l \\cdot (1 - cos\\varphi)\n",
    "\\label{eq:h}\n",
    "\\end{equation}\n",
    "\n",
    "\\begin{equation}\n",
    "\\cos\\varphi = \\frac{a}{\\sqrt{a^2 + x^2}}\n",
    "\\label{eq:cosphi}\n",
    "\\end{equation}\n",
    "\n",
    "Da der Schwerpunkt und somit die Länge l des Pendels nur ungenau ermittelt werden können, wird ein Umweg über die Schwingungsdauer T ersichtlich in \\ref{eq:Schwingungsdauer} gewählt.\n",
    "\n",
    "\\begin{equation}\n",
    "T = 2\\pi\\cdot\\sqrt{\\frac{l}{g}}\n",
    "\\label{eq:Schwingungsdauer}\n",
    "\\end{equation}\n",
    "\n",
    "Daraus resultiert die Gleichung \\ref{eq:u}.\n",
    "\n",
    "\\begin{equation}\n",
    "u = \\frac{g}{2\\pi}\\cdot T\\cdot\\sqrt{2\\cdot\\Bigg(1-\\frac{1}{\\sqrt{1 + (\\frac{x}{a})^2}}\\Bigg)}\n",
    "\\label{eq:u}\n",
    "\\end{equation}\n",
    "\n",
    "Mit je einer Taylorentwicklung kann die Gleichung \\label{eq:u} auf Gleichung \\label{eq:u_taylor} angenähert werden.\n",
    "\n",
    "\\begin{equation}\n",
    "u = \\frac{g}{2\\pi}\\cdot\\frac{M+m}{m}\\cdot T\\cdot\\frac{x}{a}\\cdot\\Bigg[1-\\frac{3}{8}\\cdot\\Big(\\frac{x}{a}\\Big)^2\\Bigg]\n",
    "\\label{eq:u_taylor}\n",
    "\\end{equation}\n",
    "\n",
    "Da die Taylorreihe nur bis zum Grad 2 entwickelt wurde, wäre der nächste Term der Grässenordnung $10^{-4}$. Es ergibt sich also ein sehr genauer Wert.\n",
    "\n",
    "Somit sind während des Experimentes die Grössen m, M, a, x und T zu bestimmen.\n",
    "\n",
    "## Drehstossmethode\n",
    "\n",
    "Bei dieser Methode wird ein Geschoss wie in Abbildung \\ref{fig:Drehstossmethode} gezeigt ein Geschoss auf eine um eine starre Achse frei drehbar gelagerte Hantel abgeschossen.\n",
    "\n",
    "![Drehstossmethode](images/drehstoss.png)\n",
    "\n",
    "Für eine mit v geradlinig bewegte Punktmasse m kann der Drehimpuls bezüglich der Drehachse a mit Gleichung \\ref{eq:drehimpuls} bestimmt werden.\n",
    "\n",
    "\\begin{equation}\n",
    "\\vec{L_a}=\\vec{r}\\times\\vec{p}=m\\cdot (\\vec{r}\\times\\vec{v})\n",
    "\\label{eq:drehimpuls}\n",
    "\\end{equation}\n",
    "\n",
    "Ferner ist bekannt, dass wie in Gleichung \\ref{eq:gesamtdrehimpuls} beschrieben, der Gesamtdrehimpuls des Systems erhalten bleibt.\n",
    "\n",
    "\\begin{equation}\n",
    "L_a=L_{a,Kugel}+L_{a,Hantel}=const.\n",
    "\\label{eq:gesamtdrehimpuls}\n",
    "\\end{equation}\n",
    "\n",
    "Daraus folgt, dass für die anfänglich ruhende Hantel Gleichung \\ref{eq:ruhe} gilt welche dann gleichzusetzen ist mit der Gleichung \\ref{eq:bewegung} der bewegten Hantel nach dem Aufprall.\n",
    "\n",
    "\\begin{equation}\n",
    "L_a=m\\cdot d\\cdot v+0\n",
    "\\label{eq:ruhe}\n",
    "\\end{equation}\n",
    "\n",
    "\\begin{equation}\n",
    "L_a=\\omega\\cdot(I_{a, H}+m\\cdot d^2)\n",
    "\\label{eq:bewegung}\n",
    "\\end{equation}\n",
    "\n",
    "Daraus abgeleitet ergibt sich für die Geschwindigkeit der Pistolenkugel beim Aufprall die Gleichung \\ref{eq:vdrehstoss}, wobei $I_{a, H}$ dem Inneren Moment der Hantel bezüglich a und $\\omega$ der Winkelgeschwingikeit der Hantel um die Achse a entspricht.\n",
    "\n",
    "\\begin{equation}\n",
    "v=\\omega\\cdot\\bigg(\\frac{I_{a, H}}{m\\cdot d}+d\\bigg)\n",
    "\\label{eq:vdrehstoss}\n",
    "\\end{equation}\n",
    "\n",
    "Somit sind für dieses Experiment die Grössen $I_{a, H}$, m, d und $\\omega$ zu bestimmen.\n",
    "\n",
    "## Einfluss des Luftwiderstandes auf die Geschossgeschwindigkeit\n",
    "\n",
    "Bisher wurde gezeigt wie die mittlere, sowie die Aufprallgeschwindigkeit ermittelt werden können. Interessant ist aber auch die Mündungsgeschwindigkeit des Geschosses.\n",
    "\n",
    "Diese kann man sehr gut über den wirkenden Luftwiderstand bestimmen. Der Luftwiderstand ist gegeben durch die Beziehung in \\ref{eq:luftwiderstand}, wobei v die Momentangeschwidigkeit des Geschosses, A die Querschnittfläche jenes Geschosses, $\\rho_L$ die Luftdichte und c_w der Widerstandsbeiwert des Projektils sind.\n",
    "\n",
    "\\begin{equation}\n",
    "F_L=\\frac{1}{2}c_\\omega\\cdot A\\cdot\\rho_L\\cdot v^2\n",
    "\\label{eq:luftwiderstand}\n",
    "\\end{equation}\n",
    "\n",
    "Das Projektil verliert ebensoviel Kinetische Energie wie der Luftwiderstand Bremsarbeit verrichtet. Dies is mit Gleichungen \\ref{eq:kinetische_energie} und \\ref{eq:kinetische_energie_eingesetzt} ersichtlich.\n",
    "\n",
    "\\begin{equation}\n",
    "dE_{kin}=-F_Lds\n",
    "\\label{eq:kinetische_energie}\n",
    "\\end{equation}\n",
    "\n",
    "\\begin{equation}\n",
    "m\\cdot v\\cdot dv=-\\frac{1}{2}c_\\omega\\cdot A\\cdot\\rho_L\\cdot v^2\\cdot ds\n",
    "\\label{eq:kinetische_energie_eingesetzt}\n",
    "\\end{equation}\n",
    "\n",
    "Daraus kann die Differenzengleichung \\ref{eq:kin_diff} gebildet werden. Mit den Anfangsbedingungen s = 0 und v = $v_0$ wird Gleichung \\ref{eq:v0} erhalten. Diese kann für sehr kleine $k\\cdot s$ mit \\ref{eq:v0_approx} angenähert werden.\n",
    "\n",
    "\\begin{equation}\n",
    "\\frac{dv}{v}=-k\\cdot ds\n",
    "\\label{eq:kin_diff}\n",
    "\\end{equation}\n",
    "\n",
    "\\begin{equation}\n",
    "v=v_0\\cdot e^{-k\\cdot s}\n",
    "\\label{eq:v0}\n",
    "\\end{equation}\n",
    "\n",
    "\\begin{equation}\n",
    "v=v_0\\cdot (1-k\\cdot s)\n",
    "\\label{eq:v0_approx}\n",
    "\\end{equation}\n",
    "\n",
    "k ist in allen diesen Gleichungen mit dem Term $k = \\frac{c_\\omega\\cdot A\\cdot\\rho_L}{2m}$ zu beziffern.\n",
    "\n",
    "# Versuchsaufbau\n",
    "\n",
    "# Versuchsdurchführung"
   ]
  },
  {
   "cell_type": "code",
   "execution_count": 4,
   "metadata": {
    "ExecuteTime": {
     "end_time": "2016-11-09T12:23:18.042481",
     "start_time": "2016-11-09T12:23:18.038311"
    },
    "collapsed": true
   },
   "outputs": [],
   "source": [
    "v1_s = 0\n",
    "v1_s_u = 0\n",
    "v1_m = 0\n",
    "v1_m_u = 0\n"
   ]
  },
  {
   "cell_type": "markdown",
   "metadata": {},
   "source": [
    "## Ballistische Methode"
   ]
  },
  {
   "cell_type": "code",
   "execution_count": 5,
   "metadata": {
    "ExecuteTime": {
     "end_time": "2016-11-09T12:25:07.306114",
     "start_time": "2016-11-09T12:25:07.299293"
    },
    "collapsed": false
   },
   "outputs": [
    {
     "name": "stdout",
     "output_type": "stream",
     "text": [
      "Writing data/ballistsisch_1.csv\n"
     ]
    }
   ],
   "source": [
    "%%file data/ballistsisch_1.csv\n",
    "measurement,x"
   ]
  },
  {
   "cell_type": "code",
   "execution_count": null,
   "metadata": {
    "collapsed": true
   },
   "outputs": [],
   "source": [
    "# Evaluate Data\n",
    "\n",
    "# Read Data\n",
    "v1_df = pd.read_csv('data/ballistisch.csv')\n",
    "v1_M = 0\n",
    "v1_M_u = 0\n",
    "v1_a = 0\n",
    "v1_a_u = 0\n",
    "\n",
    "# Calculate mean etc.\n",
    "v1_mean = v1_df.mean()['t']\n",
    "v1_sem = v1_df.sem()['t']\n",
    "v1_std = v1_df.std()['t']"
   ]
  },
  {
   "cell_type": "markdown",
   "metadata": {},
   "source": [
    "## Drehstossmethode"
   ]
  },
  {
   "cell_type": "code",
   "execution_count": 3,
   "metadata": {
    "ExecuteTime": {
     "end_time": "2016-11-09T11:59:34.402750",
     "start_time": "2016-11-09T11:59:33.778004"
    },
    "collapsed": false
   },
   "outputs": [
    {
     "ename": "KeyError",
     "evalue": "'t'",
     "output_type": "error",
     "traceback": [
      "\u001b[0;31m---------------------------------------------------------------------------\u001b[0m",
      "\u001b[0;31mTypeError\u001b[0m                                 Traceback (most recent call last)",
      "\u001b[0;32m/Library/Frameworks/Python.framework/Versions/3.5/lib/python3.5/site-packages/pandas/indexes/base.py\u001b[0m in \u001b[0;36mget_value\u001b[0;34m(self, series, key)\u001b[0m\n\u001b[1;32m   2144\u001b[0m             \u001b[0;32mtry\u001b[0m\u001b[0;34m:\u001b[0m\u001b[0;34m\u001b[0m\u001b[0m\n\u001b[0;32m-> 2145\u001b[0;31m                 \u001b[0;32mreturn\u001b[0m \u001b[0mtslib\u001b[0m\u001b[0;34m.\u001b[0m\u001b[0mget_value_box\u001b[0m\u001b[0;34m(\u001b[0m\u001b[0ms\u001b[0m\u001b[0;34m,\u001b[0m \u001b[0mkey\u001b[0m\u001b[0;34m)\u001b[0m\u001b[0;34m\u001b[0m\u001b[0m\n\u001b[0m\u001b[1;32m   2146\u001b[0m             \u001b[0;32mexcept\u001b[0m \u001b[0mIndexError\u001b[0m\u001b[0;34m:\u001b[0m\u001b[0;34m\u001b[0m\u001b[0m\n",
      "\u001b[0;32mpandas/tslib.pyx\u001b[0m in \u001b[0;36mpandas.tslib.get_value_box (pandas/tslib.c:17368)\u001b[0;34m()\u001b[0m\n",
      "\u001b[0;32mpandas/tslib.pyx\u001b[0m in \u001b[0;36mpandas.tslib.get_value_box (pandas/tslib.c:17042)\u001b[0;34m()\u001b[0m\n",
      "\u001b[0;31mTypeError\u001b[0m: 'str' object cannot be interpreted as an integer",
      "\nDuring handling of the above exception, another exception occurred:\n",
      "\u001b[0;31mKeyError\u001b[0m                                  Traceback (most recent call last)",
      "\u001b[0;32m<ipython-input-3-02ec7fdd0850>\u001b[0m in \u001b[0;36m<module>\u001b[0;34m()\u001b[0m\n\u001b[1;32m      6\u001b[0m \u001b[0;34m\u001b[0m\u001b[0m\n\u001b[1;32m      7\u001b[0m \u001b[0;31m# Calculate mean etc.\u001b[0m\u001b[0;34m\u001b[0m\u001b[0;34m\u001b[0m\u001b[0m\n\u001b[0;32m----> 8\u001b[0;31m \u001b[0mv1_mean\u001b[0m \u001b[0;34m=\u001b[0m \u001b[0mv1_df\u001b[0m\u001b[0;34m.\u001b[0m\u001b[0mmean\u001b[0m\u001b[0;34m(\u001b[0m\u001b[0;34m)\u001b[0m\u001b[0;34m[\u001b[0m\u001b[0;34m't'\u001b[0m\u001b[0;34m]\u001b[0m\u001b[0;34m\u001b[0m\u001b[0m\n\u001b[0m\u001b[1;32m      9\u001b[0m \u001b[0mv1_sem\u001b[0m \u001b[0;34m=\u001b[0m \u001b[0mv1_df\u001b[0m\u001b[0;34m.\u001b[0m\u001b[0msem\u001b[0m\u001b[0;34m(\u001b[0m\u001b[0;34m)\u001b[0m\u001b[0;34m[\u001b[0m\u001b[0;34m't'\u001b[0m\u001b[0;34m]\u001b[0m\u001b[0;34m\u001b[0m\u001b[0m\n\u001b[1;32m     10\u001b[0m \u001b[0mv1_std\u001b[0m \u001b[0;34m=\u001b[0m \u001b[0mv1_df\u001b[0m\u001b[0;34m.\u001b[0m\u001b[0mstd\u001b[0m\u001b[0;34m(\u001b[0m\u001b[0;34m)\u001b[0m\u001b[0;34m[\u001b[0m\u001b[0;34m't'\u001b[0m\u001b[0;34m]\u001b[0m\u001b[0;34m\u001b[0m\u001b[0m\n",
      "\u001b[0;32m/Library/Frameworks/Python.framework/Versions/3.5/lib/python3.5/site-packages/pandas/core/series.py\u001b[0m in \u001b[0;36m__getitem__\u001b[0;34m(self, key)\u001b[0m\n\u001b[1;32m    599\u001b[0m         \u001b[0mkey\u001b[0m \u001b[0;34m=\u001b[0m \u001b[0mcom\u001b[0m\u001b[0;34m.\u001b[0m\u001b[0m_apply_if_callable\u001b[0m\u001b[0;34m(\u001b[0m\u001b[0mkey\u001b[0m\u001b[0;34m,\u001b[0m \u001b[0mself\u001b[0m\u001b[0;34m)\u001b[0m\u001b[0;34m\u001b[0m\u001b[0m\n\u001b[1;32m    600\u001b[0m         \u001b[0;32mtry\u001b[0m\u001b[0;34m:\u001b[0m\u001b[0;34m\u001b[0m\u001b[0m\n\u001b[0;32m--> 601\u001b[0;31m             \u001b[0mresult\u001b[0m \u001b[0;34m=\u001b[0m \u001b[0mself\u001b[0m\u001b[0;34m.\u001b[0m\u001b[0mindex\u001b[0m\u001b[0;34m.\u001b[0m\u001b[0mget_value\u001b[0m\u001b[0;34m(\u001b[0m\u001b[0mself\u001b[0m\u001b[0;34m,\u001b[0m \u001b[0mkey\u001b[0m\u001b[0;34m)\u001b[0m\u001b[0;34m\u001b[0m\u001b[0m\n\u001b[0m\u001b[1;32m    602\u001b[0m \u001b[0;34m\u001b[0m\u001b[0m\n\u001b[1;32m    603\u001b[0m             \u001b[0;32mif\u001b[0m \u001b[0;32mnot\u001b[0m \u001b[0mis_scalar\u001b[0m\u001b[0;34m(\u001b[0m\u001b[0mresult\u001b[0m\u001b[0;34m)\u001b[0m\u001b[0;34m:\u001b[0m\u001b[0;34m\u001b[0m\u001b[0m\n",
      "\u001b[0;32m/Library/Frameworks/Python.framework/Versions/3.5/lib/python3.5/site-packages/pandas/indexes/base.py\u001b[0m in \u001b[0;36mget_value\u001b[0;34m(self, series, key)\u001b[0m\n\u001b[1;32m   2151\u001b[0m                     \u001b[0;32mraise\u001b[0m \u001b[0mInvalidIndexError\u001b[0m\u001b[0;34m(\u001b[0m\u001b[0mkey\u001b[0m\u001b[0;34m)\u001b[0m\u001b[0;34m\u001b[0m\u001b[0m\n\u001b[1;32m   2152\u001b[0m                 \u001b[0;32melse\u001b[0m\u001b[0;34m:\u001b[0m\u001b[0;34m\u001b[0m\u001b[0m\n\u001b[0;32m-> 2153\u001b[0;31m                     \u001b[0;32mraise\u001b[0m \u001b[0me1\u001b[0m\u001b[0;34m\u001b[0m\u001b[0m\n\u001b[0m\u001b[1;32m   2154\u001b[0m             \u001b[0;32mexcept\u001b[0m \u001b[0mException\u001b[0m\u001b[0;34m:\u001b[0m  \u001b[0;31m# pragma: no cover\u001b[0m\u001b[0;34m\u001b[0m\u001b[0m\n\u001b[1;32m   2155\u001b[0m                 \u001b[0;32mraise\u001b[0m \u001b[0me1\u001b[0m\u001b[0;34m\u001b[0m\u001b[0m\n",
      "\u001b[0;32m/Library/Frameworks/Python.framework/Versions/3.5/lib/python3.5/site-packages/pandas/indexes/base.py\u001b[0m in \u001b[0;36mget_value\u001b[0;34m(self, series, key)\u001b[0m\n\u001b[1;32m   2137\u001b[0m         \u001b[0;32mtry\u001b[0m\u001b[0;34m:\u001b[0m\u001b[0;34m\u001b[0m\u001b[0m\n\u001b[1;32m   2138\u001b[0m             return self._engine.get_value(s, k,\n\u001b[0;32m-> 2139\u001b[0;31m                                           tz=getattr(series.dtype, 'tz', None))\n\u001b[0m\u001b[1;32m   2140\u001b[0m         \u001b[0;32mexcept\u001b[0m \u001b[0mKeyError\u001b[0m \u001b[0;32mas\u001b[0m \u001b[0me1\u001b[0m\u001b[0;34m:\u001b[0m\u001b[0;34m\u001b[0m\u001b[0m\n\u001b[1;32m   2141\u001b[0m             \u001b[0;32mif\u001b[0m \u001b[0mlen\u001b[0m\u001b[0;34m(\u001b[0m\u001b[0mself\u001b[0m\u001b[0;34m)\u001b[0m \u001b[0;34m>\u001b[0m \u001b[0;36m0\u001b[0m \u001b[0;32mand\u001b[0m \u001b[0mself\u001b[0m\u001b[0;34m.\u001b[0m\u001b[0minferred_type\u001b[0m \u001b[0;32min\u001b[0m \u001b[0;34m[\u001b[0m\u001b[0;34m'integer'\u001b[0m\u001b[0;34m,\u001b[0m \u001b[0;34m'boolean'\u001b[0m\u001b[0;34m]\u001b[0m\u001b[0;34m:\u001b[0m\u001b[0;34m\u001b[0m\u001b[0m\n",
      "\u001b[0;32mpandas/index.pyx\u001b[0m in \u001b[0;36mpandas.index.IndexEngine.get_value (pandas/index.c:3338)\u001b[0;34m()\u001b[0m\n",
      "\u001b[0;32mpandas/index.pyx\u001b[0m in \u001b[0;36mpandas.index.IndexEngine.get_value (pandas/index.c:3041)\u001b[0;34m()\u001b[0m\n",
      "\u001b[0;32mpandas/index.pyx\u001b[0m in \u001b[0;36mpandas.index.IndexEngine.get_loc (pandas/index.c:4024)\u001b[0;34m()\u001b[0m\n",
      "\u001b[0;32mpandas/src/hashtable_class_helper.pxi\u001b[0m in \u001b[0;36mpandas.hashtable.PyObjectHashTable.get_item (pandas/hashtable.c:13161)\u001b[0;34m()\u001b[0m\n",
      "\u001b[0;32mpandas/src/hashtable_class_helper.pxi\u001b[0m in \u001b[0;36mpandas.hashtable.PyObjectHashTable.get_item (pandas/hashtable.c:13115)\u001b[0;34m()\u001b[0m\n",
      "\u001b[0;31mKeyError\u001b[0m: 't'"
     ]
    }
   ],
   "source": [
    "# Evaluate Data\n",
    "\n",
    "# Read Data\n",
    "v1_df = pd.read_csv('data/drehstoss.csv')\n",
    "v1_inertia = 0\n",
    "v1_inertia_u = 0\n",
    "v1_d = 0\n",
    "v1_d_u = 0\n",
    "\n",
    "# Calculate mean etc.\n",
    "v1_mean = v1_df.mean()['t']\n",
    "v1_sem = v1_df.sem()['t']\n",
    "v1_std = v1_df.std()['t']"
   ]
  },
  {
   "cell_type": "code",
   "execution_count": null,
   "metadata": {
    "collapsed": true
   },
   "outputs": [],
   "source": []
  }
 ],
 "metadata": {
  "kernelspec": {
   "display_name": "Python 3",
   "language": "python",
   "name": "python3"
  },
  "language_info": {
   "codemirror_mode": {
    "name": "ipython",
    "version": 3
   },
   "file_extension": ".py",
   "mimetype": "text/x-python",
   "name": "python",
   "nbconvert_exporter": "python",
   "pygments_lexer": "ipython3",
   "version": "3.5.2"
  },
  "toc": {
   "nav_menu": {
    "height": "48px",
    "width": "252px"
   },
   "navigate_menu": true,
   "number_sections": true,
   "sideBar": true,
   "threshold": 4,
   "toc_cell": false,
   "toc_section_display": "block",
   "toc_window_display": false
  }
 },
 "nbformat": 4,
 "nbformat_minor": 1
}
