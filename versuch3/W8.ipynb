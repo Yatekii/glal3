{
 "cells": [
  {
   "cell_type": "raw",
   "metadata": {},
   "source": [
    "\\tableofcontents\n",
    "\\newpage"
   ]
  },
  {
   "cell_type": "code",
   "execution_count": 9,
   "metadata": {
    "ExecuteTime": {
     "end_time": "2016-12-14T13:35:48.869837",
     "start_time": "2016-12-14T13:35:48.788090"
    },
    "code_folding": [
     0
    ],
    "collapsed": false
   },
   "outputs": [],
   "source": [
    "# Preparations\n",
    "import math\n",
    "import pandas as pd\n",
    "import matplotlib.pyplot as plt\n",
    "import matplotlib.patches as mpatches\n",
    "import numpy as np\n",
    "from scipy import stats\n",
    "from scipy.optimize import curve_fit\n",
    "import seaborn as sns\n",
    "from IPython.display import Latex\n",
    "import warnings\n",
    "from PrettyTable import PrettyTable\n",
    "from functools import partial\n",
    "from PrettyFigure import PrettyFigure\n",
    "warnings.filterwarnings(\"ignore\", module=\"matplotlib\")\n",
    "%matplotlib inline\n",
    "%config InlineBackend.figure_format = 'svg'\n",
    "plt.rcParams['savefig.dpi'] = 75\n",
    "\n",
    "# plt.rcParams['figure.autolayout'] = False\n",
    "# plt.rcParams['figure.figsize'] = 10, 6\n",
    "plt.rcParams['axes.labelsize'] = 18\n",
    "plt.rcParams['axes.titlesize'] = 20\n",
    "plt.rcParams['font.size'] = 16\n",
    "plt.rcParams['lines.linewidth'] = 2.0\n",
    "plt.rcParams['lines.markersize'] = 8\n",
    "plt.rcParams['legend.fontsize'] = 14\n",
    "\n",
    "plt.rcParams['text.usetex'] = True\n",
    "plt.rcParams['text.latex.unicode'] = True\n",
    "plt.rcParams['font.family'] = \"STIX\"\n",
    "plt.rcParams['text.latex.preamble'] = \"\\\\usepackage{subdepth}, \\\\usepackage{type1cm}\"\n",
    "\n",
    "results = {}\n",
    "\n",
    "sns.set(color_codes=True)\n",
    "\n",
    "def average(data):\n",
    "    return 1 / len(data) * sum(data)\n",
    "\n",
    "def error(data, average_of_data):\n",
    "    s = sum([(x - average_of_data)**2 for x in data])\n",
    "    return math.sqrt(s / (len(data) * (len(data) - 1)))\n",
    "\n",
    "def std_deviation(error_of_average, length_of_dataset):\n",
    "    return error_of_average * math.sqrt(length_of_dataset)\n",
    "\n",
    "def average_with_weights(data, weights):\n",
    "    d = data\n",
    "    w = weights\n",
    "    return (d * w**-2).sum() / (w**-2).sum()\n",
    "\n",
    "def error_with_weights(weights):\n",
    "    w = weights\n",
    "    return 1 / math.sqrt((w**-2).sum())\n",
    "\n",
    "def wavg(group, avg_name, weight_name):\n",
    "    d = group[avg_name]\n",
    "    w = group[weight_name]\n",
    "    return (d * w**-2).sum() / (w**-2).sum()\n",
    "\n",
    "def werr(group, weight_name):\n",
    "    return 1 / math.sqrt((group[weight_name]**-2).sum())"
   ]
  },
  {
   "cell_type": "code",
   "execution_count": 45,
   "metadata": {
    "ExecuteTime": {
     "end_time": "2016-12-14T14:02:35.338941",
     "start_time": "2016-12-14T14:02:35.203306"
    },
    "caption": "Lineare Regression zur bestimmung des maximalen Ausschlages des Pendels, falls keinerlei Unidealitäten dieses beeinflussen.",
    "code_folding": [],
    "collapsed": false,
    "label": "fig:luftwiderstand_fit",
    "widefigure": true
   },
   "outputs": [
    {
     "name": "stdout",
     "output_type": "stream",
     "text": [
      "   gas1  gas2    p    s   t    f     T\n",
      "0  luft  luft  1.0  0.1   3  100  21.3\n",
      "1  luft  luft  1.0  0.4  12  100  21.3\n",
      "2  luft  luft  1.0  0.8  24  100  21.3\n"
     ]
    }
   ],
   "source": [
    "# Evaluate Data\n",
    "\n",
    "s_s = 50e-6\n",
    "\n",
    "s_s = 250e-6\n",
    "\n",
    "# Read Data\n",
    "df, slope, intercept = ({} for x in range(3))\n",
    "dfb = pd.read_csv('data/laufzeitmethode.csv')\n",
    "ax = None\n",
    "for gas1 in ['luft']:\n",
    "    df[gas1] = dfb.loc[dfb['gas1'] == gas1].loc[dfb['gas2'] == 'luft'].loc[dfb['p'] == 1]\n",
    "    slope[gas1], intercept[gas1], sem, r, p = stats.linregress(df[gas1]['t'], df[gas1]['s'])\n",
    "    n = np.linspace(0.3, 0.9, 100)\n",
    "    print(df[gas1])\n",
    "\n",
    "    ax = df[gas1].plot(kind='scatter', x='s', y='t', label='gemessene Laufzeit')\n",
    "    plt.plot(n, [i * slope[gas1] + intercept[gas1] for i in n], label='linearer Fit der Laufzeit', axes=ax)\n",
    "    plt.xlabel('Strecke [m]')\n",
    "    plt.ylabel('Laufzeit [s]')\n",
    "    plt.legend(bbox_to_anchor=(0.02, 0.98), loc=2, borderaxespad=0.2)\n",
    "    plt.close()\n",
    "plt.show()"
   ]
  }
 ],
 "metadata": {
  "celltoolbar": "Edit Metadata",
  "kernelspec": {
   "display_name": "Python 3",
   "language": "python",
   "name": "python3"
  },
  "language_info": {
   "codemirror_mode": {
    "name": "ipython",
    "version": 3
   },
   "file_extension": ".py",
   "mimetype": "text/x-python",
   "name": "python",
   "nbconvert_exporter": "python",
   "pygments_lexer": "ipython3",
   "version": "3.5.2"
  },
  "toc": {
   "nav_menu": {
    "height": "372px",
    "width": "252px"
   },
   "navigate_menu": true,
   "number_sections": true,
   "sideBar": true,
   "threshold": 4,
   "toc_cell": false,
   "toc_section_display": "block",
   "toc_window_display": false
  }
 },
 "nbformat": 4,
 "nbformat_minor": 1
}
