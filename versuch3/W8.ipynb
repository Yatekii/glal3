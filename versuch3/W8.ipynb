{
 "cells": [
  {
   "cell_type": "raw",
   "metadata": {},
   "source": [
    "\\tableofcontents\n",
    "\\newpage"
   ]
  },
  {
   "cell_type": "code",
   "execution_count": 1,
   "metadata": {
    "ExecuteTime": {
     "end_time": "2017-01-11T09:45:22.974088",
     "start_time": "2017-01-11T09:45:21.839473"
    },
    "code_folding": [
     0
    ],
    "collapsed": false
   },
   "outputs": [],
   "source": [
    "# Preparations\n",
    "import math\n",
    "import pandas as pd\n",
    "import matplotlib.pyplot as plt\n",
    "import matplotlib.patches as mpatches\n",
    "import numpy as np\n",
    "from scipy import stats\n",
    "from scipy.optimize import curve_fit\n",
    "import seaborn as sns\n",
    "from IPython.display import Latex\n",
    "import warnings\n",
    "from PrettyTable import PrettyTable\n",
    "from functools import partial\n",
    "from PrettyFigure import PrettyFigure\n",
    "warnings.filterwarnings(\"ignore\", module=\"matplotlib\")\n",
    "%matplotlib inline\n",
    "%config InlineBackend.figure_format = 'svg'\n",
    "plt.rcParams['savefig.dpi'] = 75\n",
    "\n",
    "# plt.rcParams['figure.autolayout'] = False\n",
    "# plt.rcParams['figure.figsize'] = 10, 6\n",
    "plt.rcParams['axes.labelsize'] = 18\n",
    "plt.rcParams['axes.titlesize'] = 20\n",
    "plt.rcParams['font.size'] = 16\n",
    "plt.rcParams['lines.linewidth'] = 2.0\n",
    "plt.rcParams['lines.markersize'] = 8\n",
    "plt.rcParams['legend.fontsize'] = 14\n",
    "\n",
    "plt.rcParams['text.usetex'] = True\n",
    "plt.rcParams['text.latex.unicode'] = True\n",
    "plt.rcParams['font.family'] = \"STIX\"\n",
    "plt.rcParams['text.latex.preamble'] = \"\\\\usepackage{subdepth}, \\\\usepackage{type1cm}\"\n",
    "\n",
    "results = {}\n",
    "\n",
    "sns.set(color_codes=True)\n",
    "\n",
    "def average(data):\n",
    "    return 1 / len(data) * sum(data)\n",
    "\n",
    "def error(data, average_of_data):\n",
    "    s = sum([(x - average_of_data)**2 for x in data])\n",
    "    return math.sqrt(s / (len(data) * (len(data) - 1)))\n",
    "\n",
    "def std_deviation(error_of_average, length_of_dataset):\n",
    "    return error_of_average * math.sqrt(length_of_dataset)\n",
    "\n",
    "def average_with_weights(data, weights):\n",
    "    d = data\n",
    "    w = weights\n",
    "    return (d * w**-2).sum() / (w**-2).sum()\n",
    "\n",
    "def error_with_weights(weights):\n",
    "    w = weights\n",
    "    return 1 / math.sqrt((w**-2).sum())\n",
    "\n",
    "def wavg(group, avg_name, weight_name):\n",
    "    d = group[avg_name]\n",
    "    w = group[weight_name]\n",
    "    return (d * w**-2).sum() / (w**-2).sum()\n",
    "\n",
    "def werr(group, weight_name):\n",
    "    return 1 / math.sqrt((group[weight_name]**-2).sum())"
   ]
  },
  {
   "cell_type": "markdown",
   "metadata": {
    "variables": {
     "\\kappa}^*{R_i}^*T}&nbsp;=&nbsp;\\sqrt{<br>\\frac{\\sum&nbsp;m_j\\cdot&nbsp;c_{p,&nbsp;j": "<p><strong>SyntaxError</strong>: unexpected character after line continuation character (<ipython-input-56-342b4a1d6c1b>, line 1)</p>\n"
    }
   },
   "source": [
    "# Arbeitsgrundlagen\n",
    "\n",
    "In diesem Versuch soll die Schallgeschindigkeit in Gasen mittels Laufzeitmessung sowie Bestimmung der Resonanzfrequenz des Schalls bestimmt werden.\n",
    "Es werden ausschliesslich Longitudinalwellen am einen Ende des Mediums in welchem gemessen wird ausgesandt und am anderen Ende aufgefangen.\n",
    "\n",
    "## Phasengeschwindigkeit von Shallwellen in Gasen\n",
    "\n",
    "Die Schallgeschwindigkeit $c$ in idealen Gasen ist eine Funktion die nur von der Temperatur abhängig ist. Unter Annahme der isentropen Kompression und Dekompression mit dem Koeffizienten $\\kappa$, der molaren Gaskonstante $R_m$ und der Molmasse $M_m$ erhält man die Formel \\ref{eq:Schallgeschwindigkeit}\n",
    "\n",
    "\\begin{equation}\n",
    "c = \\sqrt{\\kappa\\frac{s}{t}T}\n",
    "\\label{eq:Schallgeschwindigkeit}\n",
    "\\end{equation}\n",
    "\n",
    "$R_m$ ist dabei immer 8.314 $\\frac{kJ}{kmol\\cdot K}$. Mit $R_m$ lässt sich für viele Gase die Schallgeschwindigkeit berechnen, welche mit den Messwerten gut übereinstimmt.\n",
    "Den Isentropenkoeffizienten $\\kappa$ kann der Theorie des Dozenten oder Tabellen entnommen werden. \n",
    "$\\kappa$ kann jedoch auch von der Temperatur abhängen, weswegen experimentelle Daten vorzuziehen sind.\n",
    "\n",
    "## Schallgeschwindigkeit in einem Gasgemisch\n",
    "\n",
    "Um die spezifische Schallgeschwindigkeit in einem Gasgemisch zu bestimmen, müssen $\\kappa$ und $R_i$ umgerechnet werden.\n",
    "Hier geht man von den Definitionen \\ref{eq:kappa} und \\ref{eq:Schallgeschwindigkeit} aus.\n",
    "\n",
    "\\begin{equation}\n",
    "\\kappa = \\frac{c_p}{c_v}\n",
    "\\label{eq:kappa}\n",
    "\\end{equation}\n",
    "\n",
    "Dies führt zu \\ref{eq:v_spez}.\n",
    "\n",
    "\\begin{equation}\n",
    "c = \\sqrt{{\\kappa}^*{R_i}^*T} = \\sqrt{\n",
    "\\frac{\\sum m_j\\cdot c_{p, j}}{\\sum m_j\\cdot c_{v, j}}\\frac{\\sum m_j\\cdot R_{i, j}}{\\sum m_j}T}\n",
    "\\label{eq:v_spez}\n",
    "\\end{equation}\n",
    "\n",
    "Im Experiment wird das Gasgemisch jedoch nicht über die Einfüllmassen $m_j$ sondern den jeweiligen Partialdruck $p_j$ beziehungsweise über den relativen Partialdruck $p_{rel, j} = \\frac{p_j}{p_{tot}}$ bestimmt. Somit gilt für ideale Gase die Relation in \\ref{eq:m_p}.\n",
    "\n",
    "\\begin{equation}\n",
    "m_j \\propto p_j \\cdot M_{m, j} \\propto p_{rel, j} \\cdot M_{m, j}\n",
    "\\label{eq:m_p}\n",
    "\\end{equation}\n",
    "\n",
    "Und natürlich gilt für jedes Gasgemisch die Relation $p_{rel, 2} = 1 - p_{rel, 1}$.\n",
    "\n",
    "## Stehende Wellen in einem Rohr\n",
    "\n",
    "Durch das Begrenzen einer Welle in einem Medium, in diesem Versuch sind das Schallwellen in Gasen in einem Zylinder, werden Reflexionen hervorgerufen. Wenn die Randbedingungen, sprich die Länge des Rohres, bzw die passenden Frequenzen des Schalls dazu , gut gewählt werden, dann entsteht konstruktive Interferenz.\n",
    "Natürlich kann dabei auch destruktive Interferenz ausgelöst werden, so dass die Wellen ganz verschwinden. Wenn konstruktive Interferenz herrscht, so spricht man von einer stehenden Welle. Die Amplitude dieser Stehwelle ist abhängig von der Dämpfung, beziehungsweise der Güte Q des Resonators, welche das Verhältnis zwischen Anregeamplitude und Resonanzamplitude darstellt.\n",
    "\n",
    "![Stehende Wellen](images/Stehende_Wellen.png)\n",
    "\n",
    "Für ein offenes Rohr gelten die in \\ref{eq:rohr_offen_1} und \\ref{eq:rohr_offen_1} ersichtlichen Formeln.\n",
    "\n",
    "\\begin{equation}\n",
    "L = n \\cdot \\frac{\\lambda}{2}\n",
    "\\label{eq:rohr_offen_1}\n",
    "\\end{equation}\n",
    "\n",
    "\\begin{equation}\n",
    "f_n = n \\cdot \\frac{c}{2L}\n",
    "\\label{eq:rohr_offen_2}\n",
    "\\end{equation}\n",
    "\n",
    "Für ein geschlossenes Rohr gelten die in \\ref{eq:rohr_geschlossen_1} und \\ref{eq:rohr_geschlossen_2} ersichtlichen Formeln.\n",
    "\n",
    "\\begin{equation}\n",
    "L = \\frac{\\lambda}{4} + n \\cdot \\frac{\\lambda}{2}\n",
    "\\label{eq:rohr_geschlossen_1}\n",
    "\\end{equation}\n",
    "\n",
    "\\begin{equation}\n",
    "f_n = \\frac{c}{4L} (1 + 2n)\n",
    "\\label{eq:rohr_geschlossen_2}\n",
    "\\end{equation}\n",
    "\n",
    "Wobei $L$ die Länge des Rohres, $f_n$ die Eigenfrequenz. $c$ die Schallgeschwindigkeit $\\lambda$ die Wellenlänge und $n$ ein ganzzahliger Faktor sind."
   ]
  },
  {
   "cell_type": "raw",
   "metadata": {},
   "source": [
    "\\newpage"
   ]
  },
  {
   "cell_type": "markdown",
   "metadata": {},
   "source": [
    "# Durchführung\n",
    "\n",
    "Die Versuchumgebung besteht aus einem doppelwandigen, luftdicht verschlossenen Messingrohr R. Auf einer Seite des Rohres ist im Inneren ein Lautsprecher L und gegenüberliegend ein Kondensatormikrofon KM montiert. Um die Schallgeschwindigkeiten bei verschiedenen Distanzen bestimmen zu können, kann die Wand, an welcher das KM angebracht ist, per Handkurbel verstellt werden. Die Temperatur im Inneren kann durch ein Chromel-Alumel-Thermoelement bestimmt werden. Zudem gibt es natürlich ein Einlassventil sowie ein Ablassventil.\n",
    "\n",
    "Die genaue Versuchsanordng kann der nachstehenden Illustration entnommen werden.\n",
    "\n",
    "![Versuchsanordnung](images/Versuchsanordnung.png)"
   ]
  },
  {
   "cell_type": "raw",
   "metadata": {},
   "source": [
    "\\newpage"
   ]
  },
  {
   "cell_type": "markdown",
   "metadata": {},
   "source": [
    "## Laufzeitmessung\n",
    "\n",
    "Die Versuchsanornung zur bestimmung der Schallgeschwindigkeit mithilfe der Laufzeitmethode kann der folgenden Abbildung entnommen werden.\n",
    "\n",
    "![Versuchsanordnung zur Laufzeitbestimmung](images/Laufzeitmessung.png)\n",
    "\n",
    "Um kurze, steile Schallimpulse zu erzeugen, wird ein Kondensator C per Drucktaster über dem Lautsprecher L entladen. Zeitgleich wird dem Zeitmesser signalisiert dass er die Zeitmessung starten soll. Das Kondensatormikrofon wird dann nach einiger Zeit und genügend Verstärkung im Audioverstärker den Impuls aufnehmen und dem Zeitmesser das Signal die Zeit zu stoppen geben.\n",
    "\n",
    "Zur Kontrolle der Funktionalität steht ein Oszilloskop bereit auf welchem die Impulse beobachtet werden können. Diese sollten in etwa wie in folgender Abbildung aussehen.\n",
    "\n",
    "![Oszilloskop mit Impulsen](images/Oszi.png)"
   ]
  },
  {
   "cell_type": "raw",
   "metadata": {},
   "source": [
    "\\newpage"
   ]
  },
  {
   "cell_type": "markdown",
   "metadata": {},
   "source": [
    "## Resonanzmethode\n",
    "\n",
    "Nachfolgend ist die Versuchsanornung zur Resonanzbestimmung zu sehen.\n",
    "\n",
    "![Versuchsanordnung zur Resonanzbestimmung](images/Resonanzmethode.png)\n",
    "\n",
    "Zur bestimmung der Resonanz wird der Impulsgeber aus der Laufzeitmessung durch einen Sinusgenerator ersetzt. Nun sendet der Lautsprecher kontinuierlich Wellen in das Rohr. Auf dem Oszilloskop wird das ausgesendete Signal mit dem empfangenen Signal im XY-Modus in Relation gestellt. Logischerweise müsste bei Resonanz die Verstärkung des Resonators linear sein und auf dem Oszilloskop eine Linie zu sehen sein. Ist noch eine Ellipse sichtbar, so herrscht noch hysterese und es ist noch keine vollkommen konstruktive Interferenz.\n",
    "Nun kann mithilfe der Handkurbel die Distanz des Mikrofons zum Lautsprecher verstellt werden. Dadurch kann die Distanz wischen zwei Wellenbergen gemessen werden.\n",
    "\n",
    "## Gasgemische\n",
    "\n",
    "Beide Methodiken wurden mit reiner Luft und je Helium und SF6 angewandt.\n",
    "Zudem wurden dann die Gase Helium und SD6 in 20% schritten vermischt und gemessen.\n",
    "Der Anteil konnte einfach über den Druck im Behälter eingestellt werden, da dieser wie in \\ref{eq:m_p} dargestellt direkt proportional zu den Molekülen des Gases ist."
   ]
  },
  {
   "cell_type": "raw",
   "metadata": {},
   "source": [
    "\\newpage"
   ]
  },
  {
   "cell_type": "markdown",
   "metadata": {},
   "source": [
    "## Konstanten\n",
    "\n",
    "Die nachfolgenden Konstanten sind alle in Horst Kuchlings Taschenbuch der Physik zu finden."
   ]
  },
  {
   "cell_type": "code",
   "execution_count": 10,
   "metadata": {
    "ExecuteTime": {
     "end_time": "2017-01-11T09:54:25.110632",
     "start_time": "2017-01-11T09:54:25.101766"
    },
    "code_folding": [
     0
    ],
    "collapsed": false
   },
   "outputs": [
    {
     "data": {
      "text/html": [
       "<table style=\"margin:auto;\"><tr><td>Gas</td><td>$M_m[\\frac{g}{mol}]$</td><td>$R_i[\\frac{J}{kg K}]$</td><td>$c_p[\\frac{kJ}{kg K}]$</td><td>$c_v[\\frac{kJ}{kg K}]$</td><td>$K$</td><td>$c_0[\\frac{m}{s}]$</td></tr><tr><td>Luft</td><td>28.95</td><td>287</td><td>1.01</td><td>0.72</td><td>1.63</td><td>971</td></tr><tr><td>Helium</td><td>4.0</td><td>2078</td><td>5.23</td><td>3.21</td><td>1.4</td><td>344</td></tr><tr><td>SF6</td><td>146.06</td><td>56.92</td><td>0.665</td><td>0.657</td><td>1.012</td><td>129</td></tr></table><p style=\"text-align:center\">Kennwerte und Konstanten der verwendeten Gase.</p>"
      ],
      "text/latex": [
       "\\begin{longtable}[H]{@{}lllllll@{}}\n",
       "\\toprule\\addlinespace\n",
       "Gas & $M_m[\\frac{g}{mol}]$ & $R_i[\\frac{J}{kg K}]$ & $c_p[\\frac{kJ}{kg K}]$ & $c_v[\\frac{kJ}{kg K}]$ & $K$ & $c_0[\\frac{m}{s}]$\\\\\\addlinespace \n",
       "\\midrule\\endhead\n",
       "Luft & 28.95 & 287 & 1.01 & 0.72 & 1.63 & 971\\\\\\addlinespace \n",
       "Helium & 4.0 & 2078 & 5.23 & 3.21 & 1.4 & 344\\\\\\addlinespace \n",
       "SF6 & 146.06 & 56.92 & 0.665 & 0.657 & 1.012 & 129\\\\\\addlinespace \n",
       "\\\\\\bottomrule\\caption{Kennwerte und Konstanten der verwendeten Gase.}\\\\\\label{tab:gase}\n",
       " \\end{longtable}"
      ],
      "text/plain": [
       "[['Gas',\n",
       "  '$M_m[\\\\frac{g}{mol}]$',\n",
       "  '$R_i[\\\\frac{J}{kg K}]$',\n",
       "  '$c_p[\\\\frac{kJ}{kg K}]$',\n",
       "  '$c_v[\\\\frac{kJ}{kg K}]$',\n",
       "  '$K$',\n",
       "  '$c_0[\\\\frac{m}{s}]$'],\n",
       " ('Luft', 28.95, 287, 1.01, 0.72, 1.63, 971),\n",
       " ('Helium', 4.0, 2078, 5.23, 3.21, 1.4, 344),\n",
       " ('SF6', 146.06, 56.92, 0.665, 0.657, 1.012, 129)]"
      ]
     },
     "metadata": {},
     "output_type": "display_data"
    }
   ],
   "source": [
    "# Constants\n",
    "\n",
    "name = ['Luft', 'Helium', 'SF6']\n",
    "mm = [28.95, 4.00, 146.06]\n",
    "ri = [287, 2078, 56.92]\n",
    "cp = [1.01, 5.23, 0.665]\n",
    "cv = [0.72, 3.21, 0.657]\n",
    "k = [1.63, 1.40, 1.012]\n",
    "c0 = [971, 344, 129]\n",
    "\n",
    "constants_tbl = PrettyTable(\n",
    "    list(zip(name, mm, ri, cp, cv, k, c0)),\n",
    "    label='tab:gase',\n",
    "    caption='Kennwerte und Konstanten der verwendeten Gase.',\n",
    "    extra_header=[\n",
    "        'Gas',\n",
    "        r'$M_m[\\frac{g}{mol}]$',\n",
    "        r'$R_i[\\frac{J}{kg K}]$',\n",
    "        r'$c_p[\\frac{kJ}{kg K}]$',\n",
    "        r'$c_v[\\frac{kJ}{kg K}]$',\n",
    "        r'$K$',\n",
    "        r'$c_0[\\frac{m}{s}]$'\n",
    "    ], entries_per_column=3)\n",
    "constants_tbl.show()"
   ]
  },
  {
   "cell_type": "markdown",
   "metadata": {},
   "source": [
    "## Verwendete Messgeräte"
   ]
  },
  {
   "cell_type": "code",
   "execution_count": 5,
   "metadata": {
    "ExecuteTime": {
     "end_time": "2017-01-06T13:52:12.708855",
     "start_time": "2017-01-06T13:52:12.702149"
    },
    "code_folding": [
     0
    ],
    "collapsed": false
   },
   "outputs": [
    {
     "data": {
      "text/html": [
       "<table style=\"margin:auto;\"><tr><td>Funktion</td><td>Hersteller</td><td>Gerätename</td></tr><tr><td>Oszilloskop</td><td>LeCroy</td><td>9631 Dual 300MHz Oscilloscope 2.5 GS/s</td></tr><tr><td>Zeitmesser</td><td>Keithley</td><td>775 Programmable Counter/Timer</td></tr><tr><td>Funktionsgenerator</td><td>HP</td><td>33120A 15MHz Waveform Generator</td></tr><tr><td>Verstärker</td><td>WicTronic</td><td>Zweikanalverstärker</td></tr><tr><td>Vakuumpumpe</td><td>Pfeiffer</td><td>Vacuum</td></tr><tr><td>Netzgerät</td><td> </td><td> </td></tr><tr><td>Temperaturmessgerät</td><td> </td><td> </td></tr></table><p style=\"text-align:center\">Verwendete Gerätschaften</p>"
      ],
      "text/latex": [
       "\\begin{longtable}[H]{@{}lll@{}}\n",
       "\\toprule\\addlinespace\n",
       "Funktion & Hersteller & Gerätename\\\\\\addlinespace \n",
       "\\midrule\\endhead\n",
       "Oszilloskop & LeCroy & 9631 Dual 300MHz Oscilloscope 2.5 GS/s\\\\\\addlinespace \n",
       "Zeitmesser & Keithley & 775 Programmable Counter/Timer\\\\\\addlinespace \n",
       "Funktionsgenerator & HP & 33120A 15MHz Waveform Generator\\\\\\addlinespace \n",
       "Verstärker & WicTronic & Zweikanalverstärker\\\\\\addlinespace \n",
       "Vakuumpumpe & Pfeiffer & Vacuum\\\\\\addlinespace \n",
       "Netzgerät &   &  \\\\\\addlinespace \n",
       "Temperaturmessgerät &   &  \\\\\\addlinespace \n",
       "\\\\\\bottomrule\\caption{Verwendete Gerätschaften}\\\\\\label{tab:utilities}\n",
       " \\end{longtable}"
      ],
      "text/plain": [
       "[['Funktion', 'Hersteller', 'Gerätename'],\n",
       " ('Oszilloskop', 'LeCroy', '9631 Dual 300MHz Oscilloscope 2.5 GS/s'),\n",
       " ('Zeitmesser', 'Keithley', '775 Programmable Counter/Timer'),\n",
       " ('Funktionsgenerator', 'HP', '33120A 15MHz Waveform Generator'),\n",
       " ('Verstärker', 'WicTronic', 'Zweikanalverstärker'),\n",
       " ('Vakuumpumpe', 'Pfeiffer', 'Vacuum'),\n",
       " ('Netzgerät', ' ', ' '),\n",
       " ('Temperaturmessgerät', ' ', ' ')]"
      ]
     },
     "metadata": {},
     "output_type": "display_data"
    }
   ],
   "source": [
    "# Utilities\n",
    "\n",
    "name = ['Oszilloskop', 'Zeitmesser', 'Funktionsgenerator', 'Verstärker', 'Vakuumpumpe', 'Netzgerät', 'Temperaturmessgerät']\n",
    "manufacturer = ['LeCroy', 'Keithley', 'HP', 'WicTronic', 'Pfeiffer', ' ', ' ']\n",
    "device = ['9631 Dual 300MHz Oscilloscope 2.5 GS/s', '775 Programmable Counter/Timer', '33120A 15MHz Waveform Generator', 'Zweikanalverstärker', 'Vacuum', ' ', ' ']\n",
    "\n",
    "utilities_tbl = PrettyTable(\n",
    "    list(zip(name, manufacturer, device)),\n",
    "    label='tab:utilities',\n",
    "    caption='Verwendete Gerätschaften',\n",
    "    extra_header=[\n",
    "        'Funktion',\n",
    "        'Hersteller',\n",
    "        'Gerätename',\n",
    "    ], entries_per_column=7)\n",
    "utilities_tbl.show()"
   ]
  },
  {
   "cell_type": "raw",
   "metadata": {
    "collapsed": true
   },
   "source": [
    "\\newpage"
   ]
  },
  {
   "cell_type": "markdown",
   "metadata": {
    "ExecuteTime": {
     "end_time": "2017-01-06T09:37:26.585739",
     "start_time": "2017-01-06T09:37:26.583637"
    }
   },
   "source": [
    "# Auswertung\n",
    "\n",
    "Bei allen Versuchen wurde im Behältnis ein Unterdruck von -0.8 Bar erzeugt. Anschliesend wurde das Rohr bis 0.3 Bar mit Gas gefüllt. Dies wurde jeweils zweimal gemacht um Rückstände des vorherigen Gases zu entfernen.\n",
    "\n",
    "## Laufzeitmethode\n",
    "\n",
    "Bei der Laufzeitmethode wurde die Laufzeit vom Lautsprecher bis zum Mikrofon bei verschidenen Distanzen gemessen. Mit einer Linearen Regression konnte dann die Schallgeschwindigkeit bestimmt werden. systematische Fehler wie die Wahl der Triggerschwelle, die Position des Mikrofons oder der Position des Lautsprechers sind im y-Achsenabschnitt $t_0$ enthalten und müssen somit nicht mehr berücksichtigt werden."
   ]
  },
  {
   "cell_type": "code",
   "execution_count": 25,
   "metadata": {
    "ExecuteTime": {
     "end_time": "2017-01-11T10:44:06.611700",
     "start_time": "2017-01-11T10:44:01.406550"
    },
    "caption": "Lineare Regression zur bestimmung des maximalen Ausschlages des Pendels, falls keinerlei Unidealitäten dieses beeinflussen.",
    "code_folding": [
     0
    ],
    "collapsed": false,
    "label": "fig:luftwiderstand_fit",
    "widefigure": true
   },
   "outputs": [
    {
     "data": {
      "text/html": [
       "<img src=\"images/figures/laufzeiten_luft.png\" alt=\"Laufzeiten in Luft. Dazu einen linearen Fit um die Mittlere Geschwindigkeit zu bestimmen.\" style=\"display: block;margin-left: auto;margin-right: auto\">\n",
       "<p style=\"text-align:center\">Laufzeiten in Luft. Dazu einen linearen Fit um die Mittlere Geschwindigkeit zu bestimmen.</p>\n"
      ],
      "text/latex": [
       "\\begin{figure*}[!htbp]\n",
       "    \\begin{center}\\adjustimage{max size={0.9\\linewidth}{0.4\\paperheight}}{images/figures/laufzeiten_luft.pdf}\\end{center}\n",
       "    \\caption{Laufzeiten in Luft. Dazu einen linearen Fit um die Mittlere Geschwindigkeit zu bestimmen.}\n",
       "    \\label{fig:laufzeiten_luft}\n",
       "\\end{figure*}\n",
       "        "
      ],
      "text/plain": [
       "<PrettyFigure.PrettyFigure at 0x10ad994e0>"
      ]
     },
     "metadata": {},
     "output_type": "display_data"
    },
    {
     "data": {
      "text/html": [
       "<img src=\"images/figures/laufzeiten_helium.png\" alt=\"Laufzeiten in Helium. Dazu einen linearen Fit um die Mittlere Geschwindigkeit zu bestimmen.\" style=\"display: block;margin-left: auto;margin-right: auto\">\n",
       "<p style=\"text-align:center\">Laufzeiten in Helium. Dazu einen linearen Fit um die Mittlere Geschwindigkeit zu bestimmen.</p>\n"
      ],
      "text/latex": [
       "\\begin{figure*}[!htbp]\n",
       "    \\begin{center}\\adjustimage{max size={0.9\\linewidth}{0.4\\paperheight}}{images/figures/laufzeiten_helium.pdf}\\end{center}\n",
       "    \\caption{Laufzeiten in Helium. Dazu einen linearen Fit um die Mittlere Geschwindigkeit zu bestimmen.}\n",
       "    \\label{fig:laufzeiten_helium}\n",
       "\\end{figure*}\n",
       "        "
      ],
      "text/plain": [
       "<PrettyFigure.PrettyFigure at 0x10e069780>"
      ]
     },
     "metadata": {},
     "output_type": "display_data"
    },
    {
     "data": {
      "text/html": [
       "<img src=\"images/figures/laufzeiten_sf6.png\" alt=\"Laufzeiten in Sf6. Dazu einen linearen Fit um die Mittlere Geschwindigkeit zu bestimmen.\" style=\"display: block;margin-left: auto;margin-right: auto\">\n",
       "<p style=\"text-align:center\">Laufzeiten in Sf6. Dazu einen linearen Fit um die Mittlere Geschwindigkeit zu bestimmen.</p>\n"
      ],
      "text/latex": [
       "\\begin{figure*}[!htbp]\n",
       "    \\begin{center}\\adjustimage{max size={0.9\\linewidth}{0.4\\paperheight}}{images/figures/laufzeiten_sf6.pdf}\\end{center}\n",
       "    \\caption{Laufzeiten in Sf6. Dazu einen linearen Fit um die Mittlere Geschwindigkeit zu bestimmen.}\n",
       "    \\label{fig:laufzeiten_sf6}\n",
       "\\end{figure*}\n",
       "        "
      ],
      "text/plain": [
       "<PrettyFigure.PrettyFigure at 0x10d044978>"
      ]
     },
     "metadata": {},
     "output_type": "display_data"
    }
   ],
   "source": [
    "# Laufzeitenmethode Luft, Helium, SF6\n",
    "import collections\n",
    "\n",
    "# Read Data\n",
    "dfb = pd.read_csv('data/laufzeitmethode.csv')\n",
    "ax = None\n",
    "i = 0\n",
    "for gas1 in ['luft', 'helium', 'sf6']:\n",
    "    df = dfb.loc[dfb['gas1'] == gas1].loc[dfb['gas2'] == gas1].loc[dfb['p'] == 1]\n",
    "    slope, intercept, sem, r, p = stats.linregress(df['t'], df['s'])\n",
    "    n = np.linspace(0.0, df['t'][9 + i * 10] * 1.2, 100)\n",
    "\n",
    "    results[gas1] = {\n",
    "        gas1: {\n",
    "\n",
    "        }\n",
    "    }\n",
    "    results[gas1][gas1]['1_l_df'] = df\n",
    "    results[gas1][gas1]['1_l_slope'] = slope\n",
    "    results[gas1][gas1]['1_l_intercept'] = intercept\n",
    "    results[gas1][gas1]['1_l_sem'] = sem\n",
    "    \n",
    "    ax = df.plot(kind='scatter', x='t', y='s', label='gemessene Laufzeit')\n",
    "    plt.plot(n, [i * slope + intercept for i in n], label='linearer Fit der Laufzeit', axes=ax)\n",
    "    plt.xlabel('Laufzeit [s]')\n",
    "    plt.ylabel('Strecke [m]')\n",
    "    plt.xlim([0, df['t'][9 + i * 10] * 1.1])\n",
    "    plt.legend(bbox_to_anchor=(0.02, 0.98), loc=2, borderaxespad=0.2)\n",
    "    i += 1\n",
    "    plt.close()\n",
    "    figure = PrettyFigure(\n",
    "        ax.figure,\n",
    "        label='fig:laufzeiten_{}'.format(gas1),\n",
    "        caption='Laufzeiten in {}. Dazu einen linearen Fit um die Mittlere Geschwindigkeit zu bestimmen.'.format(gas1.title()))\n",
    "    figure.show()"
   ]
  },
  {
   "cell_type": "raw",
   "metadata": {},
   "source": [
    "\\newpage"
   ]
  },
  {
   "cell_type": "markdown",
   "metadata": {},
   "source": [
    "## Resonanzmethode\n",
    "\n",
    "Um eine anständige Messung zu kriegen, wurde zuerst eine Anfangsfrequenz bestimmt, bei welcher mindestens 3 konstruktive Interferenzen über die Messdistanz von einem Meter gemessen wurden. Da wurde dann eine Messung durchgeführt, sowie bei 5 weiteren, höheren Frequenzen.\n",
    "\n",
    "Mit einem linearen Fit konnte dann vorzüglich die Schallgeschwindigkeit berechnet werden. Hierbei wurde die Formel in \\ref{eq:rohr_offen_2} verwendet."
   ]
  },
  {
   "cell_type": "code",
   "execution_count": 26,
   "metadata": {
    "ExecuteTime": {
     "end_time": "2017-01-11T10:44:37.320994",
     "start_time": "2017-01-11T10:44:31.206446"
    },
    "code_folding": [
     0
    ],
    "collapsed": false
   },
   "outputs": [
    {
     "data": {
      "text/html": [
       "<img src=\"images/figures/laufzeiten_luft.png\" alt=\"Abstände der Maxima bei resonanten Frequenzen in Luft. Dazu einen linearen Fit um die Mittlere Geschwindigkeit zu bestimmen.\" style=\"display: block;margin-left: auto;margin-right: auto\">\n",
       "<p style=\"text-align:center\">Abstände der Maxima bei resonanten Frequenzen in Luft. Dazu einen linearen Fit um die Mittlere Geschwindigkeit zu bestimmen.</p>\n"
      ],
      "text/latex": [
       "\\begin{figure*}[!htbp]\n",
       "    \\begin{center}\\adjustimage{max size={0.9\\linewidth}{0.4\\paperheight}}{images/figures/laufzeiten_luft.pdf}\\end{center}\n",
       "    \\caption{Abstände der Maxima bei resonanten Frequenzen in Luft. Dazu einen linearen Fit um die Mittlere Geschwindigkeit zu bestimmen.}\n",
       "    \\label{fig:laufzeiten_luft}\n",
       "\\end{figure*}\n",
       "        "
      ],
      "text/plain": [
       "<PrettyFigure.PrettyFigure at 0x10d0ae940>"
      ]
     },
     "metadata": {},
     "output_type": "display_data"
    },
    {
     "data": {
      "text/html": [
       "<img src=\"images/figures/laufzeiten_helium.png\" alt=\"Abstände der Maxima bei resonanten Frequenzen in Helium. Dazu einen linearen Fit um die Mittlere Geschwindigkeit zu bestimmen.\" style=\"display: block;margin-left: auto;margin-right: auto\">\n",
       "<p style=\"text-align:center\">Abstände der Maxima bei resonanten Frequenzen in Helium. Dazu einen linearen Fit um die Mittlere Geschwindigkeit zu bestimmen.</p>\n"
      ],
      "text/latex": [
       "\\begin{figure*}[!htbp]\n",
       "    \\begin{center}\\adjustimage{max size={0.9\\linewidth}{0.4\\paperheight}}{images/figures/laufzeiten_helium.pdf}\\end{center}\n",
       "    \\caption{Abstände der Maxima bei resonanten Frequenzen in Helium. Dazu einen linearen Fit um die Mittlere Geschwindigkeit zu bestimmen.}\n",
       "    \\label{fig:laufzeiten_helium}\n",
       "\\end{figure*}\n",
       "        "
      ],
      "text/plain": [
       "<PrettyFigure.PrettyFigure at 0x10e7349e8>"
      ]
     },
     "metadata": {},
     "output_type": "display_data"
    },
    {
     "data": {
      "text/html": [
       "<img src=\"images/figures/laufzeiten_sf6.png\" alt=\"Abstände der Maxima bei resonanten Frequenzen in Sf6. Dazu einen linearen Fit um die Mittlere Geschwindigkeit zu bestimmen.\" style=\"display: block;margin-left: auto;margin-right: auto\">\n",
       "<p style=\"text-align:center\">Abstände der Maxima bei resonanten Frequenzen in Sf6. Dazu einen linearen Fit um die Mittlere Geschwindigkeit zu bestimmen.</p>\n"
      ],
      "text/latex": [
       "\\begin{figure*}[!htbp]\n",
       "    \\begin{center}\\adjustimage{max size={0.9\\linewidth}{0.4\\paperheight}}{images/figures/laufzeiten_sf6.pdf}\\end{center}\n",
       "    \\caption{Abstände der Maxima bei resonanten Frequenzen in Sf6. Dazu einen linearen Fit um die Mittlere Geschwindigkeit zu bestimmen.}\n",
       "    \\label{fig:laufzeiten_sf6}\n",
       "\\end{figure*}\n",
       "        "
      ],
      "text/plain": [
       "<PrettyFigure.PrettyFigure at 0x1042b5d68>"
      ]
     },
     "metadata": {},
     "output_type": "display_data"
    }
   ],
   "source": [
    "# Resonanzmethode Luft, Helium, SF6\n",
    "import collections\n",
    "\n",
    "# Read Data\n",
    "dfb = pd.read_csv('data/resonanzfrequenz.csv')\n",
    "ax = None\n",
    "i = 0\n",
    "for gas1 in ['luft', 'helium', 'sf6']:\n",
    "    df = dfb.loc[dfb['gas1'] == gas1].loc[dfb['gas2'] == gas1].loc[dfb['p'] == 1]\n",
    "    df['lbd'] = 1 / (df['s'] * 2)\n",
    "    df['v'] = 2 * df['f'] * df['s']\n",
    "    slope, intercept, sem, r, p = stats.linregress(df['lbd'], df['f'])\n",
    "    n = np.linspace(0.0, df['lbd'][(5 + i * 6) if i < 2 else 15] * 1.2, 100)\n",
    "\n",
    "    results[gas1][gas1]['1_r_df'] = df\n",
    "    results[gas1][gas1]['1_r_slope'] = slope\n",
    "    results[gas1][gas1]['1_r_intercept'] = intercept\n",
    "    results[gas1][gas1]['1_r_sem'] = sem\n",
    "    \n",
    "    ax = df.plot(kind='scatter', x='lbd', y='f', label='gemessenes $\\lambda^{-1}$')\n",
    "    plt.plot(n, [i * slope + intercept for i in n], label='linearer Fit von $\\lambda^{-1}$', axes=ax)\n",
    "    plt.xlabel(r'$1 / \\lambda [m^{-1}]$')\n",
    "    plt.ylabel(r'$Frequenz [s^{-1}]$')\n",
    "    plt.xlim([0, df['lbd'][(5 + i * 6) if i < 2 else 15] * 1.1])\n",
    "    plt.legend(bbox_to_anchor=(0.02, 0.98), loc=2, borderaxespad=0.2)\n",
    "    i += 1\n",
    "    plt.close()\n",
    "    figure = PrettyFigure(\n",
    "        ax.figure,\n",
    "        label='fig:laufzeiten_{}'.format(gas1),\n",
    "        caption='Abstände der Maxima bei resonanten Frequenzen in {}. Dazu einen linearen Fit um die Mittlere Geschwindigkeit zu bestimmen.'.format(gas1.title()))\n",
    "    figure.show()"
   ]
  },
  {
   "cell_type": "raw",
   "metadata": {},
   "source": [
    "\\newpage"
   ]
  },
  {
   "cell_type": "markdown",
   "metadata": {},
   "source": [
    "## Gasgemische\n",
    "\n",
    "Bei diesem Versuch wurden Helium und SF6 mit $\\frac{1}{5}$ Anteilen kombiniert.\n",
    "Dafür wurde jeweils erst ein Gas bis einem Druck proportional zum jeweiligen Anteil eingelassen und darauf hin das zweite Gas.\n",
    "Wie in \\ref{eq:m_p} erklärt ist dies möglich."
   ]
  },
  {
   "cell_type": "code",
   "execution_count": 31,
   "metadata": {
    "ExecuteTime": {
     "end_time": "2017-01-11T10:51:08.625552",
     "start_time": "2017-01-11T10:51:06.508323"
    },
    "code_folding": [
     0
    ],
    "collapsed": false,
    "scrolled": false
   },
   "outputs": [
    {
     "data": {
      "text/html": [
       "<img src=\"images/figures/laufzeiten_HESF6.png\" alt=\"Laufzeiten in verschiedenen Helium/SF6-Gemischen. Dazu lineare Regression um die Mittlere Geschwindigkeit zu bestimmen.\" style=\"display: block;margin-left: auto;margin-right: auto\">\n",
       "<p style=\"text-align:center\">Laufzeiten in verschiedenen Helium/SF6-Gemischen. Dazu lineare Regression um die Mittlere Geschwindigkeit zu bestimmen.</p>\n"
      ],
      "text/latex": [
       "\\begin{figure*}[!htbp]\n",
       "    \\begin{center}\\adjustimage{max size={0.9\\linewidth}{0.4\\paperheight}}{images/figures/laufzeiten_HESF6.pdf}\\end{center}\n",
       "    \\caption{Laufzeiten in verschiedenen Helium/SF6-Gemischen. Dazu lineare Regression um die Mittlere Geschwindigkeit zu bestimmen.}\n",
       "    \\label{fig:laufzeiten_HESF6}\n",
       "\\end{figure*}\n",
       "        "
      ],
      "text/plain": [
       "<PrettyFigure.PrettyFigure at 0x10a182470>"
      ]
     },
     "metadata": {},
     "output_type": "display_data"
    }
   ],
   "source": [
    "# Laufzeitenmethode Helium-SF6-Gemisch\n",
    "import collections\n",
    "\n",
    "# Read Data\n",
    "dfb = pd.read_csv('data/laufzeitmethode.csv')\n",
    "ax = None\n",
    "colors = ['blue', 'green', 'red', 'purple']\n",
    "results['helium']['sf6'] = {}\n",
    "v_exp = []\n",
    "for i in range(1, 5):\n",
    "    i /= 5\n",
    "    df = dfb.loc[dfb['gas1'] == 'helium'].loc[dfb['gas2'] == 'sf6'].loc[dfb['p'] == i]\n",
    "    slope, intercept, sem, r, p = stats.linregress(df['t'], df['s'])\n",
    "    v_exp.append(slope)\n",
    "    n = np.linspace(0.0, df['t'][29 + i * 15] * 2, 100)\n",
    "\n",
    "    results['helium']['sf6']['0{}_l_df'.format(int(i * 10))] = df\n",
    "    results['helium']['sf6']['0{}_l_slope'.format(int(i * 10))] = slope\n",
    "    results['helium']['sf6']['0{}_l_intercept'.format(int(i * 10))] = intercept\n",
    "    results['helium']['sf6']['0{}_l_sem'.format(int(i * 10))] = sem\n",
    "    \n",
    "    if i == 0.2:\n",
    "        ax = df.plot(kind='scatter', x='t', y='s', label='gemessene Laufzeit', color=colors[int(i * 5) - 1])\n",
    "    else:\n",
    "        plt.scatter(df['t'], df['s'], axes=ax, label=None, color=colors[int(i * 5) - 1])\n",
    "    plt.plot(n, [i * slope + intercept for i in n], label='Laufzeit ({:.1f}\\% Helium, {:.1f}\\% SF6)'.format(i, 1 - i), axes=ax, color=colors[int(i * 5) - 1])\n",
    "    plt.xlabel('Laufzeit [s]')\n",
    "    plt.ylabel('Strecke [m]')\n",
    "    plt.legend(bbox_to_anchor=(0.02, 0.98), loc=2, borderaxespad=0.2)\n",
    "    i += 0.2\n",
    "plt.xlim([0, 0.006])\n",
    "plt.close()\n",
    "figure = PrettyFigure(\n",
    "    ax.figure,\n",
    "    label='fig:laufzeiten_HESF6',\n",
    "    caption='Laufzeiten in verschiedenen Helium/SF6-Gemischen. Dazu lineare Regression um die Mittlere Geschwindigkeit zu bestimmen.')\n",
    "figure.show()"
   ]
  },
  {
   "cell_type": "code",
   "execution_count": 38,
   "metadata": {
    "ExecuteTime": {
     "end_time": "2017-01-11T11:02:06.983879",
     "start_time": "2017-01-11T11:02:05.489548"
    },
    "code_folding": [],
    "collapsed": false
   },
   "outputs": [
    {
     "data": {
      "text/html": [
       "<img src=\"images/figures/laufzeiten_vgl.png\" alt=\"Laufzeiten in Helium/SF6-Gemischen. Experimentelle Werte verglichen mit den berechneten.\" style=\"display: block;margin-left: auto;margin-right: auto\">\n",
       "<p style=\"text-align:center\">Laufzeiten in Helium/SF6-Gemischen. Experimentelle Werte verglichen mit den berechneten.</p>\n"
      ],
      "text/latex": [
       "\\begin{figure*}[!htbp]\n",
       "    \\begin{center}\\adjustimage{max size={0.9\\linewidth}{0.4\\paperheight}}{images/figures/laufzeiten_vgl.pdf}\\end{center}\n",
       "    \\caption{Laufzeiten in Helium/SF6-Gemischen. Experimentelle Werte verglichen mit den berechneten.}\n",
       "    \\label{fig:laufzeiten_vgl}\n",
       "\\end{figure*}\n",
       "        "
      ],
      "text/plain": [
       "<PrettyFigure.PrettyFigure at 0x10d767240>"
      ]
     },
     "metadata": {},
     "output_type": "display_data"
    }
   ],
   "source": [
    "# Literature & Calcs\n",
    "\n",
    "T = 21.3 + 273.15\n",
    "Ri = 287\n",
    "K = 1.402\n",
    "\n",
    "results['luft']['luft']['berechnet'] = math.sqrt(K * Ri * T)\n",
    "results['luft']['luft']['literatur'] = 343\n",
    "\n",
    "Ri = 2078\n",
    "K = 1.63\n",
    "\n",
    "results['helium']['helium']['berechnet'] = math.sqrt(K * Ri * T)\n",
    "results['helium']['helium']['literatur'] = 971\n",
    "\n",
    "Ri = 56.92\n",
    "K = 1.012\n",
    "\n",
    "results['sf6']['sf6']['berechnet'] = math.sqrt(K * Ri * T)\n",
    "results['sf6']['sf6']['literatur'] = 129\n",
    "\n",
    "cp1 = cp[1]\n",
    "cp2 = cp[2]\n",
    "cv1 = cv[1]\n",
    "cv2 = cv[2]\n",
    "RL1 = ri[1]\n",
    "RL2 = ri[2]\n",
    "m1 = 0.2\n",
    "m2 = 0.8\n",
    "s1 = (m1 * cp1) + (m2 * cp2)\n",
    "s2 = (m1 + cv1) + (m2 * cv2)\n",
    "s3 = (m1 + RL1) + (m2 * RL2)\n",
    "results['helium']['sf6']['02_l_berechnet'] = math.sqrt(s1 / s2 * s3 * T)\n",
    "\n",
    "m1 = 0.4\n",
    "m2 = 0.6\n",
    "s1 = (m1 * cp1) + (m2 * cp2)\n",
    "s2 = (m1 + cv1) + (m2 * cv2)\n",
    "s3 = (m1 + RL1) + (m2 * RL2)\n",
    "results['helium']['sf6']['04_l_berechnet'] = math.sqrt(s1 / s2 * s3 * T)\n",
    "\n",
    "m1 = 0.6\n",
    "m2 = 0.4\n",
    "s1 = (m1 * cp1) + (m2 * cp2)\n",
    "s2 = (m1 + cv1) + (m2 * cv2)\n",
    "s3 = (m1 + RL1) + (m2 * RL2)\n",
    "results['helium']['sf6']['06_l_berechnet'] = math.sqrt(s1 / s2 * s3 * T)\n",
    "\n",
    "m1 = 0.8\n",
    "m2 = 0.2\n",
    "s1 = (m1 * cp1) + (m2 * cp2)\n",
    "s2 = (m1 + cv1) + (m2 * cv2)\n",
    "s3 = (m1 + RL1) + (m2 * RL2)\n",
    "results['helium']['sf6']['08_l_berechnet'] = math.sqrt(s1 / s2 * s3 * T)\n",
    "\n",
    "p = [p for p in np.linspace(0, 1, 1000)]\n",
    "v = [math.sqrt(((n * cp1) + ((1 - n) * cp2)) / ((n + cv1) + ((1 - n) * cv2)) * ((n + RL1) + ((1 - n) * RL2)) * T) for n in p]\n",
    "fig = plt.figure()\n",
    "plt.plot(p, v, label='errechnete Laufzeit')\n",
    "plt.scatter([0.2, 0.4, 0.6, 0.8], v_exp, label='experimentelle Laufzeit')\n",
    "plt.xlabel('Heliumanteil')\n",
    "plt.ylabel('Schallgeschwindigkeit [v]')\n",
    "plt.xlim([0, 1])\n",
    "plt.close()\n",
    "figure = PrettyFigure(\n",
    "    fig,\n",
    "    label='fig:laufzeiten_vgl',\n",
    "    caption='Laufzeiten in Helium/SF6-Gemischen. Experimentelle Werte verglichen mit den berechneten.')\n",
    "figure.show()"
   ]
  },
  {
   "cell_type": "raw",
   "metadata": {},
   "source": [
    "\\newpage"
   ]
  },
  {
   "cell_type": "markdown",
   "metadata": {},
   "source": [
    "# Fehlerrechnung\n",
    "\n",
    "Wie in der nachfolgenden Sektion ersichtlich ist, hält sich der statistische Fehler sehr in Grenzen. Der systematische Fehler sollte durch die Lineare Regression ebenfalls durch den Offset kompensiert werden.\n",
    "\n",
    "## Resonanzmethode\n",
    "\n",
    "Hier wurde nur eine Distanz zwischen den Maximas gemessen. Besser wäre drei oder gar vier zu messen und dann zwischen den Werten ebenfalls noch eine lineare Regression anzustellen. Würde man den versuch noch einmal durchführen, so müsste man das sicher tun. Das von Auge ablesen am Oszilloskop erache ich als eher wenig kritisch, da das Bild relativ gut gezoomt werden kann und man schon kleinste Änderungen bemerkt.\n",
    "\n",
    "## Gasgemische\n",
    "\n",
    "Bei den Gasgemischen gibt es natürlich die sehr hohe Fehlerquelle des Abmischens. Das Behältnis muss jedes Mal komplett geleert werden und dann wiede befüllt. Das Ablesen am Manometer ist nicht unbeding das  genaueste Pozedere. Jedoch schätze ich es so ein dass man die Gemische auf ein Prozent genau abmischen kann. Jedoch wird dieses eine Prozent unter der Wurzel verrechnet was dann den Fehler noch vergrössert.\n",
    "Hier müsste man eine Fehlerkorrektur machen. Aus diese wurde hier aber verzichtet, da wie im nächsten Abschnitt erläutert wahrscheinlich sowieso ein Messfehler vorliegt und man deshlab die Daten noch einmal erheben müsste."
   ]
  },
  {
   "cell_type": "raw",
   "metadata": {},
   "source": [
    "\\newpage"
   ]
  },
  {
   "cell_type": "markdown",
   "metadata": {},
   "source": [
    "# Resultate und Diskussion\n",
    "\n",
    "## Reine Gase\n",
    "\n",
    "Wie Tabelle \\ref{tab:resultat_rein} entnommen werden kann fallen die Resultate äusserst zufriedenstellend aus.\n",
    "Bei der Laufzeitmethode sowie der Resonanzmethode in der Luft gibt es praktisch keine Abweichung (< 1%) von Literaturwerten.\n",
    "Bei SF6 sieht es ähnlich aus. Beim Helium gibt es auf den Ersten Blick krassere Unterschiede. Wenn man aber genauer hinschaut, merkt man, dass die Werte insgesamt um Faktor 3 grösser sind als bei der Luftmessung und somit auch der Relative Fehler. Er er wird zwar ein wenig grösser, bleibt aber immernoch < 5%.\n",
    "\n",
    "Spannend finde ich die Tatsache, dass die Resonanzmethode näher am Literaturwert liegt, da diese der Annahme nach ungenauer sein müsste. Bei Luft und SF6 war dies auch tatsächlich der Fall."
   ]
  },
  {
   "cell_type": "code",
   "execution_count": 37,
   "metadata": {
    "ExecuteTime": {
     "end_time": "2017-01-11T10:59:53.781387",
     "start_time": "2017-01-11T10:59:53.760807"
    },
    "code_folding": [
     0
    ],
    "collapsed": false
   },
   "outputs": [
    {
     "data": {
      "text/html": [
       "<table style=\"margin:auto;\"><tr><td>Wert</td><td>Laufzeitmethode $v_{L}$</td><td>stat. Fehler</td><td>Resonanzmethode $v_{R}$</td><td>stat. Fehler</td><td>berechnet</td><td>Literatur</td></tr><tr><td>Luft</td><td>344.46$\\frac{m}{s}$</td><td>1.00$\\frac{m}{s}$</td><td>348.65$\\frac{m}{s}$</td><td>1.00$\\frac{m}{s}$</td><td>344.21$\\frac{m}{s}$</td><td>343.00$\\frac{m}{s}$</td></tr><tr><td>Helium</td><td>934.63$\\frac{m}{s}$</td><td>1.00$\\frac{m}{s}$</td><td>942.59$\\frac{m}{s}$</td><td>1.00$\\frac{m}{s}$</td><td>998.67$\\frac{m}{s}$</td><td>971.00$\\frac{m}{s}$</td></tr><tr><td>SF6</td><td>135.74$\\frac{m}{s}$</td><td>1.00$\\frac{m}{s}$</td><td>136.26$\\frac{m}{s}$</td><td>1.00$\\frac{m}{s}$</td><td>130.24$\\frac{m}{s}$</td><td>129.00$\\frac{m}{s}$</td></tr></table><p style=\"text-align:center\">Resultate aus den Versuchen mit reinen Gasen.</p>"
      ],
      "text/latex": [
       "\\begin{longtable}[H]{@{}lllllll@{}}\n",
       "\\toprule\\addlinespace\n",
       "Wert & Laufzeitmethode $v_{L}$ & stat. Fehler & Resonanzmethode $v_{R}$ & stat. Fehler & berechnet & Literatur\\\\\\addlinespace \n",
       "\\midrule\\endhead\n",
       "Luft & 344.46$\\frac{m}{s}$ & 1.00$\\frac{m}{s}$ & 348.65$\\frac{m}{s}$ & 1.00$\\frac{m}{s}$ & 344.21$\\frac{m}{s}$ & 343.00$\\frac{m}{s}$\\\\\\addlinespace \n",
       "Helium & 934.63$\\frac{m}{s}$ & 1.00$\\frac{m}{s}$ & 942.59$\\frac{m}{s}$ & 1.00$\\frac{m}{s}$ & 998.67$\\frac{m}{s}$ & 971.00$\\frac{m}{s}$\\\\\\addlinespace \n",
       "SF6 & 135.74$\\frac{m}{s}$ & 1.00$\\frac{m}{s}$ & 136.26$\\frac{m}{s}$ & 1.00$\\frac{m}{s}$ & 130.24$\\frac{m}{s}$ & 129.00$\\frac{m}{s}$\\\\\\addlinespace \n",
       "\\\\\\bottomrule\\caption{Resultate aus den Versuchen mit reinen Gasen.}\\\\\\label{tab:resultat_rein}\n",
       " \\end{longtable}"
      ],
      "text/plain": [
       "[['Wert',\n",
       "  'Laufzeitmethode $v_{L}$',\n",
       "  'stat. Fehler',\n",
       "  'Resonanzmethode $v_{R}$',\n",
       "  'stat. Fehler',\n",
       "  'berechnet',\n",
       "  'Literatur'],\n",
       " ('Luft',\n",
       "  '344.46$\\\\frac{m}{s}$',\n",
       "  '1.00$\\\\frac{m}{s}$',\n",
       "  '348.65$\\\\frac{m}{s}$',\n",
       "  '1.00$\\\\frac{m}{s}$',\n",
       "  '344.21$\\\\frac{m}{s}$',\n",
       "  '343.00$\\\\frac{m}{s}$'),\n",
       " ('Helium',\n",
       "  '934.63$\\\\frac{m}{s}$',\n",
       "  '1.00$\\\\frac{m}{s}$',\n",
       "  '942.59$\\\\frac{m}{s}$',\n",
       "  '1.00$\\\\frac{m}{s}$',\n",
       "  '998.67$\\\\frac{m}{s}$',\n",
       "  '971.00$\\\\frac{m}{s}$'),\n",
       " ('SF6',\n",
       "  '135.74$\\\\frac{m}{s}$',\n",
       "  '1.00$\\\\frac{m}{s}$',\n",
       "  '136.26$\\\\frac{m}{s}$',\n",
       "  '1.00$\\\\frac{m}{s}$',\n",
       "  '130.24$\\\\frac{m}{s}$',\n",
       "  '129.00$\\\\frac{m}{s}$')]"
      ]
     },
     "metadata": {},
     "output_type": "display_data"
    }
   ],
   "source": [
    "# Show results\n",
    "\n",
    "values = [\n",
    "    'Luft',\n",
    "    'Helium',\n",
    "    'SF6'\n",
    "]\n",
    "means_l = [\n",
    "    '{0:.2f}'.format(results['luft']['luft']['1_l_slope']) + r'$\\frac{m}{s}$',\n",
    "    '{0:.2f}'.format(results['helium']['helium']['1_l_slope']) + r'$\\frac{m}{s}$',\n",
    "    '{0:.2f}'.format(results['sf6']['sf6']['1_l_slope']) + r'$\\frac{m}{s}$'\n",
    "]\n",
    "\n",
    "means_r = [\n",
    "    '{0:.2f}'.format(results['luft']['luft']['1_r_slope']) + r'$\\frac{m}{s}$',\n",
    "    '{0:.2f}'.format(results['helium']['helium']['1_r_slope']) + r'$\\frac{m}{s}$',\n",
    "    '{0:.2f}'.format(results['sf6']['sf6']['1_r_slope']) + r'$\\frac{m}{s}$'\n",
    "]\n",
    "\n",
    "sem_l = [\n",
    "    '{0:.2f}'.format(results['luft']['luft']['1_l_sem']) + r'$\\frac{m}{s}$',\n",
    "    '{0:.2f}'.format(results['helium']['helium']['1_l_sem']) + r'$\\frac{m}{s}$',\n",
    "    '{0:.2f}'.format(results['sf6']['sf6']['1_l_sem']) + r'$\\frac{m}{s}$'\n",
    "]\n",
    "\n",
    "sem_r = [\n",
    "    '{0:.2f}'.format(results['luft']['luft']['1_r_sem']) + r'$\\frac{m}{s}$',\n",
    "    '{0:.2f}'.format(results['helium']['helium']['1_r_sem']) + r'$\\frac{m}{s}$',\n",
    "    '{0:.2f}'.format(results['sf6']['sf6']['1_r_sem']) + r'$\\frac{m}{s}$'\n",
    "]\n",
    "\n",
    "berechnet = [\n",
    "    '{0:.2f}'.format(results['luft']['luft']['berechnet']) + r'$\\frac{m}{s}$',\n",
    "    '{0:.2f}'.format(results['helium']['helium']['berechnet']) + r'$\\frac{m}{s}$',\n",
    "    '{0:.2f}'.format(results['sf6']['sf6']['berechnet']) + r'$\\frac{m}{s}$'\n",
    "]\n",
    "\n",
    "literatur = [\n",
    "    '{0:.2f}'.format(results['luft']['luft']['literatur']) + r'$\\frac{m}{s}$',\n",
    "    '{0:.2f}'.format(results['helium']['helium']['literatur']) + r'$\\frac{m}{s}$',\n",
    "    '{0:.2f}'.format(results['sf6']['sf6']['literatur']) + r'$\\frac{m}{s}$'\n",
    "]\n",
    "\n",
    "v2_results_tbl = PrettyTable(\n",
    "    list(zip(values, means_l, sem_l, means_r, sem_r, berechnet, literatur)),\n",
    "    label='tab:resultat_rein',\n",
    "    caption='Resultate aus den Versuchen mit reinen Gasen.',\n",
    "    extra_header=[\n",
    "        'Wert',\n",
    "        'Laufzeitmethode $v_{L}$',\n",
    "        'stat. Fehler',\n",
    "        'Resonanzmethode $v_{R}$',\n",
    "        'stat. Fehler',\n",
    "        'berechnet',\n",
    "        'Literatur'\n",
    "    ], entries_per_column=3)\n",
    "v2_results_tbl.show()"
   ]
  },
  {
   "cell_type": "markdown",
   "metadata": {},
   "source": [
    "## Gasgemische\n",
    "\n",
    "In der Tabelle \\ref{tab:resultat_gasgemisch} kann einfach erkannt werden, dass die experimentell bestimmten Werte absolut nicht übereinstimmen mit den berechneten Werten. Beide Resultatreihen würden einzeln aber plausibel aussehen, wobei die berechnete Reihe in Anbetracht der Konstanten von SF6 und Helium stimmen müsste. Helium hat viel Grössere Werte für $c_v$, $c_p$, $R_i$ und zwar um jeweils etwa eine Grössenordnung. Somit fallen sie in der verwendeten Formel \\ref{eq:v_spez} viel stärker isn Gewicht, weshalb die Schallgeschwindigkeiten näher bei Helium liegen müssten als bei SF6.\n",
    "Leider lag es nicht im Zeitlichen Rahmen und dem des Praktikums, die Messung noch einmal zu machen. Jedoch müsste diese noch einmal durchgeführt werden und verifiziert werden, dass diese tatsächlich stimmt. Erst dann kann man den Fehler in der Mathematik suchen. Da die Werte mit exakt derselben Formel für die Laufzeit berechnet wurden wie bei den reinen Gasen und da die Werte stimmten, ist anzunehmen dass tatsächlich ein Messfehler vorliegt. Die Form der er errechneten Kurve stimmt auch definitiv mit der von $y =\\sqrt{x}$ überein."
   ]
  },
  {
   "cell_type": "code",
   "execution_count": 12,
   "metadata": {
    "ExecuteTime": {
     "end_time": "2017-01-11T09:57:01.569372",
     "start_time": "2017-01-11T09:57:01.556288"
    },
    "code_folding": [
     0
    ],
    "collapsed": false
   },
   "outputs": [
    {
     "data": {
      "text/html": [
       "<table style=\"margin:auto;\"><tr><td>Helium / SF6</td><td>mit Laufzeitmethode $v_{L}$</td><td>statistischer Fehler</td><td>berechnet</td></tr><tr><td>20% / 80%</td><td>156.46$\\frac{m}{s}$</td><td>1.00$\\frac{m}{s}$</td><td>500.73$\\frac{m}{s}$</td></tr><tr><td>40% / 60%</td><td>195.42$\\frac{m}{s}$</td><td>1.00$\\frac{m}{s}$</td><td>622.07$\\frac{m}{s}$</td></tr><tr><td>60% / 40%</td><td>208.91$\\frac{m}{s}$</td><td>1.00$\\frac{m}{s}$</td><td>719.13$\\frac{m}{s}$</td></tr><tr><td>80% / 20%</td><td>291.10$\\frac{m}{s}$</td><td>1.00$\\frac{m}{s}$</td><td>800.97$\\frac{m}{s}$</td></tr></table><p style=\"text-align:center\">Resultate aus dem Versuch mit den Gasgemischen.</p>"
      ],
      "text/latex": [
       "\\begin{longtable}[H]{@{}llll@{}}\n",
       "\\toprule\\addlinespace\n",
       "Helium / SF6 & mit Laufzeitmethode $v_{L}$ & statistischer Fehler & berechnet\\\\\\addlinespace \n",
       "\\midrule\\endhead\n",
       "20\\% / 80\\% & 156.46$\\frac{m}{s}$ & 1.00$\\frac{m}{s}$ & 500.73$\\frac{m}{s}$\\\\\\addlinespace \n",
       "40\\% / 60\\% & 195.42$\\frac{m}{s}$ & 1.00$\\frac{m}{s}$ & 622.07$\\frac{m}{s}$\\\\\\addlinespace \n",
       "60\\% / 40\\% & 208.91$\\frac{m}{s}$ & 1.00$\\frac{m}{s}$ & 719.13$\\frac{m}{s}$\\\\\\addlinespace \n",
       "80\\% / 20\\% & 291.10$\\frac{m}{s}$ & 1.00$\\frac{m}{s}$ & 800.97$\\frac{m}{s}$\\\\\\addlinespace \n",
       "\\\\\\bottomrule\\caption{Resultate aus dem Versuch mit den Gasgemischen.}\\\\\\label{tab:resultat_gasgemisch}\n",
       " \\end{longtable}"
      ],
      "text/plain": [
       "[['Helium / SF6',\n",
       "  'mit Laufzeitmethode $v_{L}$',\n",
       "  'statistischer Fehler',\n",
       "  'berechnet'],\n",
       " ('20% / 80%',\n",
       "  '156.46$\\\\frac{m}{s}$',\n",
       "  '1.00$\\\\frac{m}{s}$',\n",
       "  '500.73$\\\\frac{m}{s}$'),\n",
       " ('40% / 60%',\n",
       "  '195.42$\\\\frac{m}{s}$',\n",
       "  '1.00$\\\\frac{m}{s}$',\n",
       "  '622.07$\\\\frac{m}{s}$'),\n",
       " ('60% / 40%',\n",
       "  '208.91$\\\\frac{m}{s}$',\n",
       "  '1.00$\\\\frac{m}{s}$',\n",
       "  '719.13$\\\\frac{m}{s}$'),\n",
       " ('80% / 20%',\n",
       "  '291.10$\\\\frac{m}{s}$',\n",
       "  '1.00$\\\\frac{m}{s}$',\n",
       "  '800.97$\\\\frac{m}{s}$')]"
      ]
     },
     "metadata": {},
     "output_type": "display_data"
    }
   ],
   "source": [
    "# Show results\n",
    "\n",
    "values = [\n",
    "    '20% / 80%',\n",
    "    '40% / 60%',\n",
    "    '60% / 40%',\n",
    "    '80% / 20%'\n",
    "]\n",
    "means_x = [\n",
    "    '{0:.2f}'.format(results['helium']['sf6']['02_l_slope']) + r'$\\frac{m}{s}$',\n",
    "    '{0:.2f}'.format(results['helium']['sf6']['04_l_slope']) + r'$\\frac{m}{s}$',\n",
    "    '{0:.2f}'.format(results['helium']['sf6']['06_l_slope']) + r'$\\frac{m}{s}$',\n",
    "    '{0:.2f}'.format(results['helium']['sf6']['08_l_slope']) + r'$\\frac{m}{s}$'\n",
    "]\n",
    "\n",
    "sem_x = [\n",
    "    '{0:.2f}'.format(results['helium']['sf6']['02_l_sem']) + r'$\\frac{m}{s}$',\n",
    "    '{0:.2f}'.format(results['helium']['sf6']['04_l_sem']) + r'$\\frac{m}{s}$',\n",
    "    '{0:.2f}'.format(results['helium']['sf6']['06_l_sem']) + r'$\\frac{m}{s}$',\n",
    "    '{0:.2f}'.format(results['helium']['sf6']['08_l_sem']) + r'$\\frac{m}{s}$'\n",
    "]\n",
    "\n",
    "berechnet_x = [\n",
    "    '{0:.2f}'.format(results['helium']['sf6']['02_l_berechnet']) + r'$\\frac{m}{s}$',\n",
    "    '{0:.2f}'.format(results['helium']['sf6']['04_l_berechnet']) + r'$\\frac{m}{s}$',\n",
    "    '{0:.2f}'.format(results['helium']['sf6']['06_l_berechnet']) + r'$\\frac{m}{s}$',\n",
    "    '{0:.2f}'.format(results['helium']['sf6']['08_l_berechnet']) + r'$\\frac{m}{s}$'\n",
    "]\n",
    "\n",
    "v2_results_tbl = PrettyTable(\n",
    "    list(zip(values, means_x, sem_x, berechnet_x)),\n",
    "    label='tab:resultat_gasgemisch',\n",
    "    caption='Resultate aus dem Versuch mit den Gasgemischen.',\n",
    "    extra_header=[\n",
    "        'Helium / SF6',\n",
    "        'mit Laufzeitmethode $v_{L}$',\n",
    "        'statistischer Fehler',\n",
    "        'berechnet',\n",
    "    ], entries_per_column=4)\n",
    "v2_results_tbl.show()"
   ]
  }
 ],
 "metadata": {
  "celltoolbar": "Edit Metadata",
  "kernelspec": {
   "display_name": "Python 3",
   "language": "python",
   "name": "python3"
  },
  "language_info": {
   "codemirror_mode": {
    "name": "ipython",
    "version": 3
   },
   "file_extension": ".py",
   "mimetype": "text/x-python",
   "name": "python",
   "nbconvert_exporter": "python",
   "pygments_lexer": "ipython3",
   "version": "3.5.1"
  },
  "toc": {
   "nav_menu": {
    "height": "372px",
    "width": "252px"
   },
   "navigate_menu": true,
   "number_sections": true,
   "sideBar": true,
   "threshold": 4,
   "toc_cell": false,
   "toc_section_display": "block",
   "toc_window_display": false
  }
 },
 "nbformat": 4,
 "nbformat_minor": 1
}
